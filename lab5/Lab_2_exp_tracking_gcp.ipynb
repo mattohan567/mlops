{
 "cells": [
  {
   "attachments": {},
   "cell_type": "markdown",
   "metadata": {},
   "source": [
    "# Experiment Tracking with MLFlow (Local)\n",
    "\n",
    "In this demo we will see how to use MLFlow for tracking experiments, using a toy data set. In the attached lab (below), you will download a larger dataset and attempt to train the best model that you can.\n",
    "\n",
    "We should first install mlflow, and add it to the requirements.txt file if not done already.\n",
    "\n",
    "`pip install mlflow` or `python3 -m pip install mlflow`.\n",
    "\n",
    "You may also need to `pip install setuptools`.\n",
    "\n",
    "From here, make sure to save this notebook in a specific folder, and ensure you run all command line commands from the same folder."
   ]
  },
  {
   "cell_type": "code",
   "execution_count": 1,
   "metadata": {},
   "outputs": [],
   "source": [
    "import mlflow\n",
    "import pandas as pd\n",
    "from sklearn.tree import DecisionTreeClassifier\n",
    "from sklearn.datasets import load_wine\n",
    "from sklearn.metrics import accuracy_score"
   ]
  },
  {
   "attachments": {},
   "cell_type": "markdown",
   "metadata": {},
   "source": [
    "After loading the libraries, we can first check the mlflow version you have. And, just for fun, let's look at the mlflow UI by running `mlflow ui`. After this, we should do two things:\n",
    "- set the tracking uri\n",
    "- create or set the experiment\n",
    "\n",
    "Setting the tracking uri tells mlflow where to save the results of our experiments. We will first save these locally in a sqlite instance. In a future lab we will set up mlflow to run in GCP.\n",
    "\n",
    "If you've already created an experiment previously that you'd like to use, you can tell mlflow by setting the experiment. You can also use `set_experiment` even if the experiment has not yet been created - mlflow will first check if the experiment exists, and if not, it will create it for you. "
   ]
  },
  {
   "cell_type": "code",
   "execution_count": 2,
   "metadata": {},
   "outputs": [
    {
     "data": {
      "text/plain": [
       "'2.15.1'"
      ]
     },
     "execution_count": 2,
     "metadata": {},
     "output_type": "execute_result"
    }
   ],
   "source": [
    "mlflow.__version__"
   ]
  },
  {
   "attachments": {},
   "cell_type": "markdown",
   "metadata": {},
   "source": [
    "Running the below code will create a sqlite database and an mlruns folder in the current directory."
   ]
  },
  {
   "cell_type": "code",
   "execution_count": 3,
   "metadata": {},
   "outputs": [
    {
     "name": "stderr",
     "output_type": "stream",
     "text": [
      "2025/04/15 16:57:13 INFO mlflow.tracking.fluent: Experiment with name 'demo-experiment' does not exist. Creating a new experiment.\n"
     ]
    },
    {
     "data": {
      "text/plain": [
       "<Experiment: artifact_location='mlflow-artifacts:/1', creation_time=1744761434001, experiment_id='1', last_update_time=1744761434001, lifecycle_stage='active', name='demo-experiment', tags={}>"
      ]
     },
     "execution_count": 3,
     "metadata": {},
     "output_type": "execute_result"
    }
   ],
   "source": [
    "mlflow.set_tracking_uri('https://lab5-service1-658438304896.us-west2.run.app')\n",
    "mlflow.set_experiment('demo-experiment')"
   ]
  },
  {
   "attachments": {},
   "cell_type": "markdown",
   "metadata": {},
   "source": [
    "From here, we can load the wine data from sklearn and take a look at it. Then let's play around with some models, without using mlflow for now, to get a sense of why mlflow might come in handy."
   ]
  },
  {
   "cell_type": "code",
   "execution_count": 4,
   "metadata": {},
   "outputs": [
    {
     "data": {
      "text/html": [
       "<div>\n",
       "<style scoped>\n",
       "    .dataframe tbody tr th:only-of-type {\n",
       "        vertical-align: middle;\n",
       "    }\n",
       "\n",
       "    .dataframe tbody tr th {\n",
       "        vertical-align: top;\n",
       "    }\n",
       "\n",
       "    .dataframe thead th {\n",
       "        text-align: right;\n",
       "    }\n",
       "</style>\n",
       "<table border=\"1\" class=\"dataframe\">\n",
       "  <thead>\n",
       "    <tr style=\"text-align: right;\">\n",
       "      <th></th>\n",
       "      <th>alcohol</th>\n",
       "      <th>malic_acid</th>\n",
       "      <th>ash</th>\n",
       "      <th>alcalinity_of_ash</th>\n",
       "      <th>magnesium</th>\n",
       "      <th>total_phenols</th>\n",
       "      <th>flavanoids</th>\n",
       "      <th>nonflavanoid_phenols</th>\n",
       "      <th>proanthocyanins</th>\n",
       "      <th>color_intensity</th>\n",
       "      <th>hue</th>\n",
       "      <th>od280/od315_of_diluted_wines</th>\n",
       "      <th>proline</th>\n",
       "    </tr>\n",
       "  </thead>\n",
       "  <tbody>\n",
       "    <tr>\n",
       "      <th>0</th>\n",
       "      <td>14.23</td>\n",
       "      <td>1.71</td>\n",
       "      <td>2.43</td>\n",
       "      <td>15.6</td>\n",
       "      <td>127.0</td>\n",
       "      <td>2.80</td>\n",
       "      <td>3.06</td>\n",
       "      <td>0.28</td>\n",
       "      <td>2.29</td>\n",
       "      <td>5.64</td>\n",
       "      <td>1.04</td>\n",
       "      <td>3.92</td>\n",
       "      <td>1065.0</td>\n",
       "    </tr>\n",
       "    <tr>\n",
       "      <th>1</th>\n",
       "      <td>13.20</td>\n",
       "      <td>1.78</td>\n",
       "      <td>2.14</td>\n",
       "      <td>11.2</td>\n",
       "      <td>100.0</td>\n",
       "      <td>2.65</td>\n",
       "      <td>2.76</td>\n",
       "      <td>0.26</td>\n",
       "      <td>1.28</td>\n",
       "      <td>4.38</td>\n",
       "      <td>1.05</td>\n",
       "      <td>3.40</td>\n",
       "      <td>1050.0</td>\n",
       "    </tr>\n",
       "    <tr>\n",
       "      <th>2</th>\n",
       "      <td>13.16</td>\n",
       "      <td>2.36</td>\n",
       "      <td>2.67</td>\n",
       "      <td>18.6</td>\n",
       "      <td>101.0</td>\n",
       "      <td>2.80</td>\n",
       "      <td>3.24</td>\n",
       "      <td>0.30</td>\n",
       "      <td>2.81</td>\n",
       "      <td>5.68</td>\n",
       "      <td>1.03</td>\n",
       "      <td>3.17</td>\n",
       "      <td>1185.0</td>\n",
       "    </tr>\n",
       "  </tbody>\n",
       "</table>\n",
       "</div>"
      ],
      "text/plain": [
       "   alcohol  malic_acid   ash  alcalinity_of_ash  magnesium  total_phenols  \\\n",
       "0    14.23        1.71  2.43               15.6      127.0           2.80   \n",
       "1    13.20        1.78  2.14               11.2      100.0           2.65   \n",
       "2    13.16        2.36  2.67               18.6      101.0           2.80   \n",
       "\n",
       "   flavanoids  nonflavanoid_phenols  proanthocyanins  color_intensity   hue  \\\n",
       "0        3.06                  0.28             2.29             5.64  1.04   \n",
       "1        2.76                  0.26             1.28             4.38  1.05   \n",
       "2        3.24                  0.30             2.81             5.68  1.03   \n",
       "\n",
       "   od280/od315_of_diluted_wines  proline  \n",
       "0                          3.92   1065.0  \n",
       "1                          3.40   1050.0  \n",
       "2                          3.17   1185.0  "
      ]
     },
     "execution_count": 4,
     "metadata": {},
     "output_type": "execute_result"
    }
   ],
   "source": [
    "wine = load_wine()\n",
    "df_wine = pd.DataFrame(data=wine.data, columns=wine.feature_names)\n",
    "df_wine.head(3)"
   ]
  },
  {
   "cell_type": "code",
   "execution_count": 5,
   "metadata": {},
   "outputs": [
    {
     "data": {
      "text/html": [
       "<style>#sk-container-id-1 {\n",
       "  /* Definition of color scheme common for light and dark mode */\n",
       "  --sklearn-color-text: black;\n",
       "  --sklearn-color-line: gray;\n",
       "  /* Definition of color scheme for unfitted estimators */\n",
       "  --sklearn-color-unfitted-level-0: #fff5e6;\n",
       "  --sklearn-color-unfitted-level-1: #f6e4d2;\n",
       "  --sklearn-color-unfitted-level-2: #ffe0b3;\n",
       "  --sklearn-color-unfitted-level-3: chocolate;\n",
       "  /* Definition of color scheme for fitted estimators */\n",
       "  --sklearn-color-fitted-level-0: #f0f8ff;\n",
       "  --sklearn-color-fitted-level-1: #d4ebff;\n",
       "  --sklearn-color-fitted-level-2: #b3dbfd;\n",
       "  --sklearn-color-fitted-level-3: cornflowerblue;\n",
       "\n",
       "  /* Specific color for light theme */\n",
       "  --sklearn-color-text-on-default-background: var(--sg-text-color, var(--theme-code-foreground, var(--jp-content-font-color1, black)));\n",
       "  --sklearn-color-background: var(--sg-background-color, var(--theme-background, var(--jp-layout-color0, white)));\n",
       "  --sklearn-color-border-box: var(--sg-text-color, var(--theme-code-foreground, var(--jp-content-font-color1, black)));\n",
       "  --sklearn-color-icon: #696969;\n",
       "\n",
       "  @media (prefers-color-scheme: dark) {\n",
       "    /* Redefinition of color scheme for dark theme */\n",
       "    --sklearn-color-text-on-default-background: var(--sg-text-color, var(--theme-code-foreground, var(--jp-content-font-color1, white)));\n",
       "    --sklearn-color-background: var(--sg-background-color, var(--theme-background, var(--jp-layout-color0, #111)));\n",
       "    --sklearn-color-border-box: var(--sg-text-color, var(--theme-code-foreground, var(--jp-content-font-color1, white)));\n",
       "    --sklearn-color-icon: #878787;\n",
       "  }\n",
       "}\n",
       "\n",
       "#sk-container-id-1 {\n",
       "  color: var(--sklearn-color-text);\n",
       "}\n",
       "\n",
       "#sk-container-id-1 pre {\n",
       "  padding: 0;\n",
       "}\n",
       "\n",
       "#sk-container-id-1 input.sk-hidden--visually {\n",
       "  border: 0;\n",
       "  clip: rect(1px 1px 1px 1px);\n",
       "  clip: rect(1px, 1px, 1px, 1px);\n",
       "  height: 1px;\n",
       "  margin: -1px;\n",
       "  overflow: hidden;\n",
       "  padding: 0;\n",
       "  position: absolute;\n",
       "  width: 1px;\n",
       "}\n",
       "\n",
       "#sk-container-id-1 div.sk-dashed-wrapped {\n",
       "  border: 1px dashed var(--sklearn-color-line);\n",
       "  margin: 0 0.4em 0.5em 0.4em;\n",
       "  box-sizing: border-box;\n",
       "  padding-bottom: 0.4em;\n",
       "  background-color: var(--sklearn-color-background);\n",
       "}\n",
       "\n",
       "#sk-container-id-1 div.sk-container {\n",
       "  /* jupyter's `normalize.less` sets `[hidden] { display: none; }`\n",
       "     but bootstrap.min.css set `[hidden] { display: none !important; }`\n",
       "     so we also need the `!important` here to be able to override the\n",
       "     default hidden behavior on the sphinx rendered scikit-learn.org.\n",
       "     See: https://github.com/scikit-learn/scikit-learn/issues/21755 */\n",
       "  display: inline-block !important;\n",
       "  position: relative;\n",
       "}\n",
       "\n",
       "#sk-container-id-1 div.sk-text-repr-fallback {\n",
       "  display: none;\n",
       "}\n",
       "\n",
       "div.sk-parallel-item,\n",
       "div.sk-serial,\n",
       "div.sk-item {\n",
       "  /* draw centered vertical line to link estimators */\n",
       "  background-image: linear-gradient(var(--sklearn-color-text-on-default-background), var(--sklearn-color-text-on-default-background));\n",
       "  background-size: 2px 100%;\n",
       "  background-repeat: no-repeat;\n",
       "  background-position: center center;\n",
       "}\n",
       "\n",
       "/* Parallel-specific style estimator block */\n",
       "\n",
       "#sk-container-id-1 div.sk-parallel-item::after {\n",
       "  content: \"\";\n",
       "  width: 100%;\n",
       "  border-bottom: 2px solid var(--sklearn-color-text-on-default-background);\n",
       "  flex-grow: 1;\n",
       "}\n",
       "\n",
       "#sk-container-id-1 div.sk-parallel {\n",
       "  display: flex;\n",
       "  align-items: stretch;\n",
       "  justify-content: center;\n",
       "  background-color: var(--sklearn-color-background);\n",
       "  position: relative;\n",
       "}\n",
       "\n",
       "#sk-container-id-1 div.sk-parallel-item {\n",
       "  display: flex;\n",
       "  flex-direction: column;\n",
       "}\n",
       "\n",
       "#sk-container-id-1 div.sk-parallel-item:first-child::after {\n",
       "  align-self: flex-end;\n",
       "  width: 50%;\n",
       "}\n",
       "\n",
       "#sk-container-id-1 div.sk-parallel-item:last-child::after {\n",
       "  align-self: flex-start;\n",
       "  width: 50%;\n",
       "}\n",
       "\n",
       "#sk-container-id-1 div.sk-parallel-item:only-child::after {\n",
       "  width: 0;\n",
       "}\n",
       "\n",
       "/* Serial-specific style estimator block */\n",
       "\n",
       "#sk-container-id-1 div.sk-serial {\n",
       "  display: flex;\n",
       "  flex-direction: column;\n",
       "  align-items: center;\n",
       "  background-color: var(--sklearn-color-background);\n",
       "  padding-right: 1em;\n",
       "  padding-left: 1em;\n",
       "}\n",
       "\n",
       "\n",
       "/* Toggleable style: style used for estimator/Pipeline/ColumnTransformer box that is\n",
       "clickable and can be expanded/collapsed.\n",
       "- Pipeline and ColumnTransformer use this feature and define the default style\n",
       "- Estimators will overwrite some part of the style using the `sk-estimator` class\n",
       "*/\n",
       "\n",
       "/* Pipeline and ColumnTransformer style (default) */\n",
       "\n",
       "#sk-container-id-1 div.sk-toggleable {\n",
       "  /* Default theme specific background. It is overwritten whether we have a\n",
       "  specific estimator or a Pipeline/ColumnTransformer */\n",
       "  background-color: var(--sklearn-color-background);\n",
       "}\n",
       "\n",
       "/* Toggleable label */\n",
       "#sk-container-id-1 label.sk-toggleable__label {\n",
       "  cursor: pointer;\n",
       "  display: block;\n",
       "  width: 100%;\n",
       "  margin-bottom: 0;\n",
       "  padding: 0.5em;\n",
       "  box-sizing: border-box;\n",
       "  text-align: center;\n",
       "}\n",
       "\n",
       "#sk-container-id-1 label.sk-toggleable__label-arrow:before {\n",
       "  /* Arrow on the left of the label */\n",
       "  content: \"▸\";\n",
       "  float: left;\n",
       "  margin-right: 0.25em;\n",
       "  color: var(--sklearn-color-icon);\n",
       "}\n",
       "\n",
       "#sk-container-id-1 label.sk-toggleable__label-arrow:hover:before {\n",
       "  color: var(--sklearn-color-text);\n",
       "}\n",
       "\n",
       "/* Toggleable content - dropdown */\n",
       "\n",
       "#sk-container-id-1 div.sk-toggleable__content {\n",
       "  max-height: 0;\n",
       "  max-width: 0;\n",
       "  overflow: hidden;\n",
       "  text-align: left;\n",
       "  /* unfitted */\n",
       "  background-color: var(--sklearn-color-unfitted-level-0);\n",
       "}\n",
       "\n",
       "#sk-container-id-1 div.sk-toggleable__content.fitted {\n",
       "  /* fitted */\n",
       "  background-color: var(--sklearn-color-fitted-level-0);\n",
       "}\n",
       "\n",
       "#sk-container-id-1 div.sk-toggleable__content pre {\n",
       "  margin: 0.2em;\n",
       "  border-radius: 0.25em;\n",
       "  color: var(--sklearn-color-text);\n",
       "  /* unfitted */\n",
       "  background-color: var(--sklearn-color-unfitted-level-0);\n",
       "}\n",
       "\n",
       "#sk-container-id-1 div.sk-toggleable__content.fitted pre {\n",
       "  /* unfitted */\n",
       "  background-color: var(--sklearn-color-fitted-level-0);\n",
       "}\n",
       "\n",
       "#sk-container-id-1 input.sk-toggleable__control:checked~div.sk-toggleable__content {\n",
       "  /* Expand drop-down */\n",
       "  max-height: 200px;\n",
       "  max-width: 100%;\n",
       "  overflow: auto;\n",
       "}\n",
       "\n",
       "#sk-container-id-1 input.sk-toggleable__control:checked~label.sk-toggleable__label-arrow:before {\n",
       "  content: \"▾\";\n",
       "}\n",
       "\n",
       "/* Pipeline/ColumnTransformer-specific style */\n",
       "\n",
       "#sk-container-id-1 div.sk-label input.sk-toggleable__control:checked~label.sk-toggleable__label {\n",
       "  color: var(--sklearn-color-text);\n",
       "  background-color: var(--sklearn-color-unfitted-level-2);\n",
       "}\n",
       "\n",
       "#sk-container-id-1 div.sk-label.fitted input.sk-toggleable__control:checked~label.sk-toggleable__label {\n",
       "  background-color: var(--sklearn-color-fitted-level-2);\n",
       "}\n",
       "\n",
       "/* Estimator-specific style */\n",
       "\n",
       "/* Colorize estimator box */\n",
       "#sk-container-id-1 div.sk-estimator input.sk-toggleable__control:checked~label.sk-toggleable__label {\n",
       "  /* unfitted */\n",
       "  background-color: var(--sklearn-color-unfitted-level-2);\n",
       "}\n",
       "\n",
       "#sk-container-id-1 div.sk-estimator.fitted input.sk-toggleable__control:checked~label.sk-toggleable__label {\n",
       "  /* fitted */\n",
       "  background-color: var(--sklearn-color-fitted-level-2);\n",
       "}\n",
       "\n",
       "#sk-container-id-1 div.sk-label label.sk-toggleable__label,\n",
       "#sk-container-id-1 div.sk-label label {\n",
       "  /* The background is the default theme color */\n",
       "  color: var(--sklearn-color-text-on-default-background);\n",
       "}\n",
       "\n",
       "/* On hover, darken the color of the background */\n",
       "#sk-container-id-1 div.sk-label:hover label.sk-toggleable__label {\n",
       "  color: var(--sklearn-color-text);\n",
       "  background-color: var(--sklearn-color-unfitted-level-2);\n",
       "}\n",
       "\n",
       "/* Label box, darken color on hover, fitted */\n",
       "#sk-container-id-1 div.sk-label.fitted:hover label.sk-toggleable__label.fitted {\n",
       "  color: var(--sklearn-color-text);\n",
       "  background-color: var(--sklearn-color-fitted-level-2);\n",
       "}\n",
       "\n",
       "/* Estimator label */\n",
       "\n",
       "#sk-container-id-1 div.sk-label label {\n",
       "  font-family: monospace;\n",
       "  font-weight: bold;\n",
       "  display: inline-block;\n",
       "  line-height: 1.2em;\n",
       "}\n",
       "\n",
       "#sk-container-id-1 div.sk-label-container {\n",
       "  text-align: center;\n",
       "}\n",
       "\n",
       "/* Estimator-specific */\n",
       "#sk-container-id-1 div.sk-estimator {\n",
       "  font-family: monospace;\n",
       "  border: 1px dotted var(--sklearn-color-border-box);\n",
       "  border-radius: 0.25em;\n",
       "  box-sizing: border-box;\n",
       "  margin-bottom: 0.5em;\n",
       "  /* unfitted */\n",
       "  background-color: var(--sklearn-color-unfitted-level-0);\n",
       "}\n",
       "\n",
       "#sk-container-id-1 div.sk-estimator.fitted {\n",
       "  /* fitted */\n",
       "  background-color: var(--sklearn-color-fitted-level-0);\n",
       "}\n",
       "\n",
       "/* on hover */\n",
       "#sk-container-id-1 div.sk-estimator:hover {\n",
       "  /* unfitted */\n",
       "  background-color: var(--sklearn-color-unfitted-level-2);\n",
       "}\n",
       "\n",
       "#sk-container-id-1 div.sk-estimator.fitted:hover {\n",
       "  /* fitted */\n",
       "  background-color: var(--sklearn-color-fitted-level-2);\n",
       "}\n",
       "\n",
       "/* Specification for estimator info (e.g. \"i\" and \"?\") */\n",
       "\n",
       "/* Common style for \"i\" and \"?\" */\n",
       "\n",
       ".sk-estimator-doc-link,\n",
       "a:link.sk-estimator-doc-link,\n",
       "a:visited.sk-estimator-doc-link {\n",
       "  float: right;\n",
       "  font-size: smaller;\n",
       "  line-height: 1em;\n",
       "  font-family: monospace;\n",
       "  background-color: var(--sklearn-color-background);\n",
       "  border-radius: 1em;\n",
       "  height: 1em;\n",
       "  width: 1em;\n",
       "  text-decoration: none !important;\n",
       "  margin-left: 1ex;\n",
       "  /* unfitted */\n",
       "  border: var(--sklearn-color-unfitted-level-1) 1pt solid;\n",
       "  color: var(--sklearn-color-unfitted-level-1);\n",
       "}\n",
       "\n",
       ".sk-estimator-doc-link.fitted,\n",
       "a:link.sk-estimator-doc-link.fitted,\n",
       "a:visited.sk-estimator-doc-link.fitted {\n",
       "  /* fitted */\n",
       "  border: var(--sklearn-color-fitted-level-1) 1pt solid;\n",
       "  color: var(--sklearn-color-fitted-level-1);\n",
       "}\n",
       "\n",
       "/* On hover */\n",
       "div.sk-estimator:hover .sk-estimator-doc-link:hover,\n",
       ".sk-estimator-doc-link:hover,\n",
       "div.sk-label-container:hover .sk-estimator-doc-link:hover,\n",
       ".sk-estimator-doc-link:hover {\n",
       "  /* unfitted */\n",
       "  background-color: var(--sklearn-color-unfitted-level-3);\n",
       "  color: var(--sklearn-color-background);\n",
       "  text-decoration: none;\n",
       "}\n",
       "\n",
       "div.sk-estimator.fitted:hover .sk-estimator-doc-link.fitted:hover,\n",
       ".sk-estimator-doc-link.fitted:hover,\n",
       "div.sk-label-container:hover .sk-estimator-doc-link.fitted:hover,\n",
       ".sk-estimator-doc-link.fitted:hover {\n",
       "  /* fitted */\n",
       "  background-color: var(--sklearn-color-fitted-level-3);\n",
       "  color: var(--sklearn-color-background);\n",
       "  text-decoration: none;\n",
       "}\n",
       "\n",
       "/* Span, style for the box shown on hovering the info icon */\n",
       ".sk-estimator-doc-link span {\n",
       "  display: none;\n",
       "  z-index: 9999;\n",
       "  position: relative;\n",
       "  font-weight: normal;\n",
       "  right: .2ex;\n",
       "  padding: .5ex;\n",
       "  margin: .5ex;\n",
       "  width: min-content;\n",
       "  min-width: 20ex;\n",
       "  max-width: 50ex;\n",
       "  color: var(--sklearn-color-text);\n",
       "  box-shadow: 2pt 2pt 4pt #999;\n",
       "  /* unfitted */\n",
       "  background: var(--sklearn-color-unfitted-level-0);\n",
       "  border: .5pt solid var(--sklearn-color-unfitted-level-3);\n",
       "}\n",
       "\n",
       ".sk-estimator-doc-link.fitted span {\n",
       "  /* fitted */\n",
       "  background: var(--sklearn-color-fitted-level-0);\n",
       "  border: var(--sklearn-color-fitted-level-3);\n",
       "}\n",
       "\n",
       ".sk-estimator-doc-link:hover span {\n",
       "  display: block;\n",
       "}\n",
       "\n",
       "/* \"?\"-specific style due to the `<a>` HTML tag */\n",
       "\n",
       "#sk-container-id-1 a.estimator_doc_link {\n",
       "  float: right;\n",
       "  font-size: 1rem;\n",
       "  line-height: 1em;\n",
       "  font-family: monospace;\n",
       "  background-color: var(--sklearn-color-background);\n",
       "  border-radius: 1rem;\n",
       "  height: 1rem;\n",
       "  width: 1rem;\n",
       "  text-decoration: none;\n",
       "  /* unfitted */\n",
       "  color: var(--sklearn-color-unfitted-level-1);\n",
       "  border: var(--sklearn-color-unfitted-level-1) 1pt solid;\n",
       "}\n",
       "\n",
       "#sk-container-id-1 a.estimator_doc_link.fitted {\n",
       "  /* fitted */\n",
       "  border: var(--sklearn-color-fitted-level-1) 1pt solid;\n",
       "  color: var(--sklearn-color-fitted-level-1);\n",
       "}\n",
       "\n",
       "/* On hover */\n",
       "#sk-container-id-1 a.estimator_doc_link:hover {\n",
       "  /* unfitted */\n",
       "  background-color: var(--sklearn-color-unfitted-level-3);\n",
       "  color: var(--sklearn-color-background);\n",
       "  text-decoration: none;\n",
       "}\n",
       "\n",
       "#sk-container-id-1 a.estimator_doc_link.fitted:hover {\n",
       "  /* fitted */\n",
       "  background-color: var(--sklearn-color-fitted-level-3);\n",
       "}\n",
       "</style><div id=\"sk-container-id-1\" class=\"sk-top-container\"><div class=\"sk-text-repr-fallback\"><pre>DecisionTreeClassifier(max_depth=4)</pre><b>In a Jupyter environment, please rerun this cell to show the HTML representation or trust the notebook. <br />On GitHub, the HTML representation is unable to render, please try loading this page with nbviewer.org.</b></div><div class=\"sk-container\" hidden><div class=\"sk-item\"><div class=\"sk-estimator fitted sk-toggleable\"><input class=\"sk-toggleable__control sk-hidden--visually\" id=\"sk-estimator-id-1\" type=\"checkbox\" checked><label for=\"sk-estimator-id-1\" class=\"sk-toggleable__label fitted sk-toggleable__label-arrow fitted\">&nbsp;&nbsp;DecisionTreeClassifier<a class=\"sk-estimator-doc-link fitted\" rel=\"noreferrer\" target=\"_blank\" href=\"https://scikit-learn.org/1.5/modules/generated/sklearn.tree.DecisionTreeClassifier.html\">?<span>Documentation for DecisionTreeClassifier</span></a><span class=\"sk-estimator-doc-link fitted\">i<span>Fitted</span></span></label><div class=\"sk-toggleable__content fitted\"><pre>DecisionTreeClassifier(max_depth=4)</pre></div> </div></div></div></div>"
      ],
      "text/plain": [
       "DecisionTreeClassifier(max_depth=4)"
      ]
     },
     "execution_count": 5,
     "metadata": {},
     "output_type": "execute_result"
    }
   ],
   "source": [
    "y = wine.target\n",
    "X = df_wine\n",
    "dt = DecisionTreeClassifier(max_depth=4)\n",
    "dt.fit(X, y)"
   ]
  },
  {
   "cell_type": "code",
   "execution_count": 6,
   "metadata": {},
   "outputs": [
    {
     "data": {
      "text/plain": [
       "0.9887640449438202"
      ]
     },
     "execution_count": 6,
     "metadata": {},
     "output_type": "execute_result"
    }
   ],
   "source": [
    "accuracy_score(y, dt.predict(df_wine))"
   ]
  },
  {
   "attachments": {},
   "cell_type": "markdown",
   "metadata": {},
   "source": [
    "## Train a Model Using MLFLow\n",
    "\n",
    "In this section, let's train a simple decision tree model, where we will now adjust the maximum depth (`max_depth`) of the tree, and save the results of each run of the experiment using mlflow. To do so, we need to tell mlflow to start recording. We do this with `start_run`. \n",
    "\n",
    "The things we might want to record in this simple case are:\n",
    "- the value of `max_depth`\n",
    "- the corresponding accuracy of the model\n",
    "\n",
    "We can also tag each run to make it easier to identify them later.\n",
    "\n",
    "After running the below code, be sure to check the mlflow UI by running the following in the terminal from the same directory as where you saved this notebook:\n",
    "\n",
    "`mlflow ui` note that just running this you will not see any of your experiments. You must specify the uri (the place where all of your results are being stored)\n",
    "\n",
    "`mlflow ui --backend-store-uri sqlite:///mlflow.db`"
   ]
  },
  {
   "cell_type": "code",
   "execution_count": null,
   "metadata": {},
   "outputs": [],
   "source": []
  },
  {
   "cell_type": "code",
   "execution_count": 7,
   "metadata": {},
   "outputs": [
    {
     "name": "stderr",
     "output_type": "stream",
     "text": [
      "2025/04/15 16:57:14 INFO mlflow.tracking._tracking_service.client: 🏃 View run resilient-snake-290 at: https://lab5-service1-658438304896.us-west2.run.app/#/experiments/1/runs/89fd4a8908de416aa3e7405d5c94bf41.\n",
      "2025/04/15 16:57:14 INFO mlflow.tracking._tracking_service.client: 🧪 View experiment at: https://lab5-service1-658438304896.us-west2.run.app/#/experiments/1.\n"
     ]
    }
   ],
   "source": [
    "with mlflow.start_run():\n",
    "    # log parameters and log metrics\n",
    "    # parameters: hyperparameters\n",
    "    # metrics: model performance metrics\n",
    "\n",
    "    mlflow.set_tags({\"Model\":\"decision-tree\", \"Train Data\": \"all-data\"})\n",
    "\n",
    "    tree_depth = 5\n",
    "    dt = DecisionTreeClassifier(max_depth=tree_depth)\n",
    "    dt.fit(X, y)\n",
    "    acc = accuracy_score(y, dt.predict(df_wine))\n",
    "\n",
    "    mlflow.log_param(\"max_depth\", tree_depth)\n",
    "    mlflow.log_metric(\"accuracy\", acc)\n",
    "\n",
    "mlflow.end_run()"
   ]
  },
  {
   "attachments": {},
   "cell_type": "markdown",
   "metadata": {},
   "source": [
    "Let's do it again, but this time we'll use a random forest, which has some other hyperparameters we can tune, which makes keeping track of things a little more complex without a tool like mlflow."
   ]
  },
  {
   "cell_type": "code",
   "execution_count": 8,
   "metadata": {},
   "outputs": [
    {
     "name": "stderr",
     "output_type": "stream",
     "text": [
      "2025/04/15 16:57:15 INFO mlflow.tracking._tracking_service.client: 🏃 View run unique-midge-779 at: https://lab5-service1-658438304896.us-west2.run.app/#/experiments/1/runs/c0bd8ae8724c4ca4a36882862244e670.\n",
      "2025/04/15 16:57:15 INFO mlflow.tracking._tracking_service.client: 🧪 View experiment at: https://lab5-service1-658438304896.us-west2.run.app/#/experiments/1.\n"
     ]
    }
   ],
   "source": [
    "from sklearn.ensemble import RandomForestClassifier\n",
    "\n",
    "with mlflow.start_run():\n",
    "    mlflow.set_tags({\"Model\":\"random-forest\", \"Train Data\": \"all-data\"})\n",
    "\n",
    "    ntree = 1000\n",
    "    mtry = 4\n",
    "\n",
    "    mlflow.log_params({'n_estimators':ntree, 'max_features':mtry})\n",
    "\n",
    "    rf = RandomForestClassifier(n_estimators = ntree, max_features = mtry, oob_score = True)\n",
    "    rf.fit(X,y)\n",
    "    acc = rf.oob_score_\n",
    "    #acc = accuracy_score(y, rf.predict(X))\n",
    "    mlflow.log_metric('accuracy', acc)\n",
    "\n",
    "mlflow.end_run()"
   ]
  },
  {
   "attachments": {},
   "cell_type": "markdown",
   "metadata": {},
   "source": [
    "Typically, in a real-world scenario, you wouldn't change your parameter values manually and re-run your code, you would either use a loop to loop through different parameter values, or you'd use a built-in method for doing cross-validation, of which there are a few. First, let's use a simple loop to run the experiment multiple times, and save the results of each run."
   ]
  },
  {
   "cell_type": "code",
   "execution_count": 9,
   "metadata": {},
   "outputs": [
    {
     "name": "stderr",
     "output_type": "stream",
     "text": [
      "2025/04/15 16:57:16 INFO mlflow.tracking._tracking_service.client: 🏃 View run calm-horse-199 at: https://lab5-service1-658438304896.us-west2.run.app/#/experiments/1/runs/a3248887d3b0485d881b72f83d7014d1.\n",
      "2025/04/15 16:57:16 INFO mlflow.tracking._tracking_service.client: 🧪 View experiment at: https://lab5-service1-658438304896.us-west2.run.app/#/experiments/1.\n",
      "2025/04/15 16:57:16 INFO mlflow.tracking._tracking_service.client: 🏃 View run bemused-mare-939 at: https://lab5-service1-658438304896.us-west2.run.app/#/experiments/1/runs/7da66794a4184b799cff5f57e5860c5b.\n",
      "2025/04/15 16:57:16 INFO mlflow.tracking._tracking_service.client: 🧪 View experiment at: https://lab5-service1-658438304896.us-west2.run.app/#/experiments/1.\n",
      "2025/04/15 16:57:16 INFO mlflow.tracking._tracking_service.client: 🏃 View run valuable-koi-169 at: https://lab5-service1-658438304896.us-west2.run.app/#/experiments/1/runs/d27a0ba58f4a45b5b72b8e25b91b0888.\n",
      "2025/04/15 16:57:16 INFO mlflow.tracking._tracking_service.client: 🧪 View experiment at: https://lab5-service1-658438304896.us-west2.run.app/#/experiments/1.\n",
      "2025/04/15 16:57:17 INFO mlflow.tracking._tracking_service.client: 🏃 View run gentle-horse-436 at: https://lab5-service1-658438304896.us-west2.run.app/#/experiments/1/runs/1591ff7b8ac844a0bcb3256a7a76b4cc.\n",
      "2025/04/15 16:57:17 INFO mlflow.tracking._tracking_service.client: 🧪 View experiment at: https://lab5-service1-658438304896.us-west2.run.app/#/experiments/1.\n",
      "2025/04/15 16:57:17 INFO mlflow.tracking._tracking_service.client: 🏃 View run skittish-finch-30 at: https://lab5-service1-658438304896.us-west2.run.app/#/experiments/1/runs/08a289013362464294ef7d3ff16f9e2c.\n",
      "2025/04/15 16:57:17 INFO mlflow.tracking._tracking_service.client: 🧪 View experiment at: https://lab5-service1-658438304896.us-west2.run.app/#/experiments/1.\n",
      "2025/04/15 16:57:17 INFO mlflow.tracking._tracking_service.client: 🏃 View run inquisitive-crab-462 at: https://lab5-service1-658438304896.us-west2.run.app/#/experiments/1/runs/b3e3237dd64849f98595d03df46f5ae0.\n",
      "2025/04/15 16:57:17 INFO mlflow.tracking._tracking_service.client: 🧪 View experiment at: https://lab5-service1-658438304896.us-west2.run.app/#/experiments/1.\n",
      "2025/04/15 16:57:18 INFO mlflow.tracking._tracking_service.client: 🏃 View run vaunted-stag-909 at: https://lab5-service1-658438304896.us-west2.run.app/#/experiments/1/runs/16cd5c98085943d480cd264f587cac79.\n",
      "2025/04/15 16:57:18 INFO mlflow.tracking._tracking_service.client: 🧪 View experiment at: https://lab5-service1-658438304896.us-west2.run.app/#/experiments/1.\n",
      "2025/04/15 16:57:18 INFO mlflow.tracking._tracking_service.client: 🏃 View run indecisive-hare-465 at: https://lab5-service1-658438304896.us-west2.run.app/#/experiments/1/runs/e8e764c8635b4cd784011f9a7fa449ca.\n",
      "2025/04/15 16:57:18 INFO mlflow.tracking._tracking_service.client: 🧪 View experiment at: https://lab5-service1-658438304896.us-west2.run.app/#/experiments/1.\n",
      "2025/04/15 16:57:19 INFO mlflow.tracking._tracking_service.client: 🏃 View run unequaled-skunk-637 at: https://lab5-service1-658438304896.us-west2.run.app/#/experiments/1/runs/20ee536851e4495fb4d1c60c3b05d101.\n",
      "2025/04/15 16:57:19 INFO mlflow.tracking._tracking_service.client: 🧪 View experiment at: https://lab5-service1-658438304896.us-west2.run.app/#/experiments/1.\n",
      "2025/04/15 16:57:19 INFO mlflow.tracking._tracking_service.client: 🏃 View run adventurous-slug-528 at: https://lab5-service1-658438304896.us-west2.run.app/#/experiments/1/runs/76666d052f324ddf9e3cb95ce8eb89df.\n",
      "2025/04/15 16:57:19 INFO mlflow.tracking._tracking_service.client: 🧪 View experiment at: https://lab5-service1-658438304896.us-west2.run.app/#/experiments/1.\n",
      "2025/04/15 16:57:19 INFO mlflow.tracking._tracking_service.client: 🏃 View run fortunate-seal-890 at: https://lab5-service1-658438304896.us-west2.run.app/#/experiments/1/runs/606353d4454c41e59948cd234342a37f.\n",
      "2025/04/15 16:57:19 INFO mlflow.tracking._tracking_service.client: 🧪 View experiment at: https://lab5-service1-658438304896.us-west2.run.app/#/experiments/1.\n",
      "2025/04/15 16:57:20 INFO mlflow.tracking._tracking_service.client: 🏃 View run likeable-koi-682 at: https://lab5-service1-658438304896.us-west2.run.app/#/experiments/1/runs/b358ec251e8b4a3692ee61553c907f82.\n",
      "2025/04/15 16:57:20 INFO mlflow.tracking._tracking_service.client: 🧪 View experiment at: https://lab5-service1-658438304896.us-west2.run.app/#/experiments/1.\n",
      "2025/04/15 16:57:20 INFO mlflow.tracking._tracking_service.client: 🏃 View run magnificent-asp-953 at: https://lab5-service1-658438304896.us-west2.run.app/#/experiments/1/runs/79838fbc4b4d40d8ad4a16b2524c50e7.\n",
      "2025/04/15 16:57:20 INFO mlflow.tracking._tracking_service.client: 🧪 View experiment at: https://lab5-service1-658438304896.us-west2.run.app/#/experiments/1.\n",
      "2025/04/15 16:57:21 INFO mlflow.tracking._tracking_service.client: 🏃 View run likeable-snipe-735 at: https://lab5-service1-658438304896.us-west2.run.app/#/experiments/1/runs/2e4c7ba1422e4ef99b5d59bc8ca019e1.\n",
      "2025/04/15 16:57:21 INFO mlflow.tracking._tracking_service.client: 🧪 View experiment at: https://lab5-service1-658438304896.us-west2.run.app/#/experiments/1.\n",
      "2025/04/15 16:57:21 INFO mlflow.tracking._tracking_service.client: 🏃 View run fun-flea-449 at: https://lab5-service1-658438304896.us-west2.run.app/#/experiments/1/runs/69c73a412404418a985072e73a6a9b58.\n",
      "2025/04/15 16:57:21 INFO mlflow.tracking._tracking_service.client: 🧪 View experiment at: https://lab5-service1-658438304896.us-west2.run.app/#/experiments/1.\n"
     ]
    }
   ],
   "source": [
    "ntrees = [20,40,60,80,100]\n",
    "mtrys = [3,4,5]\n",
    "for i in ntrees:\n",
    "    for j in mtrys:\n",
    "        with mlflow.start_run():\n",
    "            mlflow.set_tags({\"Model\":\"random-forest\", \"Train Data\": \"all-data\"})\n",
    "\n",
    "            mlflow.log_params({'n_estimators':i, 'max_features':j})\n",
    "\n",
    "            rf = RandomForestClassifier(n_estimators = i, max_features = j, oob_score = True)\n",
    "            rf.fit(X,y)\n",
    "            acc = rf.oob_score_\n",
    "            #acc = accuracy_score(y, rf.predict(X))\n",
    "            mlflow.log_metric('accuracy', acc)\n",
    "        mlflow.end_run()"
   ]
  },
  {
   "attachments": {},
   "cell_type": "markdown",
   "metadata": {},
   "source": [
    "## Training a Model with mlflow and hyperopt\n",
    "\n",
    "One way of tuning your model is to use the `hyperopt` library. `hyperopt` is a library that does hyperparameter tuning, and does so in a way that makes it easy for mlflow to keep track of the results. \n",
    "\n",
    "First, install the libraries you don't have, and then load them below. We do not use `hyperopt` much in the class, so if you don't want to add it to your requirements.txt file, you don't have to.\n",
    "\n",
    "For this exercise, we'll split the data into training and validation, and then we'll train decision trees and random forests and use `hyperopt` to do the hyperparameter tuning and find the best model for us."
   ]
  },
  {
   "cell_type": "code",
   "execution_count": 10,
   "metadata": {},
   "outputs": [],
   "source": [
    "from hyperopt import fmin, tpe, hp, STATUS_OK, Trials\n",
    "from sklearn.model_selection import cross_val_score, train_test_split\n",
    "\n",
    "X_train, X_test, y_train, y_test = train_test_split(X, y, test_size=0.2, shuffle=True)"
   ]
  },
  {
   "attachments": {},
   "cell_type": "markdown",
   "metadata": {},
   "source": [
    "From the above we will use `cross_val_score` for our metric, `fmin` is used by `hyperopt` to do the tuning, `tpe` (Tree of Parzen Estimators) is the algorithm used to search the hyperparameter space,  `hp` has methods we need to use for defining our search space, `STATUS_OK` is a status message that each run completed, and `Trials` keeps track of each run."
   ]
  },
  {
   "cell_type": "code",
   "execution_count": 11,
   "metadata": {},
   "outputs": [],
   "source": [
    "def objective(params):\n",
    "    with mlflow.start_run():\n",
    "        classifier_type = params['type']\n",
    "        del params['type']\n",
    "        if classifier_type == 'dt':\n",
    "            clf = DecisionTreeClassifier(**params)\n",
    "        elif classifier_type == 'rf':\n",
    "            clf = RandomForestClassifier(**params)        \n",
    "        else:\n",
    "            return 0\n",
    "        acc = cross_val_score(clf, X, y).mean()\n",
    "\n",
    "        mlflow.set_tag(\"Model\", classifier_type)\n",
    "        mlflow.log_params(params)\n",
    "        mlflow.log_metric(\"accuracy\", acc)\n",
    "        mlflow.end_run()\n",
    "        return {'loss': -acc, 'status': STATUS_OK}\n",
    "\n",
    "search_space = hp.choice('classifier_type', [\n",
    "    {\n",
    "        'type': 'dt',\n",
    "        'criterion': hp.choice('dtree_criterion', ['gini', 'entropy']),\n",
    "        'max_depth': hp.choice('dtree_max_depth', [None, hp.randint('dtree_max_depth_int', 1,10)]),\n",
    "        'min_samples_split': hp.randint('dtree_min_samples_split', 2,10)\n",
    "    },\n",
    "    {\n",
    "        'type': 'rf',\n",
    "        'n_estimators': hp.randint('rf_n_estimators', 20, 500),\n",
    "        'max_features': hp.randint('rf_max_features', 2,9),\n",
    "        'criterion': hp.choice('criterion', ['gini', 'entropy'])\n",
    "    },\n",
    "])\n",
    "\n",
    "algo = tpe.suggest\n",
    "trials = Trials()"
   ]
  },
  {
   "cell_type": "code",
   "execution_count": 12,
   "metadata": {},
   "outputs": [
    {
     "name": "stdout",
     "output_type": "stream",
     "text": [
      "  0%|          | 0/32 [00:00<?, ?trial/s, best loss=?]"
     ]
    },
    {
     "name": "stderr",
     "output_type": "stream",
     "text": [
      "2025/04/15 16:57:22 INFO mlflow.tracking._tracking_service.client: 🏃 View run loud-cub-705 at: https://lab5-service1-658438304896.us-west2.run.app/#/experiments/1/runs/f834c749641b435891d2972274f7890e.\n",
      "\n",
      "2025/04/15 16:57:22 INFO mlflow.tracking._tracking_service.client: 🧪 View experiment at: https://lab5-service1-658438304896.us-west2.run.app/#/experiments/1.\n",
      "\n"
     ]
    },
    {
     "name": "stdout",
     "output_type": "stream",
     "text": [
      "  3%|▎         | 1/32 [00:00<00:14,  2.10trial/s, best loss: -0.9776190476190475]"
     ]
    },
    {
     "name": "stderr",
     "output_type": "stream",
     "text": [
      "2025/04/15 16:57:22 INFO mlflow.tracking._tracking_service.client: 🏃 View run chill-sponge-545 at: https://lab5-service1-658438304896.us-west2.run.app/#/experiments/1/runs/6a91385eaef8455d9b55c15b4b6622ad.\n",
      "\n",
      "2025/04/15 16:57:22 INFO mlflow.tracking._tracking_service.client: 🧪 View experiment at: https://lab5-service1-658438304896.us-west2.run.app/#/experiments/1.\n",
      "\n"
     ]
    },
    {
     "name": "stdout",
     "output_type": "stream",
     "text": [
      "  6%|▋         | 2/32 [00:00<00:11,  2.59trial/s, best loss: -0.9776190476190475]"
     ]
    },
    {
     "name": "stderr",
     "output_type": "stream",
     "text": [
      "2025/04/15 16:57:22 INFO mlflow.tracking._tracking_service.client: 🏃 View run charming-calf-574 at: https://lab5-service1-658438304896.us-west2.run.app/#/experiments/1/runs/12be0eaf588740b28be87a02b7286914.\n",
      "\n",
      "2025/04/15 16:57:22 INFO mlflow.tracking._tracking_service.client: 🧪 View experiment at: https://lab5-service1-658438304896.us-west2.run.app/#/experiments/1.\n",
      "\n"
     ]
    },
    {
     "name": "stdout",
     "output_type": "stream",
     "text": [
      "  9%|▉         | 3/32 [00:01<00:14,  2.00trial/s, best loss: -0.9776190476190475]"
     ]
    },
    {
     "name": "stderr",
     "output_type": "stream",
     "text": [
      "2025/04/15 16:57:23 INFO mlflow.tracking._tracking_service.client: 🏃 View run brawny-auk-274 at: https://lab5-service1-658438304896.us-west2.run.app/#/experiments/1/runs/3d977b5bc31b4e7d94ce243dbac8079a.\n",
      "\n",
      "2025/04/15 16:57:23 INFO mlflow.tracking._tracking_service.client: 🧪 View experiment at: https://lab5-service1-658438304896.us-west2.run.app/#/experiments/1.\n",
      "\n"
     ]
    },
    {
     "name": "stdout",
     "output_type": "stream",
     "text": [
      " 12%|█▎        | 4/32 [00:01<00:12,  2.31trial/s, best loss: -0.9776190476190475]"
     ]
    },
    {
     "name": "stderr",
     "output_type": "stream",
     "text": [
      "2025/04/15 16:57:23 INFO mlflow.tracking._tracking_service.client: 🏃 View run rare-crane-636 at: https://lab5-service1-658438304896.us-west2.run.app/#/experiments/1/runs/92cd536fc3dd4c5cbe86622e52ef9c02.\n",
      "\n",
      "2025/04/15 16:57:23 INFO mlflow.tracking._tracking_service.client: 🧪 View experiment at: https://lab5-service1-658438304896.us-west2.run.app/#/experiments/1.\n",
      "\n"
     ]
    },
    {
     "name": "stdout",
     "output_type": "stream",
     "text": [
      " 16%|█▌        | 5/32 [00:02<00:10,  2.51trial/s, best loss: -0.9776190476190475]"
     ]
    },
    {
     "name": "stderr",
     "output_type": "stream",
     "text": [
      "2025/04/15 16:57:24 INFO mlflow.tracking._tracking_service.client: 🏃 View run melodic-fawn-828 at: https://lab5-service1-658438304896.us-west2.run.app/#/experiments/1/runs/c034e7352d384e2ca6bb42cc15bb1700.\n",
      "\n",
      "2025/04/15 16:57:24 INFO mlflow.tracking._tracking_service.client: 🧪 View experiment at: https://lab5-service1-658438304896.us-west2.run.app/#/experiments/1.\n",
      "\n"
     ]
    },
    {
     "name": "stdout",
     "output_type": "stream",
     "text": [
      " 19%|█▉        | 6/32 [00:02<00:13,  1.89trial/s, best loss: -0.9776190476190475]"
     ]
    },
    {
     "name": "stderr",
     "output_type": "stream",
     "text": [
      "2025/04/15 16:57:25 INFO mlflow.tracking._tracking_service.client: 🏃 View run angry-wasp-60 at: https://lab5-service1-658438304896.us-west2.run.app/#/experiments/1/runs/3e778326c5d94a04bbd12faf00133511.\n",
      "\n",
      "2025/04/15 16:57:25 INFO mlflow.tracking._tracking_service.client: 🧪 View experiment at: https://lab5-service1-658438304896.us-west2.run.app/#/experiments/1.\n",
      "\n"
     ]
    },
    {
     "name": "stdout",
     "output_type": "stream",
     "text": [
      " 22%|██▏       | 7/32 [00:04<00:19,  1.25trial/s, best loss: -0.9776190476190475]"
     ]
    },
    {
     "name": "stderr",
     "output_type": "stream",
     "text": [
      "2025/04/15 16:57:27 INFO mlflow.tracking._tracking_service.client: 🏃 View run awesome-crow-372 at: https://lab5-service1-658438304896.us-west2.run.app/#/experiments/1/runs/80a1277d177f4acf8d23b13f004a1330.\n",
      "\n",
      "2025/04/15 16:57:27 INFO mlflow.tracking._tracking_service.client: 🧪 View experiment at: https://lab5-service1-658438304896.us-west2.run.app/#/experiments/1.\n",
      "\n"
     ]
    },
    {
     "name": "stdout",
     "output_type": "stream",
     "text": [
      " 25%|██▌       | 8/32 [00:05<00:22,  1.05trial/s, best loss: -0.9776190476190475]"
     ]
    },
    {
     "name": "stderr",
     "output_type": "stream",
     "text": [
      "2025/04/15 16:57:27 INFO mlflow.tracking._tracking_service.client: 🏃 View run puzzled-bass-0 at: https://lab5-service1-658438304896.us-west2.run.app/#/experiments/1/runs/9eadd58bf6ad45e198f4fa5e84ee3816.\n",
      "\n",
      "2025/04/15 16:57:27 INFO mlflow.tracking._tracking_service.client: 🧪 View experiment at: https://lab5-service1-658438304896.us-west2.run.app/#/experiments/1.\n",
      "\n"
     ]
    },
    {
     "name": "stdout",
     "output_type": "stream",
     "text": [
      " 28%|██▊       | 9/32 [00:05<00:17,  1.33trial/s, best loss: -0.9776190476190475]"
     ]
    },
    {
     "name": "stderr",
     "output_type": "stream",
     "text": [
      "2025/04/15 16:57:28 INFO mlflow.tracking._tracking_service.client: 🏃 View run nervous-chimp-33 at: https://lab5-service1-658438304896.us-west2.run.app/#/experiments/1/runs/af783687f4c74562b84d0bcb4eaa2470.\n",
      "\n",
      "2025/04/15 16:57:28 INFO mlflow.tracking._tracking_service.client: 🧪 View experiment at: https://lab5-service1-658438304896.us-west2.run.app/#/experiments/1.\n",
      "\n"
     ]
    },
    {
     "name": "stdout",
     "output_type": "stream",
     "text": [
      " 31%|███▏      | 10/32 [00:07<00:19,  1.10trial/s, best loss: -0.9776190476190475]"
     ]
    },
    {
     "name": "stderr",
     "output_type": "stream",
     "text": [
      "2025/04/15 16:57:29 INFO mlflow.tracking._tracking_service.client: 🏃 View run gregarious-shark-718 at: https://lab5-service1-658438304896.us-west2.run.app/#/experiments/1/runs/41145d9be0e14a8f93b2946d587f8c67.\n",
      "\n",
      "2025/04/15 16:57:29 INFO mlflow.tracking._tracking_service.client: 🧪 View experiment at: https://lab5-service1-658438304896.us-west2.run.app/#/experiments/1.\n",
      "\n"
     ]
    },
    {
     "name": "stdout",
     "output_type": "stream",
     "text": [
      " 34%|███▍      | 11/32 [00:07<00:16,  1.26trial/s, best loss: -0.9776190476190475]"
     ]
    },
    {
     "name": "stderr",
     "output_type": "stream",
     "text": [
      "2025/04/15 16:57:29 INFO mlflow.tracking._tracking_service.client: 🏃 View run shivering-skunk-913 at: https://lab5-service1-658438304896.us-west2.run.app/#/experiments/1/runs/f1886a5c673b4612bbf67ca8a318d763.\n",
      "\n",
      "2025/04/15 16:57:29 INFO mlflow.tracking._tracking_service.client: 🧪 View experiment at: https://lab5-service1-658438304896.us-west2.run.app/#/experiments/1.\n",
      "\n"
     ]
    },
    {
     "name": "stdout",
     "output_type": "stream",
     "text": [
      " 38%|███▊      | 12/32 [00:07<00:12,  1.56trial/s, best loss: -0.9776190476190475]"
     ]
    },
    {
     "name": "stderr",
     "output_type": "stream",
     "text": [
      "2025/04/15 16:57:29 INFO mlflow.tracking._tracking_service.client: 🏃 View run burly-tern-704 at: https://lab5-service1-658438304896.us-west2.run.app/#/experiments/1/runs/f83ae02e3e034424aa7ab58ca290ea07.\n",
      "\n",
      "2025/04/15 16:57:29 INFO mlflow.tracking._tracking_service.client: 🧪 View experiment at: https://lab5-service1-658438304896.us-west2.run.app/#/experiments/1.\n",
      "\n"
     ]
    },
    {
     "name": "stdout",
     "output_type": "stream",
     "text": [
      " 41%|████      | 13/32 [00:08<00:10,  1.85trial/s, best loss: -0.9776190476190475]"
     ]
    },
    {
     "name": "stderr",
     "output_type": "stream",
     "text": [
      "2025/04/15 16:57:30 INFO mlflow.tracking._tracking_service.client: 🏃 View run selective-asp-882 at: https://lab5-service1-658438304896.us-west2.run.app/#/experiments/1/runs/0729725a0e4e4e2fb718f93727432a98.\n",
      "\n",
      "2025/04/15 16:57:30 INFO mlflow.tracking._tracking_service.client: 🧪 View experiment at: https://lab5-service1-658438304896.us-west2.run.app/#/experiments/1.\n",
      "\n"
     ]
    },
    {
     "name": "stdout",
     "output_type": "stream",
     "text": [
      " 44%|████▍     | 14/32 [00:08<00:08,  2.14trial/s, best loss: -0.9776190476190475]"
     ]
    },
    {
     "name": "stderr",
     "output_type": "stream",
     "text": [
      "2025/04/15 16:57:31 INFO mlflow.tracking._tracking_service.client: 🏃 View run tasteful-asp-542 at: https://lab5-service1-658438304896.us-west2.run.app/#/experiments/1/runs/90b52ab7ab454274a950aa76202ce419.\n",
      "\n",
      "2025/04/15 16:57:31 INFO mlflow.tracking._tracking_service.client: 🧪 View experiment at: https://lab5-service1-658438304896.us-west2.run.app/#/experiments/1.\n",
      "\n"
     ]
    },
    {
     "name": "stdout",
     "output_type": "stream",
     "text": [
      " 47%|████▋     | 15/32 [00:09<00:11,  1.46trial/s, best loss: -0.9776190476190475]"
     ]
    },
    {
     "name": "stderr",
     "output_type": "stream",
     "text": [
      "2025/04/15 16:57:31 INFO mlflow.tracking._tracking_service.client: 🏃 View run redolent-wren-886 at: https://lab5-service1-658438304896.us-west2.run.app/#/experiments/1/runs/6f7500b087d44103ba1eaeedacfa621c.\n",
      "\n",
      "2025/04/15 16:57:31 INFO mlflow.tracking._tracking_service.client: 🧪 View experiment at: https://lab5-service1-658438304896.us-west2.run.app/#/experiments/1.\n",
      "\n"
     ]
    },
    {
     "name": "stdout",
     "output_type": "stream",
     "text": [
      " 50%|█████     | 16/32 [00:10<00:09,  1.75trial/s, best loss: -0.9776190476190475]"
     ]
    },
    {
     "name": "stderr",
     "output_type": "stream",
     "text": [
      "2025/04/15 16:57:31 INFO mlflow.tracking._tracking_service.client: 🏃 View run flawless-yak-252 at: https://lab5-service1-658438304896.us-west2.run.app/#/experiments/1/runs/873531116b8b463c9c82d6112019f02a.\n",
      "\n",
      "2025/04/15 16:57:31 INFO mlflow.tracking._tracking_service.client: 🧪 View experiment at: https://lab5-service1-658438304896.us-west2.run.app/#/experiments/1.\n",
      "\n"
     ]
    },
    {
     "name": "stdout",
     "output_type": "stream",
     "text": [
      " 53%|█████▎    | 17/32 [00:10<00:07,  1.98trial/s, best loss: -0.9776190476190475]"
     ]
    },
    {
     "name": "stderr",
     "output_type": "stream",
     "text": [
      "2025/04/15 16:57:32 INFO mlflow.tracking._tracking_service.client: 🏃 View run invincible-pig-531 at: https://lab5-service1-658438304896.us-west2.run.app/#/experiments/1/runs/f8d8145d0b0d4f6c9e3fd9bd40160089.\n",
      "\n",
      "2025/04/15 16:57:32 INFO mlflow.tracking._tracking_service.client: 🧪 View experiment at: https://lab5-service1-658438304896.us-west2.run.app/#/experiments/1.\n",
      "\n"
     ]
    },
    {
     "name": "stdout",
     "output_type": "stream",
     "text": [
      " 56%|█████▋    | 18/32 [00:10<00:06,  2.27trial/s, best loss: -0.9776190476190475]"
     ]
    },
    {
     "name": "stderr",
     "output_type": "stream",
     "text": [
      "2025/04/15 16:57:32 INFO mlflow.tracking._tracking_service.client: 🏃 View run adorable-fly-85 at: https://lab5-service1-658438304896.us-west2.run.app/#/experiments/1/runs/6e316d217040453fa6f8bea820ce39bb.\n",
      "\n",
      "2025/04/15 16:57:32 INFO mlflow.tracking._tracking_service.client: 🧪 View experiment at: https://lab5-service1-658438304896.us-west2.run.app/#/experiments/1.\n",
      "\n"
     ]
    },
    {
     "name": "stdout",
     "output_type": "stream",
     "text": [
      " 59%|█████▉    | 19/32 [00:10<00:05,  2.51trial/s, best loss: -0.9776190476190475]"
     ]
    },
    {
     "name": "stderr",
     "output_type": "stream",
     "text": [
      "2025/04/15 16:57:33 INFO mlflow.tracking._tracking_service.client: 🏃 View run salty-doe-375 at: https://lab5-service1-658438304896.us-west2.run.app/#/experiments/1/runs/de956b1f879a4359bf6619017c018ba9.\n",
      "\n",
      "2025/04/15 16:57:33 INFO mlflow.tracking._tracking_service.client: 🧪 View experiment at: https://lab5-service1-658438304896.us-west2.run.app/#/experiments/1.\n",
      "\n"
     ]
    },
    {
     "name": "stdout",
     "output_type": "stream",
     "text": [
      " 62%|██████▎   | 20/32 [00:12<00:07,  1.54trial/s, best loss: -0.9776190476190475]"
     ]
    },
    {
     "name": "stderr",
     "output_type": "stream",
     "text": [
      "2025/04/15 16:57:34 INFO mlflow.tracking._tracking_service.client: 🏃 View run handsome-moth-4 at: https://lab5-service1-658438304896.us-west2.run.app/#/experiments/1/runs/c3c4f3251e0648edb21cdefeb485a93e.\n",
      "\n",
      "2025/04/15 16:57:34 INFO mlflow.tracking._tracking_service.client: 🧪 View experiment at: https://lab5-service1-658438304896.us-west2.run.app/#/experiments/1.\n",
      "\n"
     ]
    },
    {
     "name": "stdout",
     "output_type": "stream",
     "text": [
      " 66%|██████▌   | 21/32 [00:12<00:06,  1.58trial/s, best loss: -0.9776190476190475]"
     ]
    },
    {
     "name": "stderr",
     "output_type": "stream",
     "text": [
      "2025/04/15 16:57:35 INFO mlflow.tracking._tracking_service.client: 🏃 View run flawless-swan-496 at: https://lab5-service1-658438304896.us-west2.run.app/#/experiments/1/runs/43f70168e50649338720f09abc0df2ff.\n",
      "\n",
      "2025/04/15 16:57:35 INFO mlflow.tracking._tracking_service.client: 🧪 View experiment at: https://lab5-service1-658438304896.us-west2.run.app/#/experiments/1.\n",
      "\n"
     ]
    },
    {
     "name": "stdout",
     "output_type": "stream",
     "text": [
      " 69%|██████▉   | 22/32 [00:14<00:08,  1.15trial/s, best loss: -0.9776190476190475]"
     ]
    },
    {
     "name": "stderr",
     "output_type": "stream",
     "text": [
      "2025/04/15 16:57:36 INFO mlflow.tracking._tracking_service.client: 🏃 View run glamorous-auk-597 at: https://lab5-service1-658438304896.us-west2.run.app/#/experiments/1/runs/9cc5119588c144798e488096961a1340.\n",
      "\n",
      "2025/04/15 16:57:36 INFO mlflow.tracking._tracking_service.client: 🧪 View experiment at: https://lab5-service1-658438304896.us-west2.run.app/#/experiments/1.\n",
      "\n"
     ]
    },
    {
     "name": "stdout",
     "output_type": "stream",
     "text": [
      " 72%|███████▏  | 23/32 [00:14<00:07,  1.23trial/s, best loss: -0.9776190476190475]"
     ]
    },
    {
     "name": "stderr",
     "output_type": "stream",
     "text": [
      "2025/04/15 16:57:36 INFO mlflow.tracking._tracking_service.client: 🏃 View run kindly-roo-406 at: https://lab5-service1-658438304896.us-west2.run.app/#/experiments/1/runs/1aa70788801a4ee2a2b899949bd9b4f0.\n",
      "\n",
      "2025/04/15 16:57:36 INFO mlflow.tracking._tracking_service.client: 🧪 View experiment at: https://lab5-service1-658438304896.us-west2.run.app/#/experiments/1.\n",
      "\n"
     ]
    },
    {
     "name": "stdout",
     "output_type": "stream",
     "text": [
      " 75%|███████▌  | 24/32 [00:15<00:05,  1.37trial/s, best loss: -0.9776190476190475]"
     ]
    },
    {
     "name": "stderr",
     "output_type": "stream",
     "text": [
      "2025/04/15 16:57:37 INFO mlflow.tracking._tracking_service.client: 🏃 View run merciful-ape-65 at: https://lab5-service1-658438304896.us-west2.run.app/#/experiments/1/runs/013bb9d0b41347adaed76b23cd925cf8.\n",
      "\n",
      "2025/04/15 16:57:37 INFO mlflow.tracking._tracking_service.client: 🧪 View experiment at: https://lab5-service1-658438304896.us-west2.run.app/#/experiments/1.\n",
      "\n"
     ]
    },
    {
     "name": "stdout",
     "output_type": "stream",
     "text": [
      " 78%|███████▊  | 25/32 [00:15<00:04,  1.54trial/s, best loss: -0.9776190476190475]"
     ]
    },
    {
     "name": "stderr",
     "output_type": "stream",
     "text": [
      "2025/04/15 16:57:38 INFO mlflow.tracking._tracking_service.client: 🏃 View run unleashed-trout-14 at: https://lab5-service1-658438304896.us-west2.run.app/#/experiments/1/runs/8503d8ddc333419896b22a29dfc8168d.\n",
      "\n",
      "2025/04/15 16:57:38 INFO mlflow.tracking._tracking_service.client: 🧪 View experiment at: https://lab5-service1-658438304896.us-west2.run.app/#/experiments/1.\n",
      "\n"
     ]
    },
    {
     "name": "stdout",
     "output_type": "stream",
     "text": [
      " 81%|████████▏ | 26/32 [00:16<00:04,  1.29trial/s, best loss: -0.9776190476190475]"
     ]
    },
    {
     "name": "stderr",
     "output_type": "stream",
     "text": [
      "2025/04/15 16:57:39 INFO mlflow.tracking._tracking_service.client: 🏃 View run stately-wasp-144 at: https://lab5-service1-658438304896.us-west2.run.app/#/experiments/1/runs/5635cdba8a5c412aa63314cba00f8c87.\n",
      "\n",
      "2025/04/15 16:57:39 INFO mlflow.tracking._tracking_service.client: 🧪 View experiment at: https://lab5-service1-658438304896.us-west2.run.app/#/experiments/1.\n",
      "\n"
     ]
    },
    {
     "name": "stdout",
     "output_type": "stream",
     "text": [
      " 84%|████████▍ | 27/32 [00:18<00:04,  1.05trial/s, best loss: -0.9776190476190475]"
     ]
    },
    {
     "name": "stderr",
     "output_type": "stream",
     "text": [
      "2025/04/15 16:57:41 INFO mlflow.tracking._tracking_service.client: 🏃 View run persistent-panda-706 at: https://lab5-service1-658438304896.us-west2.run.app/#/experiments/1/runs/4a87f8cd51ae4df795e9ab27ab47c799.\n",
      "\n",
      "2025/04/15 16:57:41 INFO mlflow.tracking._tracking_service.client: 🧪 View experiment at: https://lab5-service1-658438304896.us-west2.run.app/#/experiments/1.\n",
      "\n"
     ]
    },
    {
     "name": "stdout",
     "output_type": "stream",
     "text": [
      " 88%|████████▊ | 28/32 [00:19<00:04,  1.04s/trial, best loss: -0.9776190476190475]"
     ]
    },
    {
     "name": "stderr",
     "output_type": "stream",
     "text": [
      "2025/04/15 16:57:41 INFO mlflow.tracking._tracking_service.client: 🏃 View run youthful-fish-452 at: https://lab5-service1-658438304896.us-west2.run.app/#/experiments/1/runs/305b2228d8f146239d7ff96b3be732a9.\n",
      "\n",
      "2025/04/15 16:57:41 INFO mlflow.tracking._tracking_service.client: 🧪 View experiment at: https://lab5-service1-658438304896.us-west2.run.app/#/experiments/1.\n",
      "\n"
     ]
    },
    {
     "name": "stdout",
     "output_type": "stream",
     "text": [
      " 91%|█████████ | 29/32 [00:20<00:02,  1.07trial/s, best loss: -0.9776190476190475]"
     ]
    },
    {
     "name": "stderr",
     "output_type": "stream",
     "text": [
      "2025/04/15 16:57:42 INFO mlflow.tracking._tracking_service.client: 🏃 View run thundering-conch-488 at: https://lab5-service1-658438304896.us-west2.run.app/#/experiments/1/runs/dc914f5433f140ebae30ac204cc27cd1.\n",
      "\n",
      "2025/04/15 16:57:42 INFO mlflow.tracking._tracking_service.client: 🧪 View experiment at: https://lab5-service1-658438304896.us-west2.run.app/#/experiments/1.\n",
      "\n"
     ]
    },
    {
     "name": "stdout",
     "output_type": "stream",
     "text": [
      " 94%|█████████▍| 30/32 [00:21<00:02,  1.00s/trial, best loss: -0.9776190476190475]"
     ]
    },
    {
     "name": "stderr",
     "output_type": "stream",
     "text": [
      "2025/04/15 16:57:43 INFO mlflow.tracking._tracking_service.client: 🏃 View run gifted-loon-875 at: https://lab5-service1-658438304896.us-west2.run.app/#/experiments/1/runs/0fdfab90a04340a89666e6386e17af95.\n",
      "\n",
      "2025/04/15 16:57:43 INFO mlflow.tracking._tracking_service.client: 🧪 View experiment at: https://lab5-service1-658438304896.us-west2.run.app/#/experiments/1.\n",
      "\n"
     ]
    },
    {
     "name": "stdout",
     "output_type": "stream",
     "text": [
      " 97%|█████████▋| 31/32 [00:22<00:00,  1.08trial/s, best loss: -0.9776190476190475]"
     ]
    },
    {
     "name": "stderr",
     "output_type": "stream",
     "text": [
      "2025/04/15 16:57:45 INFO mlflow.tracking._tracking_service.client: 🏃 View run loud-grub-243 at: https://lab5-service1-658438304896.us-west2.run.app/#/experiments/1/runs/039d5dd4b65543daa63a42f2727e7ab1.\n",
      "\n",
      "2025/04/15 16:57:45 INFO mlflow.tracking._tracking_service.client: 🧪 View experiment at: https://lab5-service1-658438304896.us-west2.run.app/#/experiments/1.\n",
      "\n"
     ]
    },
    {
     "name": "stdout",
     "output_type": "stream",
     "text": [
      "100%|██████████| 32/32 [00:23<00:00,  1.36trial/s, best loss: -0.9777777777777779]\n"
     ]
    }
   ],
   "source": [
    "best_result = fmin(\n",
    "        fn=objective, \n",
    "        space=search_space,\n",
    "        algo=algo,\n",
    "        max_evals=32,\n",
    "        trials=trials)"
   ]
  },
  {
   "cell_type": "code",
   "execution_count": 13,
   "metadata": {},
   "outputs": [
    {
     "data": {
      "text/plain": [
       "{'classifier_type': 1,\n",
       " 'criterion': 1,\n",
       " 'rf_max_features': 2,\n",
       " 'rf_n_estimators': 453}"
      ]
     },
     "execution_count": 13,
     "metadata": {},
     "output_type": "execute_result"
    }
   ],
   "source": [
    "best_result"
   ]
  },
  {
   "attachments": {},
   "cell_type": "markdown",
   "metadata": {},
   "source": [
    "### Using Autologging\n",
    "\n",
    "Rather than manually logging parameters and metrics, mlflow has an autolog feature, which is compatible with a subset of python libraries, such as sklearn. Autologging makes it easy to log all of the important stuff, without having to manually write lines of code to log the parameters. However, sometimes you will want to have finer control over what gets logged, and should instead skip autologging."
   ]
  },
  {
   "cell_type": "code",
   "execution_count": 14,
   "metadata": {},
   "outputs": [
    {
     "name": "stderr",
     "output_type": "stream",
     "text": [
      "2025/04/15 16:57:51 INFO mlflow.tracking._tracking_service.client: 🏃 View run rare-sow-538 at: https://lab5-service1-658438304896.us-west2.run.app/#/experiments/1/runs/ad7e1bed4bdd4e24b3dc967605162c34.\n",
      "2025/04/15 16:57:51 INFO mlflow.tracking._tracking_service.client: 🧪 View experiment at: https://lab5-service1-658438304896.us-west2.run.app/#/experiments/1.\n"
     ]
    }
   ],
   "source": [
    "\n",
    "with mlflow.start_run():\n",
    "    mlflow.sklearn.autolog()\n",
    "    tree_depth = 5\n",
    "    dt = DecisionTreeClassifier(max_depth=tree_depth)\n",
    "    dt.fit(X_train, y_train)\n",
    "    mlflow.sklearn.autolog(disable=True)\n",
    "mlflow.end_run()"
   ]
  },
  {
   "attachments": {},
   "cell_type": "markdown",
   "metadata": {},
   "source": [
    "# Artifact Tracking and Model Registry (Local)\n",
    "\n",
    "In this section we will save some artifacts from our model as we go through the model development process. There are a few things that might be worth saving, such as datasets, plots, and the final model itself that might go into production later.\n",
    "\n",
    "## Data\n",
    "\n",
    "First, let's see how we can store our important datasets, in a compressed format, for use for later, for example, in case we get a new request about our model and need to run some analyses (such as \"what is the distribution of this feature, but only for this specific subset of data?\" or \"how did the model do on these particular observations from your validation set?\")."
   ]
  },
  {
   "cell_type": "code",
   "execution_count": 15,
   "metadata": {},
   "outputs": [],
   "source": [
    "import os \n",
    "\n",
    "os.makedirs('save_data', exist_ok = True)\n",
    "\n",
    "X_train.to_parquet('save_data/x_train.parquet')\n",
    "\n",
    "mlflow.log_artifact('save_data/x_train.parquet')"
   ]
  },
  {
   "cell_type": "code",
   "execution_count": 16,
   "metadata": {},
   "outputs": [],
   "source": [
    "X_test.to_parquet('save_data/x_test.parquet')\n",
    "\n",
    "mlflow.log_artifacts('save_data/')"
   ]
  },
  {
   "attachments": {
    "mlflow1.png": {
     "image/png": "[encoded data removed]"
    }
   },
   "cell_type": "markdown",
   "metadata": {},
   "source": [
    "You can now go to the mlflow UI, click on the latest run, and select the Artifacts tab. You should see something similar to this:\n",
    "![mlflow1.png](attachment:mlflow1.png)"
   ]
  },
  {
   "attachments": {},
   "cell_type": "markdown",
   "metadata": {},
   "source": [
    "## Images\n",
    "\n",
    "As part of the model dev process you may end up creating visualizations that can be useful for analysis, or for reporting. You can use mlflow to log the important ones and ignore the rest. After creating the below figure, save into a folder called images, and then you can log whatever is in the `images` folder as an artifact."
   ]
  },
  {
   "cell_type": "code",
   "execution_count": 17,
   "metadata": {},
   "outputs": [
    {
     "data": {
      "text/plain": [
       "array([[<Axes: ylabel='Density'>, <Axes: ylabel='Density'>,\n",
       "        <Axes: ylabel='Density'>, <Axes: ylabel='Density'>],\n",
       "       [<Axes: ylabel='Density'>, <Axes: ylabel='Density'>,\n",
       "        <Axes: ylabel='Density'>, <Axes: ylabel='Density'>],\n",
       "       [<Axes: ylabel='Density'>, <Axes: ylabel='Density'>,\n",
       "        <Axes: ylabel='Density'>, <Axes: ylabel='Density'>],\n",
       "       [<Axes: ylabel='Density'>, <Axes: ylabel='Density'>,\n",
       "        <Axes: ylabel='Density'>, <Axes: ylabel='Density'>]], dtype=object)"
      ]
     },
     "execution_count": 17,
     "metadata": {},
     "output_type": "execute_result"
    },
    {
     "data": {
      "image/png": "[encoded data removed]",
      "text/plain": [
       "<Figure size 2000x1000 with 16 Axes>"
      ]
     },
     "metadata": {},
     "output_type": "display_data"
    }
   ],
   "source": [
    "%matplotlib inline\n",
    "os.makedirs('images', exist_ok = True)\n",
    "X_train.plot.density(subplots = True, figsize = (20,10), layout = (4,4), sharey = False, sharex = False)"
   ]
  },
  {
   "cell_type": "code",
   "execution_count": 18,
   "metadata": {},
   "outputs": [
    {
     "name": "stderr",
     "output_type": "stream",
     "text": [
      "2025/04/15 16:57:53 INFO mlflow.tracking._tracking_service.client: 🏃 View run sneaky-yak-224 at: https://lab5-service1-658438304896.us-west2.run.app/#/experiments/1/runs/e697646b15dc4abca31f1e9f1b9ebe78.\n",
      "2025/04/15 16:57:53 INFO mlflow.tracking._tracking_service.client: 🧪 View experiment at: https://lab5-service1-658438304896.us-west2.run.app/#/experiments/1.\n"
     ]
    }
   ],
   "source": [
    "mlflow.log_artifacts('images')\n",
    "mlflow.end_run()"
   ]
  },
  {
   "attachments": {},
   "cell_type": "markdown",
   "metadata": {},
   "source": [
    "Notice how all of the artifacts were saved in the same run of the experiment. We could have added an `mlflow.end_run()` in between our `log_artifacts` lines to separate runs if we wanted to."
   ]
  },
  {
   "attachments": {},
   "cell_type": "markdown",
   "metadata": {},
   "source": [
    "## Model Management and Model Registry\n",
    "\n",
    "As you are developing your models you may want to save certain versions of the model, or maybe even all of them, so that you don't have to go back and retrain them later. We can do this in mlflow by logging the models, not as artifacts, but as models, using `log_model`. \n",
    "\n",
    "In this section we'll log a couple of models to see how mlflow handles model management. Above, we used `hyperopt` to train a bunch of models at once. Let's do this again, and log some of the models that we train.\n",
    "\n",
    "### Logging as an Artifact\n",
    "\n",
    "First we can try logging a model as an artifact. To do this, we must first save the model itself, which we can do by using the `pickle` library. We then log the model as an artifact like we did with data and images. "
   ]
  },
  {
   "cell_type": "code",
   "execution_count": 19,
   "metadata": {},
   "outputs": [],
   "source": [
    "import pickle\n",
    "\n",
    "os.makedirs('../models', exist_ok = True)\n",
    "\n",
    "dt = DecisionTreeClassifier()\n",
    "dt.fit(X_train, y_train)\n",
    "\n",
    "with open('../models/model.pkl','wb') as f:\n",
    "    pickle.dump(dt,f)\n",
    "\n",
    "# First we'll log the model as an artifact\n",
    "mlflow.log_artifact('../models/model.pkl', artifact_path='my_models')"
   ]
  },
  {
   "attachments": {},
   "cell_type": "markdown",
   "metadata": {},
   "source": [
    "### Logging as a Model\n",
    "\n",
    "Logging the model as an artifact only logs the pickle file (the serialized version of the model). It's not really very useful, especially since models contain so much metadata that might be critical to know for deploying the model later. mlflow has a built-in way of logging models specifically, so let's see how to use this, and how it's different from logging models as an artifact."
   ]
  },
  {
   "cell_type": "code",
   "execution_count": 20,
   "metadata": {},
   "outputs": [
    {
     "name": "stderr",
     "output_type": "stream",
     "text": [
      "2025/04/15 16:57:56 WARNING mlflow.models.model: Input example should be provided to infer model signature if the model signature is not provided when logging the model.\n",
      "2025/04/15 16:57:56 INFO mlflow.tracking._tracking_service.client: 🏃 View run defiant-shoat-259 at: https://lab5-service1-658438304896.us-west2.run.app/#/experiments/1/runs/98f6fe48bc744ad794de364748f7f036.\n",
      "2025/04/15 16:57:56 INFO mlflow.tracking._tracking_service.client: 🧪 View experiment at: https://lab5-service1-658438304896.us-west2.run.app/#/experiments/1.\n"
     ]
    }
   ],
   "source": [
    "# Let's do it again, but this time we will log the model using log_model\n",
    "mlflow.sklearn.log_model(dt, artifact_path = 'better_models')\n",
    "mlflow.end_run()"
   ]
  },
  {
   "attachments": {
    "mlflow2.png": {
     "image/png": "[encoded data removed]"
    }
   },
   "cell_type": "markdown",
   "metadata": {},
   "source": [
    "Ok, so if you go to the mlflow UI at this point you can see the difference in `log_artifact`, which simply logs the pickle file, and `log_model`, which also gives you information about the environment, required packages, and model flavor.\n",
    "\n",
    "![mlflow2.png](attachment:mlflow2.png)\n",
    "\n",
    "Let's do this one more time, but this time let's use `hyperopt` and log all of the trained models separately. Let's do this in a new experiment called 'demo-experiment2'. "
   ]
  },
  {
   "cell_type": "code",
   "execution_count": 21,
   "metadata": {},
   "outputs": [
    {
     "name": "stderr",
     "output_type": "stream",
     "text": [
      "2025/04/15 16:57:57 INFO mlflow.tracking.fluent: Experiment with name 'demo-experiment2' does not exist. Creating a new experiment.\n"
     ]
    },
    {
     "name": "stdout",
     "output_type": "stream",
     "text": [
      "  0%|          | 0/32 [00:00<?, ?trial/s, best loss=?]"
     ]
    },
    {
     "name": "stderr",
     "output_type": "stream",
     "text": [
      "2025/04/15 16:58:00 WARNING mlflow.models.model: Input example should be provided to infer model signature if the model signature is not provided when logging the model.\n",
      "\n",
      "2025/04/15 16:58:00 INFO mlflow.tracking._tracking_service.client: 🏃 View run agreeable-loon-275 at: https://lab5-service1-658438304896.us-west2.run.app/#/experiments/2/runs/e3d8d218c71f46bd81d3971e01e9ffb6.\n",
      "\n",
      "2025/04/15 16:58:00 INFO mlflow.tracking._tracking_service.client: 🧪 View experiment at: https://lab5-service1-658438304896.us-west2.run.app/#/experiments/2.\n",
      "\n"
     ]
    },
    {
     "name": "stdout",
     "output_type": "stream",
     "text": [
      "  3%|▎         | 1/32 [00:03<01:47,  3.48s/trial, best loss: -0.9103174603174604]"
     ]
    },
    {
     "name": "stderr",
     "output_type": "stream",
     "text": [
      "2025/04/15 16:58:03 WARNING mlflow.models.model: Input example should be provided to infer model signature if the model signature is not provided when logging the model.\n",
      "\n",
      "2025/04/15 16:58:03 INFO mlflow.tracking._tracking_service.client: 🏃 View run kindly-cat-718 at: https://lab5-service1-658438304896.us-west2.run.app/#/experiments/2/runs/5ecf0c4082464234a03874be33c7f6cb.\n",
      "\n",
      "2025/04/15 16:58:03 INFO mlflow.tracking._tracking_service.client: 🧪 View experiment at: https://lab5-service1-658438304896.us-west2.run.app/#/experiments/2.\n",
      "\n"
     ]
    },
    {
     "name": "stdout",
     "output_type": "stream",
     "text": [
      "  6%|▋         | 2/32 [00:06<01:35,  3.18s/trial, best loss: -0.9103174603174604]"
     ]
    },
    {
     "name": "stderr",
     "output_type": "stream",
     "text": [
      "2025/04/15 16:58:06 WARNING mlflow.models.model: Input example should be provided to infer model signature if the model signature is not provided when logging the model.\n",
      "\n",
      "2025/04/15 16:58:06 INFO mlflow.tracking._tracking_service.client: 🏃 View run bouncy-perch-711 at: https://lab5-service1-658438304896.us-west2.run.app/#/experiments/2/runs/1ca1615515634a668a817cfe1d1b4c6e.\n",
      "\n",
      "2025/04/15 16:58:06 INFO mlflow.tracking._tracking_service.client: 🧪 View experiment at: https://lab5-service1-658438304896.us-west2.run.app/#/experiments/2.\n",
      "\n"
     ]
    },
    {
     "name": "stdout",
     "output_type": "stream",
     "text": [
      "  9%|▉         | 3/32 [00:09<01:34,  3.27s/trial, best loss: -0.9720634920634922]"
     ]
    },
    {
     "name": "stderr",
     "output_type": "stream",
     "text": [
      "2025/04/15 16:58:11 WARNING mlflow.models.model: Input example should be provided to infer model signature if the model signature is not provided when logging the model.\n",
      "\n",
      "2025/04/15 16:58:11 INFO mlflow.tracking._tracking_service.client: 🏃 View run unique-wolf-303 at: https://lab5-service1-658438304896.us-west2.run.app/#/experiments/2/runs/63781d4764d147659ffee9f33b7d8e91.\n",
      "\n",
      "2025/04/15 16:58:11 INFO mlflow.tracking._tracking_service.client: 🧪 View experiment at: https://lab5-service1-658438304896.us-west2.run.app/#/experiments/2.\n",
      "\n"
     ]
    },
    {
     "name": "stdout",
     "output_type": "stream",
     "text": [
      " 12%|█▎        | 4/32 [00:14<01:43,  3.69s/trial, best loss: -0.9720634920634922]"
     ]
    },
    {
     "name": "stderr",
     "output_type": "stream",
     "text": [
      "2025/04/15 16:58:15 WARNING mlflow.models.model: Input example should be provided to infer model signature if the model signature is not provided when logging the model.\n",
      "\n",
      "2025/04/15 16:58:15 INFO mlflow.tracking._tracking_service.client: 🏃 View run gentle-worm-71 at: https://lab5-service1-658438304896.us-west2.run.app/#/experiments/2/runs/6cbbbadcf3794d88a6a46051c06a08f2.\n",
      "\n",
      "2025/04/15 16:58:15 INFO mlflow.tracking._tracking_service.client: 🧪 View experiment at: https://lab5-service1-658438304896.us-west2.run.app/#/experiments/2.\n",
      "\n"
     ]
    },
    {
     "name": "stdout",
     "output_type": "stream",
     "text": [
      " 16%|█▌        | 5/32 [00:18<01:43,  3.82s/trial, best loss: -0.9720634920634922]"
     ]
    },
    {
     "name": "stderr",
     "output_type": "stream",
     "text": [
      "2025/04/15 16:58:18 WARNING mlflow.models.model: Input example should be provided to infer model signature if the model signature is not provided when logging the model.\n",
      "\n",
      "2025/04/15 16:58:18 INFO mlflow.tracking._tracking_service.client: 🏃 View run worried-roo-279 at: https://lab5-service1-658438304896.us-west2.run.app/#/experiments/2/runs/6c35c7b4d0e74f459771f83b129ee0c0.\n",
      "\n",
      "2025/04/15 16:58:18 INFO mlflow.tracking._tracking_service.client: 🧪 View experiment at: https://lab5-service1-658438304896.us-west2.run.app/#/experiments/2.\n",
      "\n"
     ]
    },
    {
     "name": "stdout",
     "output_type": "stream",
     "text": [
      " 19%|█▉        | 6/32 [00:21<01:32,  3.55s/trial, best loss: -0.9720634920634922]"
     ]
    },
    {
     "name": "stderr",
     "output_type": "stream",
     "text": [
      "2025/04/15 16:58:22 WARNING mlflow.models.model: Input example should be provided to infer model signature if the model signature is not provided when logging the model.\n",
      "\n",
      "2025/04/15 16:58:22 INFO mlflow.tracking._tracking_service.client: 🏃 View run gregarious-bee-41 at: https://lab5-service1-658438304896.us-west2.run.app/#/experiments/2/runs/3c0b30dc92ec4c308e8a8736f47ac238.\n",
      "\n",
      "2025/04/15 16:58:22 INFO mlflow.tracking._tracking_service.client: 🧪 View experiment at: https://lab5-service1-658438304896.us-west2.run.app/#/experiments/2.\n",
      "\n"
     ]
    },
    {
     "name": "stdout",
     "output_type": "stream",
     "text": [
      " 22%|██▏       | 7/32 [00:25<01:35,  3.80s/trial, best loss: -0.9720634920634922]"
     ]
    },
    {
     "name": "stderr",
     "output_type": "stream",
     "text": [
      "2025/04/15 16:58:25 WARNING mlflow.models.model: Input example should be provided to infer model signature if the model signature is not provided when logging the model.\n",
      "\n",
      "2025/04/15 16:58:25 INFO mlflow.tracking._tracking_service.client: 🏃 View run burly-toad-217 at: https://lab5-service1-658438304896.us-west2.run.app/#/experiments/2/runs/29687f639e8e4d5ab44660f5e076bccc.\n",
      "\n",
      "2025/04/15 16:58:25 INFO mlflow.tracking._tracking_service.client: 🧪 View experiment at: https://lab5-service1-658438304896.us-west2.run.app/#/experiments/2.\n",
      "\n"
     ]
    },
    {
     "name": "stdout",
     "output_type": "stream",
     "text": [
      " 25%|██▌       | 8/32 [00:28<01:25,  3.55s/trial, best loss: -0.9720634920634922]"
     ]
    },
    {
     "name": "stderr",
     "output_type": "stream",
     "text": [
      "2025/04/15 16:58:29 WARNING mlflow.models.model: Input example should be provided to infer model signature if the model signature is not provided when logging the model.\n",
      "\n",
      "2025/04/15 16:58:29 INFO mlflow.tracking._tracking_service.client: 🏃 View run gentle-chimp-48 at: https://lab5-service1-658438304896.us-west2.run.app/#/experiments/2/runs/afbf27939b86420fb1cf571798989bcf.\n",
      "\n",
      "2025/04/15 16:58:29 INFO mlflow.tracking._tracking_service.client: 🧪 View experiment at: https://lab5-service1-658438304896.us-west2.run.app/#/experiments/2.\n",
      "\n"
     ]
    },
    {
     "name": "stdout",
     "output_type": "stream",
     "text": [
      " 28%|██▊       | 9/32 [00:32<01:21,  3.53s/trial, best loss: -0.9776190476190475]"
     ]
    },
    {
     "name": "stderr",
     "output_type": "stream",
     "text": [
      "2025/04/15 16:58:33 WARNING mlflow.models.model: Input example should be provided to infer model signature if the model signature is not provided when logging the model.\n",
      "\n",
      "2025/04/15 16:58:33 INFO mlflow.tracking._tracking_service.client: 🏃 View run secretive-goat-806 at: https://lab5-service1-658438304896.us-west2.run.app/#/experiments/2/runs/52ac79f7b8ec47d083cea6855ff48ceb.\n",
      "\n",
      "2025/04/15 16:58:33 INFO mlflow.tracking._tracking_service.client: 🧪 View experiment at: https://lab5-service1-658438304896.us-west2.run.app/#/experiments/2.\n",
      "\n"
     ]
    },
    {
     "name": "stdout",
     "output_type": "stream",
     "text": [
      " 31%|███▏      | 10/32 [00:36<01:21,  3.72s/trial, best loss: -0.9776190476190475]"
     ]
    },
    {
     "name": "stderr",
     "output_type": "stream",
     "text": [
      "2025/04/15 16:58:37 WARNING mlflow.models.model: Input example should be provided to infer model signature if the model signature is not provided when logging the model.\n",
      "\n",
      "2025/04/15 16:58:37 INFO mlflow.tracking._tracking_service.client: 🏃 View run marvelous-bug-144 at: https://lab5-service1-658438304896.us-west2.run.app/#/experiments/2/runs/1f80d28dcd1f4592ac194dcc36d0edad.\n",
      "\n",
      "2025/04/15 16:58:37 INFO mlflow.tracking._tracking_service.client: 🧪 View experiment at: https://lab5-service1-658438304896.us-west2.run.app/#/experiments/2.\n",
      "\n"
     ]
    },
    {
     "name": "stdout",
     "output_type": "stream",
     "text": [
      " 34%|███▍      | 11/32 [00:40<01:21,  3.88s/trial, best loss: -0.9776190476190475]"
     ]
    },
    {
     "name": "stderr",
     "output_type": "stream",
     "text": [
      "2025/04/15 16:58:40 WARNING mlflow.models.model: Input example should be provided to infer model signature if the model signature is not provided when logging the model.\n",
      "\n",
      "2025/04/15 16:58:40 INFO mlflow.tracking._tracking_service.client: 🏃 View run bedecked-cat-281 at: https://lab5-service1-658438304896.us-west2.run.app/#/experiments/2/runs/584a0d07226a4639bfcea66286ea291a.\n",
      "\n",
      "2025/04/15 16:58:40 INFO mlflow.tracking._tracking_service.client: 🧪 View experiment at: https://lab5-service1-658438304896.us-west2.run.app/#/experiments/2.\n",
      "\n"
     ]
    },
    {
     "name": "stdout",
     "output_type": "stream",
     "text": [
      " 38%|███▊      | 12/32 [00:43<01:11,  3.58s/trial, best loss: -0.9776190476190475]"
     ]
    },
    {
     "name": "stderr",
     "output_type": "stream",
     "text": [
      "2025/04/15 16:58:44 WARNING mlflow.models.model: Input example should be provided to infer model signature if the model signature is not provided when logging the model.\n",
      "\n",
      "2025/04/15 16:58:44 INFO mlflow.tracking._tracking_service.client: 🏃 View run nebulous-wren-500 at: https://lab5-service1-658438304896.us-west2.run.app/#/experiments/2/runs/8198a270b199486ca78a2b61e6b6d8d4.\n",
      "\n",
      "2025/04/15 16:58:44 INFO mlflow.tracking._tracking_service.client: 🧪 View experiment at: https://lab5-service1-658438304896.us-west2.run.app/#/experiments/2.\n",
      "\n"
     ]
    },
    {
     "name": "stdout",
     "output_type": "stream",
     "text": [
      " 41%|████      | 13/32 [00:47<01:12,  3.82s/trial, best loss: -0.9776190476190475]"
     ]
    },
    {
     "name": "stderr",
     "output_type": "stream",
     "text": [
      "2025/04/15 16:58:47 WARNING mlflow.models.model: Input example should be provided to infer model signature if the model signature is not provided when logging the model.\n",
      "\n",
      "2025/04/15 16:58:47 INFO mlflow.tracking._tracking_service.client: 🏃 View run crawling-pig-608 at: https://lab5-service1-658438304896.us-west2.run.app/#/experiments/2/runs/91a7a24487184c81b7af2e4404d217ab.\n",
      "\n",
      "2025/04/15 16:58:47 INFO mlflow.tracking._tracking_service.client: 🧪 View experiment at: https://lab5-service1-658438304896.us-west2.run.app/#/experiments/2.\n",
      "\n"
     ]
    },
    {
     "name": "stdout",
     "output_type": "stream",
     "text": [
      " 44%|████▍     | 14/32 [00:50<01:04,  3.57s/trial, best loss: -0.9776190476190475]"
     ]
    },
    {
     "name": "stderr",
     "output_type": "stream",
     "text": [
      "2025/04/15 16:58:52 WARNING mlflow.models.model: Input example should be provided to infer model signature if the model signature is not provided when logging the model.\n",
      "\n",
      "2025/04/15 16:58:52 INFO mlflow.tracking._tracking_service.client: 🏃 View run dazzling-worm-93 at: https://lab5-service1-658438304896.us-west2.run.app/#/experiments/2/runs/94864b7f57ed4067a5e5e064cf5ea0bc.\n",
      "\n",
      "2025/04/15 16:58:52 INFO mlflow.tracking._tracking_service.client: 🧪 View experiment at: https://lab5-service1-658438304896.us-west2.run.app/#/experiments/2.\n",
      "\n"
     ]
    },
    {
     "name": "stdout",
     "output_type": "stream",
     "text": [
      " 47%|████▋     | 15/32 [00:55<01:04,  3.81s/trial, best loss: -0.9776190476190475]"
     ]
    },
    {
     "name": "stderr",
     "output_type": "stream",
     "text": [
      "2025/04/15 16:58:55 WARNING mlflow.models.model: Input example should be provided to infer model signature if the model signature is not provided when logging the model.\n",
      "\n",
      "2025/04/15 16:58:55 INFO mlflow.tracking._tracking_service.client: 🏃 View run illustrious-elk-114 at: https://lab5-service1-658438304896.us-west2.run.app/#/experiments/2/runs/60760b77d9ab437a83cccf50e5ad8ab7.\n",
      "\n",
      "2025/04/15 16:58:55 INFO mlflow.tracking._tracking_service.client: 🧪 View experiment at: https://lab5-service1-658438304896.us-west2.run.app/#/experiments/2.\n",
      "\n"
     ]
    },
    {
     "name": "stdout",
     "output_type": "stream",
     "text": [
      " 50%|█████     | 16/32 [00:58<00:56,  3.55s/trial, best loss: -0.9776190476190475]"
     ]
    },
    {
     "name": "stderr",
     "output_type": "stream",
     "text": [
      "2025/04/15 16:58:58 WARNING mlflow.models.model: Input example should be provided to infer model signature if the model signature is not provided when logging the model.\n",
      "\n",
      "2025/04/15 16:58:58 INFO mlflow.tracking._tracking_service.client: 🏃 View run orderly-rook-222 at: https://lab5-service1-658438304896.us-west2.run.app/#/experiments/2/runs/4747fa57b240430f87c4571ea197f5ee.\n",
      "\n",
      "2025/04/15 16:58:58 INFO mlflow.tracking._tracking_service.client: 🧪 View experiment at: https://lab5-service1-658438304896.us-west2.run.app/#/experiments/2.\n",
      "\n"
     ]
    },
    {
     "name": "stdout",
     "output_type": "stream",
     "text": [
      " 53%|█████▎    | 17/32 [01:01<00:52,  3.50s/trial, best loss: -0.9776190476190475]"
     ]
    },
    {
     "name": "stderr",
     "output_type": "stream",
     "text": [
      "2025/04/15 16:59:02 WARNING mlflow.models.model: Input example should be provided to infer model signature if the model signature is not provided when logging the model.\n",
      "\n",
      "2025/04/15 16:59:02 INFO mlflow.tracking._tracking_service.client: 🏃 View run valuable-carp-787 at: https://lab5-service1-658438304896.us-west2.run.app/#/experiments/2/runs/b5e4987d284b498684bc9e00d66e4b49.\n",
      "\n",
      "2025/04/15 16:59:02 INFO mlflow.tracking._tracking_service.client: 🧪 View experiment at: https://lab5-service1-658438304896.us-west2.run.app/#/experiments/2.\n",
      "\n"
     ]
    },
    {
     "name": "stdout",
     "output_type": "stream",
     "text": [
      " 56%|█████▋    | 18/32 [01:05<00:50,  3.60s/trial, best loss: -0.9776190476190475]"
     ]
    },
    {
     "name": "stderr",
     "output_type": "stream",
     "text": [
      "2025/04/15 16:59:05 WARNING mlflow.models.model: Input example should be provided to infer model signature if the model signature is not provided when logging the model.\n",
      "\n",
      "2025/04/15 16:59:05 INFO mlflow.tracking._tracking_service.client: 🏃 View run bustling-squid-117 at: https://lab5-service1-658438304896.us-west2.run.app/#/experiments/2/runs/3f3edc0eff1b446582824526998121c4.\n",
      "\n",
      "2025/04/15 16:59:05 INFO mlflow.tracking._tracking_service.client: 🧪 View experiment at: https://lab5-service1-658438304896.us-west2.run.app/#/experiments/2.\n",
      "\n"
     ]
    },
    {
     "name": "stdout",
     "output_type": "stream",
     "text": [
      " 59%|█████▉    | 19/32 [01:08<00:46,  3.59s/trial, best loss: -0.9776190476190475]"
     ]
    },
    {
     "name": "stderr",
     "output_type": "stream",
     "text": [
      "2025/04/15 16:59:09 WARNING mlflow.models.model: Input example should be provided to infer model signature if the model signature is not provided when logging the model.\n",
      "\n",
      "2025/04/15 16:59:09 INFO mlflow.tracking._tracking_service.client: 🏃 View run funny-fish-889 at: https://lab5-service1-658438304896.us-west2.run.app/#/experiments/2/runs/7a569ee6461249c89248f543b24af246.\n",
      "\n",
      "2025/04/15 16:59:09 INFO mlflow.tracking._tracking_service.client: 🧪 View experiment at: https://lab5-service1-658438304896.us-west2.run.app/#/experiments/2.\n",
      "\n"
     ]
    },
    {
     "name": "stdout",
     "output_type": "stream",
     "text": [
      " 62%|██████▎   | 20/32 [01:12<00:43,  3.65s/trial, best loss: -0.9776190476190475]"
     ]
    },
    {
     "name": "stderr",
     "output_type": "stream",
     "text": [
      "2025/04/15 16:59:14 WARNING mlflow.models.model: Input example should be provided to infer model signature if the model signature is not provided when logging the model.\n",
      "\n",
      "2025/04/15 16:59:14 INFO mlflow.tracking._tracking_service.client: 🏃 View run monumental-bee-450 at: https://lab5-service1-658438304896.us-west2.run.app/#/experiments/2/runs/a82d0b390aad4bf49716f1e1a7c3f4cc.\n",
      "\n",
      "2025/04/15 16:59:14 INFO mlflow.tracking._tracking_service.client: 🧪 View experiment at: https://lab5-service1-658438304896.us-west2.run.app/#/experiments/2.\n",
      "\n"
     ]
    },
    {
     "name": "stdout",
     "output_type": "stream",
     "text": [
      " 66%|██████▌   | 21/32 [01:16<00:42,  3.87s/trial, best loss: -0.9776190476190475]"
     ]
    },
    {
     "name": "stderr",
     "output_type": "stream",
     "text": [
      "2025/04/15 16:59:17 WARNING mlflow.models.model: Input example should be provided to infer model signature if the model signature is not provided when logging the model.\n",
      "\n",
      "2025/04/15 16:59:18 INFO mlflow.tracking._tracking_service.client: 🏃 View run crawling-crow-768 at: https://lab5-service1-658438304896.us-west2.run.app/#/experiments/2/runs/76b8df06040c4b83b0cff5dd60417b2d.\n",
      "\n",
      "2025/04/15 16:59:18 INFO mlflow.tracking._tracking_service.client: 🧪 View experiment at: https://lab5-service1-658438304896.us-west2.run.app/#/experiments/2.\n",
      "\n"
     ]
    },
    {
     "name": "stdout",
     "output_type": "stream",
     "text": [
      " 69%|██████▉   | 22/32 [01:20<00:38,  3.88s/trial, best loss: -0.9776190476190475]"
     ]
    },
    {
     "name": "stderr",
     "output_type": "stream",
     "text": [
      "2025/04/15 16:59:21 WARNING mlflow.models.model: Input example should be provided to infer model signature if the model signature is not provided when logging the model.\n",
      "\n",
      "2025/04/15 16:59:21 INFO mlflow.tracking._tracking_service.client: 🏃 View run amusing-mule-258 at: https://lab5-service1-658438304896.us-west2.run.app/#/experiments/2/runs/5e9f11a8c37644e3a0513755433738bf.\n",
      "\n",
      "2025/04/15 16:59:21 INFO mlflow.tracking._tracking_service.client: 🧪 View experiment at: https://lab5-service1-658438304896.us-west2.run.app/#/experiments/2.\n",
      "\n"
     ]
    },
    {
     "name": "stdout",
     "output_type": "stream",
     "text": [
      " 72%|███████▏  | 23/32 [01:24<00:33,  3.67s/trial, best loss: -0.9776190476190475]"
     ]
    },
    {
     "name": "stderr",
     "output_type": "stream",
     "text": [
      "2025/04/15 16:59:25 WARNING mlflow.models.model: Input example should be provided to infer model signature if the model signature is not provided when logging the model.\n",
      "\n",
      "2025/04/15 16:59:25 INFO mlflow.tracking._tracking_service.client: 🏃 View run dazzling-conch-274 at: https://lab5-service1-658438304896.us-west2.run.app/#/experiments/2/runs/b58ca729477041edb4e5994b717e906e.\n",
      "\n",
      "2025/04/15 16:59:25 INFO mlflow.tracking._tracking_service.client: 🧪 View experiment at: https://lab5-service1-658438304896.us-west2.run.app/#/experiments/2.\n",
      "\n"
     ]
    },
    {
     "name": "stdout",
     "output_type": "stream",
     "text": [
      " 75%|███████▌  | 24/32 [01:28<00:30,  3.77s/trial, best loss: -0.9777777777777779]"
     ]
    },
    {
     "name": "stderr",
     "output_type": "stream",
     "text": [
      "2025/04/15 16:59:28 WARNING mlflow.models.model: Input example should be provided to infer model signature if the model signature is not provided when logging the model.\n",
      "\n",
      "2025/04/15 16:59:28 INFO mlflow.tracking._tracking_service.client: 🏃 View run illustrious-fly-39 at: https://lab5-service1-658438304896.us-west2.run.app/#/experiments/2/runs/4daee6dc2b3340609c2a37b6d1c5c2fb.\n",
      "\n",
      "2025/04/15 16:59:28 INFO mlflow.tracking._tracking_service.client: 🧪 View experiment at: https://lab5-service1-658438304896.us-west2.run.app/#/experiments/2.\n",
      "\n"
     ]
    },
    {
     "name": "stdout",
     "output_type": "stream",
     "text": [
      " 78%|███████▊  | 25/32 [01:31<00:25,  3.59s/trial, best loss: -0.9777777777777779]"
     ]
    },
    {
     "name": "stderr",
     "output_type": "stream",
     "text": [
      "2025/04/15 16:59:31 WARNING mlflow.models.model: Input example should be provided to infer model signature if the model signature is not provided when logging the model.\n",
      "\n",
      "2025/04/15 16:59:31 INFO mlflow.tracking._tracking_service.client: 🏃 View run polite-fox-115 at: https://lab5-service1-658438304896.us-west2.run.app/#/experiments/2/runs/e35b5fbf1932430f908dbbed16b16dfc.\n",
      "\n",
      "2025/04/15 16:59:31 INFO mlflow.tracking._tracking_service.client: 🧪 View experiment at: https://lab5-service1-658438304896.us-west2.run.app/#/experiments/2.\n",
      "\n"
     ]
    },
    {
     "name": "stdout",
     "output_type": "stream",
     "text": [
      " 81%|████████▏ | 26/32 [01:34<00:20,  3.46s/trial, best loss: -0.9777777777777779]"
     ]
    },
    {
     "name": "stderr",
     "output_type": "stream",
     "text": [
      "2025/04/15 16:59:35 WARNING mlflow.models.model: Input example should be provided to infer model signature if the model signature is not provided when logging the model.\n",
      "\n",
      "2025/04/15 16:59:35 INFO mlflow.tracking._tracking_service.client: 🏃 View run dazzling-robin-23 at: https://lab5-service1-658438304896.us-west2.run.app/#/experiments/2/runs/6f135670297d42ec8dd270480319bca6.\n",
      "\n",
      "2025/04/15 16:59:35 INFO mlflow.tracking._tracking_service.client: 🧪 View experiment at: https://lab5-service1-658438304896.us-west2.run.app/#/experiments/2.\n",
      "\n"
     ]
    },
    {
     "name": "stdout",
     "output_type": "stream",
     "text": [
      " 84%|████████▍ | 27/32 [01:38<00:18,  3.66s/trial, best loss: -0.9777777777777779]"
     ]
    },
    {
     "name": "stderr",
     "output_type": "stream",
     "text": [
      "2025/04/15 16:59:39 WARNING mlflow.models.model: Input example should be provided to infer model signature if the model signature is not provided when logging the model.\n",
      "\n",
      "2025/04/15 16:59:39 INFO mlflow.tracking._tracking_service.client: 🏃 View run dashing-ram-345 at: https://lab5-service1-658438304896.us-west2.run.app/#/experiments/2/runs/d40ee663bc9b4487acff1af13e08d81d.\n",
      "\n",
      "2025/04/15 16:59:39 INFO mlflow.tracking._tracking_service.client: 🧪 View experiment at: https://lab5-service1-658438304896.us-west2.run.app/#/experiments/2.\n",
      "\n"
     ]
    },
    {
     "name": "stdout",
     "output_type": "stream",
     "text": [
      " 88%|████████▊ | 28/32 [01:42<00:14,  3.66s/trial, best loss: -0.9777777777777779]"
     ]
    },
    {
     "name": "stderr",
     "output_type": "stream",
     "text": [
      "2025/04/15 16:59:42 WARNING mlflow.models.model: Input example should be provided to infer model signature if the model signature is not provided when logging the model.\n",
      "\n",
      "2025/04/15 16:59:42 INFO mlflow.tracking._tracking_service.client: 🏃 View run useful-snail-725 at: https://lab5-service1-658438304896.us-west2.run.app/#/experiments/2/runs/58c2bf3a3ae14a5e90a805796b8f200a.\n",
      "\n",
      "2025/04/15 16:59:42 INFO mlflow.tracking._tracking_service.client: 🧪 View experiment at: https://lab5-service1-658438304896.us-west2.run.app/#/experiments/2.\n",
      "\n"
     ]
    },
    {
     "name": "stdout",
     "output_type": "stream",
     "text": [
      " 91%|█████████ | 29/32 [01:45<00:10,  3.47s/trial, best loss: -0.9777777777777779]"
     ]
    },
    {
     "name": "stderr",
     "output_type": "stream",
     "text": [
      "2025/04/15 16:59:45 WARNING mlflow.models.model: Input example should be provided to infer model signature if the model signature is not provided when logging the model.\n",
      "\n",
      "2025/04/15 16:59:45 INFO mlflow.tracking._tracking_service.client: 🏃 View run unruly-yak-132 at: https://lab5-service1-658438304896.us-west2.run.app/#/experiments/2/runs/2fd094e19f25484d912f6acc4876dbb9.\n",
      "\n",
      "2025/04/15 16:59:45 INFO mlflow.tracking._tracking_service.client: 🧪 View experiment at: https://lab5-service1-658438304896.us-west2.run.app/#/experiments/2.\n",
      "\n"
     ]
    },
    {
     "name": "stdout",
     "output_type": "stream",
     "text": [
      " 94%|█████████▍| 30/32 [01:48<00:06,  3.49s/trial, best loss: -0.9833333333333332]"
     ]
    },
    {
     "name": "stderr",
     "output_type": "stream",
     "text": [
      "2025/04/15 16:59:48 WARNING mlflow.models.model: Input example should be provided to infer model signature if the model signature is not provided when logging the model.\n",
      "\n",
      "2025/04/15 16:59:48 INFO mlflow.tracking._tracking_service.client: 🏃 View run bustling-doe-651 at: https://lab5-service1-658438304896.us-west2.run.app/#/experiments/2/runs/98a29f74f98b453b897b5d47cbcc66cf.\n",
      "\n",
      "2025/04/15 16:59:48 INFO mlflow.tracking._tracking_service.client: 🧪 View experiment at: https://lab5-service1-658438304896.us-west2.run.app/#/experiments/2.\n",
      "\n"
     ]
    },
    {
     "name": "stdout",
     "output_type": "stream",
     "text": [
      " 97%|█████████▋| 31/32 [01:51<00:03,  3.37s/trial, best loss: -0.9833333333333332]"
     ]
    },
    {
     "name": "stderr",
     "output_type": "stream",
     "text": [
      "2025/04/15 16:59:52 WARNING mlflow.models.model: Input example should be provided to infer model signature if the model signature is not provided when logging the model.\n",
      "\n",
      "2025/04/15 16:59:52 INFO mlflow.tracking._tracking_service.client: 🏃 View run popular-hawk-149 at: https://lab5-service1-658438304896.us-west2.run.app/#/experiments/2/runs/7bd134371156484fa0e0d3f8ccea57ec.\n",
      "\n",
      "2025/04/15 16:59:52 INFO mlflow.tracking._tracking_service.client: 🧪 View experiment at: https://lab5-service1-658438304896.us-west2.run.app/#/experiments/2.\n",
      "\n"
     ]
    },
    {
     "name": "stdout",
     "output_type": "stream",
     "text": [
      "100%|██████████| 32/32 [01:55<00:00,  3.61s/trial, best loss: -0.9833333333333332]\n"
     ]
    }
   ],
   "source": [
    "mlflow.set_experiment('demo-experiment2')\n",
    "def objective(params):\n",
    "    with mlflow.start_run():\n",
    "        classifier_type = params['type']\n",
    "        del params['type']\n",
    "        if classifier_type == 'dt':\n",
    "            clf = DecisionTreeClassifier(**params)\n",
    "        elif classifier_type == 'rf':\n",
    "            clf = RandomForestClassifier(**params)        \n",
    "        else:\n",
    "            return 0\n",
    "        acc = cross_val_score(clf, X, y).mean()\n",
    "\n",
    "        mlflow.set_tag(\"Model\", classifier_type)\n",
    "        mlflow.log_params(params)\n",
    "        mlflow.log_metric(\"accuracy\", acc)\n",
    "        mlflow.sklearn.log_model(clf, artifact_path = 'better_models')\n",
    "        mlflow.end_run()\n",
    "        return {'loss': -acc, 'status': STATUS_OK}\n",
    "search_space = hp.choice('classifier_type', [\n",
    "    {\n",
    "        'type': 'dt',\n",
    "        'criterion': hp.choice('dtree_criterion', ['gini', 'entropy']),\n",
    "        'max_depth': hp.choice('dtree_max_depth', [None, hp.randint('dtree_max_depth_int', 1,10)]),\n",
    "        'min_samples_split': hp.randint('dtree_min_samples_split', 2,10)\n",
    "    },\n",
    "    {\n",
    "        'type': 'rf',\n",
    "        'n_estimators': hp.randint('rf_n_estimators', 20, 500),\n",
    "        'max_features': hp.randint('rf_max_features', 2,9),\n",
    "        'criterion': hp.choice('criterion', ['gini', 'entropy'])\n",
    "    },\n",
    "])\n",
    "\n",
    "algo = tpe.suggest\n",
    "trials = Trials()\n",
    "best_result = fmin(\n",
    "        fn=objective, \n",
    "        space=search_space,\n",
    "        algo=algo,\n",
    "        max_evals=32,\n",
    "        trials=trials)"
   ]
  },
  {
   "attachments": {},
   "cell_type": "markdown",
   "metadata": {},
   "source": [
    "### Loading Models\n",
    "\n",
    "Now that models have been logged, you can load specific models back into python for predicting and further analysis. There are two main ways to do this. The mlflow UI actually gives you some instructions, with code that you copy and paste."
   ]
  },
  {
   "cell_type": "code",
   "execution_count": 22,
   "metadata": {},
   "outputs": [
    {
     "data": {
      "text/plain": [
       "mlflow.pyfunc.loaded_model:\n",
       "  artifact_path: better_models\n",
       "  flavor: mlflow.sklearn\n",
       "  run_id: 6124606ac5134cc3a3cd2604cbeef947"
      ]
     },
     "execution_count": 22,
     "metadata": {},
     "output_type": "execute_result"
    }
   ],
   "source": [
    "logged_model = '/Users/matthewohanian/Desktop/ML Ops/mlruns/2/6124606ac5134cc3a3cd2604cbeef947/artifacts/better_models' #replace with one of your models\n",
    "\n",
    "# Load model as a PyFuncModel.\n",
    "loaded_model = mlflow.pyfunc.load_model(logged_model)\n",
    "loaded_model"
   ]
  },
  {
   "cell_type": "code",
   "execution_count": 23,
   "metadata": {},
   "outputs": [
    {
     "data": {
      "text/html": [
       "<style>#sk-container-id-3 {\n",
       "  /* Definition of color scheme common for light and dark mode */\n",
       "  --sklearn-color-text: black;\n",
       "  --sklearn-color-line: gray;\n",
       "  /* Definition of color scheme for unfitted estimators */\n",
       "  --sklearn-color-unfitted-level-0: #fff5e6;\n",
       "  --sklearn-color-unfitted-level-1: #f6e4d2;\n",
       "  --sklearn-color-unfitted-level-2: #ffe0b3;\n",
       "  --sklearn-color-unfitted-level-3: chocolate;\n",
       "  /* Definition of color scheme for fitted estimators */\n",
       "  --sklearn-color-fitted-level-0: #f0f8ff;\n",
       "  --sklearn-color-fitted-level-1: #d4ebff;\n",
       "  --sklearn-color-fitted-level-2: #b3dbfd;\n",
       "  --sklearn-color-fitted-level-3: cornflowerblue;\n",
       "\n",
       "  /* Specific color for light theme */\n",
       "  --sklearn-color-text-on-default-background: var(--sg-text-color, var(--theme-code-foreground, var(--jp-content-font-color1, black)));\n",
       "  --sklearn-color-background: var(--sg-background-color, var(--theme-background, var(--jp-layout-color0, white)));\n",
       "  --sklearn-color-border-box: var(--sg-text-color, var(--theme-code-foreground, var(--jp-content-font-color1, black)));\n",
       "  --sklearn-color-icon: #696969;\n",
       "\n",
       "  @media (prefers-color-scheme: dark) {\n",
       "    /* Redefinition of color scheme for dark theme */\n",
       "    --sklearn-color-text-on-default-background: var(--sg-text-color, var(--theme-code-foreground, var(--jp-content-font-color1, white)));\n",
       "    --sklearn-color-background: var(--sg-background-color, var(--theme-background, var(--jp-layout-color0, #111)));\n",
       "    --sklearn-color-border-box: var(--sg-text-color, var(--theme-code-foreground, var(--jp-content-font-color1, white)));\n",
       "    --sklearn-color-icon: #878787;\n",
       "  }\n",
       "}\n",
       "\n",
       "#sk-container-id-3 {\n",
       "  color: var(--sklearn-color-text);\n",
       "}\n",
       "\n",
       "#sk-container-id-3 pre {\n",
       "  padding: 0;\n",
       "}\n",
       "\n",
       "#sk-container-id-3 input.sk-hidden--visually {\n",
       "  border: 0;\n",
       "  clip: rect(1px 1px 1px 1px);\n",
       "  clip: rect(1px, 1px, 1px, 1px);\n",
       "  height: 1px;\n",
       "  margin: -1px;\n",
       "  overflow: hidden;\n",
       "  padding: 0;\n",
       "  position: absolute;\n",
       "  width: 1px;\n",
       "}\n",
       "\n",
       "#sk-container-id-3 div.sk-dashed-wrapped {\n",
       "  border: 1px dashed var(--sklearn-color-line);\n",
       "  margin: 0 0.4em 0.5em 0.4em;\n",
       "  box-sizing: border-box;\n",
       "  padding-bottom: 0.4em;\n",
       "  background-color: var(--sklearn-color-background);\n",
       "}\n",
       "\n",
       "#sk-container-id-3 div.sk-container {\n",
       "  /* jupyter's `normalize.less` sets `[hidden] { display: none; }`\n",
       "     but bootstrap.min.css set `[hidden] { display: none !important; }`\n",
       "     so we also need the `!important` here to be able to override the\n",
       "     default hidden behavior on the sphinx rendered scikit-learn.org.\n",
       "     See: https://github.com/scikit-learn/scikit-learn/issues/21755 */\n",
       "  display: inline-block !important;\n",
       "  position: relative;\n",
       "}\n",
       "\n",
       "#sk-container-id-3 div.sk-text-repr-fallback {\n",
       "  display: none;\n",
       "}\n",
       "\n",
       "div.sk-parallel-item,\n",
       "div.sk-serial,\n",
       "div.sk-item {\n",
       "  /* draw centered vertical line to link estimators */\n",
       "  background-image: linear-gradient(var(--sklearn-color-text-on-default-background), var(--sklearn-color-text-on-default-background));\n",
       "  background-size: 2px 100%;\n",
       "  background-repeat: no-repeat;\n",
       "  background-position: center center;\n",
       "}\n",
       "\n",
       "/* Parallel-specific style estimator block */\n",
       "\n",
       "#sk-container-id-3 div.sk-parallel-item::after {\n",
       "  content: \"\";\n",
       "  width: 100%;\n",
       "  border-bottom: 2px solid var(--sklearn-color-text-on-default-background);\n",
       "  flex-grow: 1;\n",
       "}\n",
       "\n",
       "#sk-container-id-3 div.sk-parallel {\n",
       "  display: flex;\n",
       "  align-items: stretch;\n",
       "  justify-content: center;\n",
       "  background-color: var(--sklearn-color-background);\n",
       "  position: relative;\n",
       "}\n",
       "\n",
       "#sk-container-id-3 div.sk-parallel-item {\n",
       "  display: flex;\n",
       "  flex-direction: column;\n",
       "}\n",
       "\n",
       "#sk-container-id-3 div.sk-parallel-item:first-child::after {\n",
       "  align-self: flex-end;\n",
       "  width: 50%;\n",
       "}\n",
       "\n",
       "#sk-container-id-3 div.sk-parallel-item:last-child::after {\n",
       "  align-self: flex-start;\n",
       "  width: 50%;\n",
       "}\n",
       "\n",
       "#sk-container-id-3 div.sk-parallel-item:only-child::after {\n",
       "  width: 0;\n",
       "}\n",
       "\n",
       "/* Serial-specific style estimator block */\n",
       "\n",
       "#sk-container-id-3 div.sk-serial {\n",
       "  display: flex;\n",
       "  flex-direction: column;\n",
       "  align-items: center;\n",
       "  background-color: var(--sklearn-color-background);\n",
       "  padding-right: 1em;\n",
       "  padding-left: 1em;\n",
       "}\n",
       "\n",
       "\n",
       "/* Toggleable style: style used for estimator/Pipeline/ColumnTransformer box that is\n",
       "clickable and can be expanded/collapsed.\n",
       "- Pipeline and ColumnTransformer use this feature and define the default style\n",
       "- Estimators will overwrite some part of the style using the `sk-estimator` class\n",
       "*/\n",
       "\n",
       "/* Pipeline and ColumnTransformer style (default) */\n",
       "\n",
       "#sk-container-id-3 div.sk-toggleable {\n",
       "  /* Default theme specific background. It is overwritten whether we have a\n",
       "  specific estimator or a Pipeline/ColumnTransformer */\n",
       "  background-color: var(--sklearn-color-background);\n",
       "}\n",
       "\n",
       "/* Toggleable label */\n",
       "#sk-container-id-3 label.sk-toggleable__label {\n",
       "  cursor: pointer;\n",
       "  display: block;\n",
       "  width: 100%;\n",
       "  margin-bottom: 0;\n",
       "  padding: 0.5em;\n",
       "  box-sizing: border-box;\n",
       "  text-align: center;\n",
       "}\n",
       "\n",
       "#sk-container-id-3 label.sk-toggleable__label-arrow:before {\n",
       "  /* Arrow on the left of the label */\n",
       "  content: \"▸\";\n",
       "  float: left;\n",
       "  margin-right: 0.25em;\n",
       "  color: var(--sklearn-color-icon);\n",
       "}\n",
       "\n",
       "#sk-container-id-3 label.sk-toggleable__label-arrow:hover:before {\n",
       "  color: var(--sklearn-color-text);\n",
       "}\n",
       "\n",
       "/* Toggleable content - dropdown */\n",
       "\n",
       "#sk-container-id-3 div.sk-toggleable__content {\n",
       "  max-height: 0;\n",
       "  max-width: 0;\n",
       "  overflow: hidden;\n",
       "  text-align: left;\n",
       "  /* unfitted */\n",
       "  background-color: var(--sklearn-color-unfitted-level-0);\n",
       "}\n",
       "\n",
       "#sk-container-id-3 div.sk-toggleable__content.fitted {\n",
       "  /* fitted */\n",
       "  background-color: var(--sklearn-color-fitted-level-0);\n",
       "}\n",
       "\n",
       "#sk-container-id-3 div.sk-toggleable__content pre {\n",
       "  margin: 0.2em;\n",
       "  border-radius: 0.25em;\n",
       "  color: var(--sklearn-color-text);\n",
       "  /* unfitted */\n",
       "  background-color: var(--sklearn-color-unfitted-level-0);\n",
       "}\n",
       "\n",
       "#sk-container-id-3 div.sk-toggleable__content.fitted pre {\n",
       "  /* unfitted */\n",
       "  background-color: var(--sklearn-color-fitted-level-0);\n",
       "}\n",
       "\n",
       "#sk-container-id-3 input.sk-toggleable__control:checked~div.sk-toggleable__content {\n",
       "  /* Expand drop-down */\n",
       "  max-height: 200px;\n",
       "  max-width: 100%;\n",
       "  overflow: auto;\n",
       "}\n",
       "\n",
       "#sk-container-id-3 input.sk-toggleable__control:checked~label.sk-toggleable__label-arrow:before {\n",
       "  content: \"▾\";\n",
       "}\n",
       "\n",
       "/* Pipeline/ColumnTransformer-specific style */\n",
       "\n",
       "#sk-container-id-3 div.sk-label input.sk-toggleable__control:checked~label.sk-toggleable__label {\n",
       "  color: var(--sklearn-color-text);\n",
       "  background-color: var(--sklearn-color-unfitted-level-2);\n",
       "}\n",
       "\n",
       "#sk-container-id-3 div.sk-label.fitted input.sk-toggleable__control:checked~label.sk-toggleable__label {\n",
       "  background-color: var(--sklearn-color-fitted-level-2);\n",
       "}\n",
       "\n",
       "/* Estimator-specific style */\n",
       "\n",
       "/* Colorize estimator box */\n",
       "#sk-container-id-3 div.sk-estimator input.sk-toggleable__control:checked~label.sk-toggleable__label {\n",
       "  /* unfitted */\n",
       "  background-color: var(--sklearn-color-unfitted-level-2);\n",
       "}\n",
       "\n",
       "#sk-container-id-3 div.sk-estimator.fitted input.sk-toggleable__control:checked~label.sk-toggleable__label {\n",
       "  /* fitted */\n",
       "  background-color: var(--sklearn-color-fitted-level-2);\n",
       "}\n",
       "\n",
       "#sk-container-id-3 div.sk-label label.sk-toggleable__label,\n",
       "#sk-container-id-3 div.sk-label label {\n",
       "  /* The background is the default theme color */\n",
       "  color: var(--sklearn-color-text-on-default-background);\n",
       "}\n",
       "\n",
       "/* On hover, darken the color of the background */\n",
       "#sk-container-id-3 div.sk-label:hover label.sk-toggleable__label {\n",
       "  color: var(--sklearn-color-text);\n",
       "  background-color: var(--sklearn-color-unfitted-level-2);\n",
       "}\n",
       "\n",
       "/* Label box, darken color on hover, fitted */\n",
       "#sk-container-id-3 div.sk-label.fitted:hover label.sk-toggleable__label.fitted {\n",
       "  color: var(--sklearn-color-text);\n",
       "  background-color: var(--sklearn-color-fitted-level-2);\n",
       "}\n",
       "\n",
       "/* Estimator label */\n",
       "\n",
       "#sk-container-id-3 div.sk-label label {\n",
       "  font-family: monospace;\n",
       "  font-weight: bold;\n",
       "  display: inline-block;\n",
       "  line-height: 1.2em;\n",
       "}\n",
       "\n",
       "#sk-container-id-3 div.sk-label-container {\n",
       "  text-align: center;\n",
       "}\n",
       "\n",
       "/* Estimator-specific */\n",
       "#sk-container-id-3 div.sk-estimator {\n",
       "  font-family: monospace;\n",
       "  border: 1px dotted var(--sklearn-color-border-box);\n",
       "  border-radius: 0.25em;\n",
       "  box-sizing: border-box;\n",
       "  margin-bottom: 0.5em;\n",
       "  /* unfitted */\n",
       "  background-color: var(--sklearn-color-unfitted-level-0);\n",
       "}\n",
       "\n",
       "#sk-container-id-3 div.sk-estimator.fitted {\n",
       "  /* fitted */\n",
       "  background-color: var(--sklearn-color-fitted-level-0);\n",
       "}\n",
       "\n",
       "/* on hover */\n",
       "#sk-container-id-3 div.sk-estimator:hover {\n",
       "  /* unfitted */\n",
       "  background-color: var(--sklearn-color-unfitted-level-2);\n",
       "}\n",
       "\n",
       "#sk-container-id-3 div.sk-estimator.fitted:hover {\n",
       "  /* fitted */\n",
       "  background-color: var(--sklearn-color-fitted-level-2);\n",
       "}\n",
       "\n",
       "/* Specification for estimator info (e.g. \"i\" and \"?\") */\n",
       "\n",
       "/* Common style for \"i\" and \"?\" */\n",
       "\n",
       ".sk-estimator-doc-link,\n",
       "a:link.sk-estimator-doc-link,\n",
       "a:visited.sk-estimator-doc-link {\n",
       "  float: right;\n",
       "  font-size: smaller;\n",
       "  line-height: 1em;\n",
       "  font-family: monospace;\n",
       "  background-color: var(--sklearn-color-background);\n",
       "  border-radius: 1em;\n",
       "  height: 1em;\n",
       "  width: 1em;\n",
       "  text-decoration: none !important;\n",
       "  margin-left: 1ex;\n",
       "  /* unfitted */\n",
       "  border: var(--sklearn-color-unfitted-level-1) 1pt solid;\n",
       "  color: var(--sklearn-color-unfitted-level-1);\n",
       "}\n",
       "\n",
       ".sk-estimator-doc-link.fitted,\n",
       "a:link.sk-estimator-doc-link.fitted,\n",
       "a:visited.sk-estimator-doc-link.fitted {\n",
       "  /* fitted */\n",
       "  border: var(--sklearn-color-fitted-level-1) 1pt solid;\n",
       "  color: var(--sklearn-color-fitted-level-1);\n",
       "}\n",
       "\n",
       "/* On hover */\n",
       "div.sk-estimator:hover .sk-estimator-doc-link:hover,\n",
       ".sk-estimator-doc-link:hover,\n",
       "div.sk-label-container:hover .sk-estimator-doc-link:hover,\n",
       ".sk-estimator-doc-link:hover {\n",
       "  /* unfitted */\n",
       "  background-color: var(--sklearn-color-unfitted-level-3);\n",
       "  color: var(--sklearn-color-background);\n",
       "  text-decoration: none;\n",
       "}\n",
       "\n",
       "div.sk-estimator.fitted:hover .sk-estimator-doc-link.fitted:hover,\n",
       ".sk-estimator-doc-link.fitted:hover,\n",
       "div.sk-label-container:hover .sk-estimator-doc-link.fitted:hover,\n",
       ".sk-estimator-doc-link.fitted:hover {\n",
       "  /* fitted */\n",
       "  background-color: var(--sklearn-color-fitted-level-3);\n",
       "  color: var(--sklearn-color-background);\n",
       "  text-decoration: none;\n",
       "}\n",
       "\n",
       "/* Span, style for the box shown on hovering the info icon */\n",
       ".sk-estimator-doc-link span {\n",
       "  display: none;\n",
       "  z-index: 9999;\n",
       "  position: relative;\n",
       "  font-weight: normal;\n",
       "  right: .2ex;\n",
       "  padding: .5ex;\n",
       "  margin: .5ex;\n",
       "  width: min-content;\n",
       "  min-width: 20ex;\n",
       "  max-width: 50ex;\n",
       "  color: var(--sklearn-color-text);\n",
       "  box-shadow: 2pt 2pt 4pt #999;\n",
       "  /* unfitted */\n",
       "  background: var(--sklearn-color-unfitted-level-0);\n",
       "  border: .5pt solid var(--sklearn-color-unfitted-level-3);\n",
       "}\n",
       "\n",
       ".sk-estimator-doc-link.fitted span {\n",
       "  /* fitted */\n",
       "  background: var(--sklearn-color-fitted-level-0);\n",
       "  border: var(--sklearn-color-fitted-level-3);\n",
       "}\n",
       "\n",
       ".sk-estimator-doc-link:hover span {\n",
       "  display: block;\n",
       "}\n",
       "\n",
       "/* \"?\"-specific style due to the `<a>` HTML tag */\n",
       "\n",
       "#sk-container-id-3 a.estimator_doc_link {\n",
       "  float: right;\n",
       "  font-size: 1rem;\n",
       "  line-height: 1em;\n",
       "  font-family: monospace;\n",
       "  background-color: var(--sklearn-color-background);\n",
       "  border-radius: 1rem;\n",
       "  height: 1rem;\n",
       "  width: 1rem;\n",
       "  text-decoration: none;\n",
       "  /* unfitted */\n",
       "  color: var(--sklearn-color-unfitted-level-1);\n",
       "  border: var(--sklearn-color-unfitted-level-1) 1pt solid;\n",
       "}\n",
       "\n",
       "#sk-container-id-3 a.estimator_doc_link.fitted {\n",
       "  /* fitted */\n",
       "  border: var(--sklearn-color-fitted-level-1) 1pt solid;\n",
       "  color: var(--sklearn-color-fitted-level-1);\n",
       "}\n",
       "\n",
       "/* On hover */\n",
       "#sk-container-id-3 a.estimator_doc_link:hover {\n",
       "  /* unfitted */\n",
       "  background-color: var(--sklearn-color-unfitted-level-3);\n",
       "  color: var(--sklearn-color-background);\n",
       "  text-decoration: none;\n",
       "}\n",
       "\n",
       "#sk-container-id-3 a.estimator_doc_link.fitted:hover {\n",
       "  /* fitted */\n",
       "  background-color: var(--sklearn-color-fitted-level-3);\n",
       "}\n",
       "</style><div id=\"sk-container-id-3\" class=\"sk-top-container\"><div class=\"sk-text-repr-fallback\"><pre>RandomForestClassifier(max_features=3, n_estimators=371)</pre><b>In a Jupyter environment, please rerun this cell to show the HTML representation or trust the notebook. <br />On GitHub, the HTML representation is unable to render, please try loading this page with nbviewer.org.</b></div><div class=\"sk-container\" hidden><div class=\"sk-item\"><div class=\"sk-estimator  sk-toggleable\"><input class=\"sk-toggleable__control sk-hidden--visually\" id=\"sk-estimator-id-3\" type=\"checkbox\" checked><label for=\"sk-estimator-id-3\" class=\"sk-toggleable__label  sk-toggleable__label-arrow \">&nbsp;&nbsp;RandomForestClassifier<a class=\"sk-estimator-doc-link \" rel=\"noreferrer\" target=\"_blank\" href=\"https://scikit-learn.org/1.5/modules/generated/sklearn.ensemble.RandomForestClassifier.html\">?<span>Documentation for RandomForestClassifier</span></a><span class=\"sk-estimator-doc-link \">i<span>Not fitted</span></span></label><div class=\"sk-toggleable__content \"><pre>RandomForestClassifier(max_features=3, n_estimators=371)</pre></div> </div></div></div></div>"
      ],
      "text/plain": [
       "RandomForestClassifier(max_features=3, n_estimators=371)"
      ]
     },
     "execution_count": 23,
     "metadata": {},
     "output_type": "execute_result"
    }
   ],
   "source": [
    "sklearn_model = mlflow.sklearn.load_model(logged_model)\n",
    "sklearn_model"
   ]
  },
  {
   "cell_type": "code",
   "execution_count": 24,
   "metadata": {},
   "outputs": [
    {
     "data": {
      "text/plain": [
       "array([0, 2, 1, 0, 1])"
      ]
     },
     "execution_count": 24,
     "metadata": {},
     "output_type": "execute_result"
    }
   ],
   "source": [
    "sklearn_model.fit(X_train, y_train)\n",
    "preds = sklearn_model.predict(X_test)\n",
    "preds[:5]"
   ]
  },
  {
   "attachments": {},
   "cell_type": "markdown",
   "metadata": {},
   "source": [
    "### Model Registry\n",
    "\n",
    "Typically, you will **register** your *chosen* model, the model you plan to put into production. But, sometimes, after you've chosen and registered a model, you may need to replace that model with a new version. For example, the model may have gone into production and started to degrade in performance, and so the model needed to be retrained. Or, you go to deploy your model and notice an error or bug, and now have to go back and retrain it.\n",
    "\n",
    "In this section let's see how we take our logged models and register them in the model registry, which then can get picked up by the production process, or engineer, for deployment. First, I'll demonstrate how this is done within the UI, but then below I'll show how we can use the python API to do the same thing."
   ]
  },
  {
   "cell_type": "code",
   "execution_count": 26,
   "metadata": {},
   "outputs": [
    {
     "name": "stderr",
     "output_type": "stream",
     "text": [
      "Registered model 'wine_model_from_nb' already exists. Creating a new version of this model...\n",
      "2025/04/15 17:00:49 INFO mlflow.store.model_registry.abstract_store: Waiting up to 300 seconds for model version to finish creation. Model name: wine_model_from_nb, version 1\n",
      "Created version '1' of model 'wine_model_from_nb'.\n"
     ]
    },
    {
     "data": {
      "text/plain": [
       "<ModelVersion: aliases=[], creation_timestamp=1744761649419, current_stage='None', description='', last_updated_timestamp=1744761649419, name='wine_model_from_nb', run_id='4747fa57b240430f87c4571ea197f5ee', run_link='', source='mlflow-artifacts:/2/4747fa57b240430f87c4571ea197f5ee/artifacts/artifacts/better_models', status='READY', status_message='', tags={}, user_id='', version='1'>"
      ]
     },
     "execution_count": 26,
     "metadata": {},
     "output_type": "execute_result"
    }
   ],
   "source": [
    "runid = '4747fa57b240430f87c4571ea197f5ee'\n",
    "mod_path = f'runs:/{runid}/artifacts/better_models'\n",
    "mlflow.register_model(model_uri = mod_path, name = 'wine_model_from_nb')"
   ]
  },
  {
   "attachments": {},
   "cell_type": "markdown",
   "metadata": {},
   "source": [
    "## Common Issues\n",
    "\n",
    "- Nothing is appearing in the MLFlow UI: make sure you start the UI from the directory where your notebook is running.  \n",
    "- I installed a library, but I'm getting an error loading it: be sure you installed it in the same environment as where your notebook is running.  \n",
    "- MLFlow doesn't seem to be working at all, I'm just getting errors all over the place: this might be a versioning issue.  \n",
    "- The UI broke, I can't get back to it: `sudo lsof -i :5000 | awk '{print $2}' | tail -n +2 | xargs kill`\n"
   ]
  },
  {
   "attachments": {},
   "cell_type": "markdown",
   "metadata": {},
   "source": [
    "\n",
    "# Experiment Tracking and Model Registry Lab\n",
    "\n",
    "## Overview\n",
    "\n",
    "In this lab you will each download a new dataset and attempt to train a good model, and use mlflow to keep track of all of your experiments, log your metrics, artifacts and models, and then register a final set of models for \"deployment\", though we won't actually deploy them anywhere yet.\n",
    "\n",
    "## Goal\n",
    "\n",
    "Your goal is **not** to become a master at MLFlow - this is not a course on learning all of the ins and outs of MLFlow. Instead, your goal is to understand when and why it is important to track your model development process (tracking experiments, artifacts and models) and to get into the habit of doing so, and then learn at least the basics of how MLFlow helps you do this so that you can then compare with other tools that are available.\n",
    "\n",
    "## Data\n",
    "\n",
    "You can choose your own dataset to use here. It will be helpful to choose a dataset that is already fairly clean and easy to work with. You can even use a dataset that you've used in a previous course. We will do a lot of labs where we do different things with datasets, so if you can find one that is interesting enough for modeling, it should work for most of the rest of the course. \n",
    "\n",
    "There are tons of places where you can find open public datasets. Choose something that interests you, but don't overthink it.\n",
    "\n",
    "[Kaggle Datasets](https://www.kaggle.com/datasets)  \n",
    "[HuggingFace Datasets](https://huggingface.co/docs/datasets/index)  \n",
    "[Dagshub Datasets](https://dagshub.com/datasets/)  \n",
    "[UCI](https://archive.ics.uci.edu/ml/datasets.php)  \n",
    "[Open Data on AWS](https://registry.opendata.aws/)  \n",
    "[Yelp](https://www.yelp.com/dataset)  \n",
    "[MovieLens](https://grouplens.org/datasets/movielens/)  \n",
    "And so many more...\n",
    "\n",
    "## Instructions\n",
    "\n",
    "Once you have selected a set of data, create a brand new experiment in MLFlow and begin exploring your data. Do some EDA, clean up, and learn about your data. You do not need to begin tracking anything yet, but you can if you want to (e.g. you can log different versions of your data as you clean it up and do any feature engineering). Do not spend a ton of time on this part. Your goal isn't really to build a great model, so don't spend hours on feature engineering and missing data imputation and things like that.\n",
    "\n",
    "Once your data is clean, begin training models and tracking your experiments. If you intend to use this same dataset for your final project, then start thinking about what your model might look like when you actually deploy it. For example, when you engineer new features, be sure to save the code that does this, as you will need this in the future. If your final model has 1000 complex features, you might have a difficult time deploying it later on. If your final model takes 15 minutes to train, or takes a long time to score a new batch of data, you may want to think about training a less complex model.\n",
    "\n",
    "Now, when tracking your experiments, at a *minimum*, you should:\n",
    "\n",
    "1. Try at least 3 different ML algorithms (e.g. linear regression, decision tree, random forest, etc.).\n",
    "2. Do hyperparameter tuning for **each** algorithm.\n",
    "3. Do some very basic feature selection, and repeat the above steps with these reduced sets of features.\n",
    "4. Identify the top 3 best models and note these down for later.\n",
    "6. Choose the **final** \"best\" model that you would deploy or use on future data, stage it (in MLFlow), and run it on the test set to get a final measure of performance. Don't forget to log the test set metric.\n",
    " 7. Be sure you logged the exact training, validation, and testing datasets for the 3 best models, as well as hyperparameter values, and the values of your metrics. \n",
    "8. Push your code to Github. No need to track the mlruns folder, the images folder, any datasets, or the sqlite database in git.\n",
    "\n",
    "### Turning It In\n",
    "\n",
    "In the MLFlow UI, next to the refresh button you should see three vertical dots. Click the dots and then download your experiments as a csv file. Open the csv file in Excel and highlight the rows for your top 3 models from step 4, highlight the run where you applied your best model to the test set, and then save as an excel file. Take a snapshot of the Models page in the MLFLow UI showing the model you staged in step 6 above. Submit the excel file and the snapshot to Canvas."
   ]
  },
  {
   "cell_type": "code",
   "execution_count": 27,
   "metadata": {},
   "outputs": [],
   "source": [
    "from sklearn.datasets import make_classification\n",
    "\n",
    "X, y = make_classification(n_samples=1000, n_features=10, n_classes=3, n_informative=5, random_state=42)"
   ]
  },
  {
   "cell_type": "code",
   "execution_count": 28,
   "metadata": {},
   "outputs": [
    {
     "name": "stdout",
     "output_type": "stream",
     "text": [
      "Random Forest Accuracy: 0.815\n",
      "XGBoost Accuracy: 0.875\n",
      "Logistic Regression Accuracy: 0.725\n"
     ]
    }
   ],
   "source": [
    "from sklearn.model_selection import train_test_split\n",
    "from sklearn.ensemble import RandomForestClassifier\n",
    "from xgboost import XGBClassifier\n",
    "from sklearn.linear_model import LogisticRegression\n",
    "from sklearn.metrics import accuracy_score\n",
    "\n",
    "# Split the data into training and testing sets\n",
    "\n",
    "X_train, X_test, y_train, y_test = train_test_split(X, y, test_size=0.2, random_state=42)\n",
    "\n",
    "# Train a Random Forest classifier\n",
    "rf_clf = RandomForestClassifier(n_estimators=5, random_state=42)\n",
    "rf_clf.fit(X_train, y_train)\n",
    "rf_pred = rf_clf.predict(X_test)\n",
    "rf_accuracy = accuracy_score(y_test, rf_pred)\n",
    "print(f\"Random Forest Accuracy: {rf_accuracy}\")\n",
    "\n",
    "# Train an XGBoost classifier\n",
    "xgb_clf = XGBClassifier(eval_metric='mlogloss', random_state=42)\n",
    "xgb_clf.fit(X_train, y_train)\n",
    "xgb_pred = xgb_clf.predict(X_test)\n",
    "xgb_accuracy = accuracy_score(y_test, xgb_pred)\n",
    "print(f\"XGBoost Accuracy: {xgb_accuracy}\")\n",
    "\n",
    "# Train a Logistic Regression classifier\n",
    "lr_clf = LogisticRegression(random_state=42)\n",
    "lr_clf.fit(X_train, y_train)\n",
    "lr_pred = lr_clf.predict(X_test)\n",
    "lr_accuracy = accuracy_score(y_test, lr_pred)\n",
    "print(f\"Logistic Regression Accuracy: {lr_accuracy}\")\n"
   ]
  },
  {
   "cell_type": "code",
   "execution_count": 29,
   "metadata": {},
   "outputs": [
    {
     "name": "stdout",
     "output_type": "stream",
     "text": [
      "Best Random Forest Accuracy: 0.85\n",
      "Best Random Forest Parameters: {'max_depth': None, 'min_samples_split': 5, 'n_estimators': 50}\n",
      "Best XGBoost Accuracy: 0.85\n",
      "Best XGBoost Parameters: {'learning_rate': 0.1, 'max_depth': 9, 'n_estimators': 200}\n",
      "Best Logistic Regression Accuracy: 0.685\n",
      "Best Logistic Regression Parameters: {'C': 1, 'penalty': 'l1', 'solver': 'liblinear'}\n"
     ]
    }
   ],
   "source": [
    "from sklearn.model_selection import GridSearchCV\n",
    "\n",
    "# Hyperparameter tuning for Random Forest\n",
    "rf_param_grid = {\n",
    "    'n_estimators': [10, 50, 100],\n",
    "    'max_depth': [None, 10, 20, 30],\n",
    "    'min_samples_split': [2, 5, 10]\n",
    "}\n",
    "rf_grid_search = GridSearchCV(estimator=RandomForestClassifier(random_state=42), param_grid=rf_param_grid, cv=5, n_jobs=-1, scoring='accuracy')\n",
    "rf_grid_search.fit(X_train, y_train)\n",
    "best_rf_clf = rf_grid_search.best_estimator_\n",
    "best_rf_pred = best_rf_clf.predict(X_test)\n",
    "best_rf_accuracy = accuracy_score(y_test, best_rf_pred)\n",
    "print(f\"Best Random Forest Accuracy: {best_rf_accuracy}\")\n",
    "print(f\"Best Random Forest Parameters: {rf_grid_search.best_params_}\")\n",
    "\n",
    "# Hyperparameter tuning for XGBoost\n",
    "xgb_param_grid = {\n",
    "    'n_estimators': [50, 100, 200],\n",
    "    'max_depth': [3, 6, 9],\n",
    "    'learning_rate': [0.01, 0.1, 0.2]\n",
    "}\n",
    "xgb_grid_search = GridSearchCV(estimator=XGBClassifier(eval_metric='mlogloss', random_state=42), param_grid=xgb_param_grid, cv=5, n_jobs=-1, scoring='accuracy')\n",
    "xgb_grid_search.fit(X_train, y_train)\n",
    "best_xgb_clf = xgb_grid_search.best_estimator_\n",
    "best_xgb_pred = best_xgb_clf.predict(X_test)\n",
    "best_xgb_accuracy = accuracy_score(y_test, best_xgb_pred)\n",
    "print(f\"Best XGBoost Accuracy: {best_xgb_accuracy}\")\n",
    "print(f\"Best XGBoost Parameters: {xgb_grid_search.best_params_}\")\n",
    "\n",
    "# Hyperparameter tuning for Logistic Regression\n",
    "lr_param_grid = {\n",
    "    'C': [0.01, 0.1, 1, 10, 100],\n",
    "    'penalty': ['l1', 'l2'],\n",
    "    'solver': ['liblinear']\n",
    "}\n",
    "lr_grid_search = GridSearchCV(estimator=LogisticRegression(random_state=42), param_grid=lr_param_grid, cv=5, n_jobs=-1, scoring='accuracy')\n",
    "lr_grid_search.fit(X_train, y_train)\n",
    "best_lr_clf = lr_grid_search.best_estimator_\n",
    "best_lr_pred = best_lr_clf.predict(X_test)\n",
    "best_lr_accuracy = accuracy_score(y_test, best_lr_pred)\n",
    "print(f\"Best Logistic Regression Accuracy: {best_lr_accuracy}\")\n",
    "print(f\"Best Logistic Regression Parameters: {lr_grid_search.best_params_}\")\n"
   ]
  },
  {
   "cell_type": "code",
   "execution_count": 30,
   "metadata": {},
   "outputs": [
    {
     "name": "stderr",
     "output_type": "stream",
     "text": [
      "2025/04/15 17:01:18 INFO mlflow.tracking.fluent: Experiment with name 'classification_models' does not exist. Creating a new experiment.\n"
     ]
    },
    {
     "name": "stdout",
     "output_type": "stream",
     "text": [
      "  0%|          | 0/50 [00:00<?, ?trial/s, best loss=?]"
     ]
    },
    {
     "name": "stderr",
     "output_type": "stream",
     "text": [
      "2025/04/15 17:01:24 WARNING mlflow.models.model: Input example should be provided to infer model signature if the model signature is not provided when logging the model.\n",
      "\n",
      "2025/04/15 17:01:24 INFO mlflow.tracking._tracking_service.client: 🏃 View run enthused-slug-82 at: https://lab5-service1-658438304896.us-west2.run.app/#/experiments/3/runs/ab56d1466c7e42d7aa53a8493e88cc7e.\n",
      "\n",
      "2025/04/15 17:01:24 INFO mlflow.tracking._tracking_service.client: 🧪 View experiment at: https://lab5-service1-658438304896.us-west2.run.app/#/experiments/3.\n",
      "\n"
     ]
    },
    {
     "name": "stdout",
     "output_type": "stream",
     "text": [
      "  2%|▏         | 1/50 [00:06<05:16,  6.45s/trial, best loss: -0.845]"
     ]
    },
    {
     "name": "stderr",
     "output_type": "stream",
     "text": [
      "2025/04/15 17:01:27 WARNING mlflow.models.model: Input example should be provided to infer model signature if the model signature is not provided when logging the model.\n",
      "\n",
      "2025/04/15 17:01:28 INFO mlflow.tracking._tracking_service.client: 🏃 View run popular-frog-923 at: https://lab5-service1-658438304896.us-west2.run.app/#/experiments/3/runs/7a0e725aa7cd4021bf92d35baf00f4e1.\n",
      "\n",
      "2025/04/15 17:01:28 INFO mlflow.tracking._tracking_service.client: 🧪 View experiment at: https://lab5-service1-658438304896.us-west2.run.app/#/experiments/3.\n",
      "\n"
     ]
    },
    {
     "name": "stdout",
     "output_type": "stream",
     "text": [
      "  4%|▍         | 2/50 [00:09<03:34,  4.46s/trial, best loss: -0.845]"
     ]
    },
    {
     "name": "stderr",
     "output_type": "stream",
     "text": [
      "2025/04/15 17:01:31 WARNING mlflow.models.model: Input example should be provided to infer model signature if the model signature is not provided when logging the model.\n",
      "\n",
      "2025/04/15 17:01:31 INFO mlflow.tracking._tracking_service.client: 🏃 View run melodic-rook-537 at: https://lab5-service1-658438304896.us-west2.run.app/#/experiments/3/runs/5defb02b980e47b194991ec7086ec3c0.\n",
      "\n",
      "2025/04/15 17:01:31 INFO mlflow.tracking._tracking_service.client: 🧪 View experiment at: https://lab5-service1-658438304896.us-west2.run.app/#/experiments/3.\n",
      "\n"
     ]
    },
    {
     "name": "stdout",
     "output_type": "stream",
     "text": [
      "  6%|▌         | 3/50 [00:12<03:01,  3.86s/trial, best loss: -0.845]"
     ]
    },
    {
     "name": "stderr",
     "output_type": "stream",
     "text": [
      "2025/04/15 17:01:37 WARNING mlflow.models.model: Input example should be provided to infer model signature if the model signature is not provided when logging the model.\n",
      "\n",
      "2025/04/15 17:01:37 INFO mlflow.tracking._tracking_service.client: 🏃 View run industrious-wren-546 at: https://lab5-service1-658438304896.us-west2.run.app/#/experiments/3/runs/9aa43290dd454ad4bea18f8e82570453.\n",
      "\n",
      "2025/04/15 17:01:37 INFO mlflow.tracking._tracking_service.client: 🧪 View experiment at: https://lab5-service1-658438304896.us-west2.run.app/#/experiments/3.\n",
      "\n"
     ]
    },
    {
     "name": "stdout",
     "output_type": "stream",
     "text": [
      "  8%|▊         | 4/50 [00:18<03:38,  4.75s/trial, best loss: -0.845]"
     ]
    },
    {
     "name": "stderr",
     "output_type": "stream",
     "text": [
      "2025/04/15 17:01:41 WARNING mlflow.models.model: Input example should be provided to infer model signature if the model signature is not provided when logging the model.\n",
      "\n",
      "2025/04/15 17:01:41 INFO mlflow.tracking._tracking_service.client: 🏃 View run suave-bass-795 at: https://lab5-service1-658438304896.us-west2.run.app/#/experiments/3/runs/a84b2ef74fa24e4e9c51679ce7c303c1.\n",
      "\n",
      "2025/04/15 17:01:41 INFO mlflow.tracking._tracking_service.client: 🧪 View experiment at: https://lab5-service1-658438304896.us-west2.run.app/#/experiments/3.\n",
      "\n"
     ]
    },
    {
     "name": "stdout",
     "output_type": "stream",
     "text": [
      " 10%|█         | 5/50 [00:23<03:28,  4.64s/trial, best loss: -0.845]"
     ]
    },
    {
     "name": "stderr",
     "output_type": "stream",
     "text": [
      "2025/04/15 17:01:46 WARNING mlflow.models.model: Input example should be provided to infer model signature if the model signature is not provided when logging the model.\n",
      "\n",
      "2025/04/15 17:01:46 INFO mlflow.tracking._tracking_service.client: 🏃 View run fortunate-fowl-899 at: https://lab5-service1-658438304896.us-west2.run.app/#/experiments/3/runs/dd5ff0633eda4edc9bb56fb6b078145d.\n",
      "\n",
      "2025/04/15 17:01:46 INFO mlflow.tracking._tracking_service.client: 🧪 View experiment at: https://lab5-service1-658438304896.us-west2.run.app/#/experiments/3.\n",
      "\n"
     ]
    },
    {
     "name": "stdout",
     "output_type": "stream",
     "text": [
      " 12%|█▏        | 6/50 [00:28<03:32,  4.82s/trial, best loss: -0.845]"
     ]
    },
    {
     "name": "stderr",
     "output_type": "stream",
     "text": [
      "2025/04/15 17:01:55 WARNING mlflow.models.model: Input example should be provided to infer model signature if the model signature is not provided when logging the model.\n",
      "\n",
      "2025/04/15 17:01:55 INFO mlflow.tracking._tracking_service.client: 🏃 View run persistent-pig-885 at: https://lab5-service1-658438304896.us-west2.run.app/#/experiments/3/runs/da1395105086428eac71fe4d74301ad6.\n",
      "\n",
      "2025/04/15 17:01:55 INFO mlflow.tracking._tracking_service.client: 🧪 View experiment at: https://lab5-service1-658438304896.us-west2.run.app/#/experiments/3.\n",
      "\n"
     ]
    },
    {
     "name": "stdout",
     "output_type": "stream",
     "text": [
      " 14%|█▍        | 7/50 [00:36<04:18,  6.00s/trial, best loss: -0.845]"
     ]
    },
    {
     "name": "stderr",
     "output_type": "stream",
     "text": [
      "2025/04/15 17:02:02 WARNING mlflow.models.model: Input example should be provided to infer model signature if the model signature is not provided when logging the model.\n",
      "\n",
      "2025/04/15 17:02:02 INFO mlflow.tracking._tracking_service.client: 🏃 View run calm-dog-221 at: https://lab5-service1-658438304896.us-west2.run.app/#/experiments/3/runs/4baf493082bb4a749bc296bd6a630bd3.\n",
      "\n",
      "2025/04/15 17:02:02 INFO mlflow.tracking._tracking_service.client: 🧪 View experiment at: https://lab5-service1-658438304896.us-west2.run.app/#/experiments/3.\n",
      "\n"
     ]
    },
    {
     "name": "stdout",
     "output_type": "stream",
     "text": [
      " 16%|█▌        | 8/50 [00:44<04:27,  6.38s/trial, best loss: -0.845]"
     ]
    },
    {
     "name": "stderr",
     "output_type": "stream",
     "text": [
      "2025/04/15 17:02:07 WARNING mlflow.models.model: Input example should be provided to infer model signature if the model signature is not provided when logging the model.\n",
      "\n",
      "2025/04/15 17:02:07 INFO mlflow.tracking._tracking_service.client: 🏃 View run abundant-fly-46 at: https://lab5-service1-658438304896.us-west2.run.app/#/experiments/3/runs/255e32b06ac847ab9637addfc1311bfa.\n",
      "\n",
      "2025/04/15 17:02:07 INFO mlflow.tracking._tracking_service.client: 🧪 View experiment at: https://lab5-service1-658438304896.us-west2.run.app/#/experiments/3.\n",
      "\n"
     ]
    },
    {
     "name": "stdout",
     "output_type": "stream",
     "text": [
      " 18%|█▊        | 9/50 [00:49<04:06,  6.02s/trial, best loss: -0.845]"
     ]
    },
    {
     "name": "stderr",
     "output_type": "stream",
     "text": [
      "2025/04/15 17:02:13 WARNING mlflow.models.model: Input example should be provided to infer model signature if the model signature is not provided when logging the model.\n",
      "\n",
      "2025/04/15 17:02:13 INFO mlflow.tracking._tracking_service.client: 🏃 View run popular-mole-378 at: https://lab5-service1-658438304896.us-west2.run.app/#/experiments/3/runs/8fe5be5835de4d7f81bb84f26d7584c9.\n",
      "\n",
      "2025/04/15 17:02:13 INFO mlflow.tracking._tracking_service.client: 🧪 View experiment at: https://lab5-service1-658438304896.us-west2.run.app/#/experiments/3.\n",
      "\n"
     ]
    },
    {
     "name": "stdout",
     "output_type": "stream",
     "text": [
      " 20%|██        | 10/50 [00:55<04:02,  6.05s/trial, best loss: -0.845]"
     ]
    },
    {
     "name": "stderr",
     "output_type": "stream",
     "text": [
      "2025/04/15 17:02:16 WARNING mlflow.models.model: Input example should be provided to infer model signature if the model signature is not provided when logging the model.\n",
      "\n",
      "2025/04/15 17:02:16 INFO mlflow.tracking._tracking_service.client: 🏃 View run enthused-colt-283 at: https://lab5-service1-658438304896.us-west2.run.app/#/experiments/3/runs/faf8a9eff39a4ca59f008cd54bb559c6.\n",
      "\n",
      "2025/04/15 17:02:16 INFO mlflow.tracking._tracking_service.client: 🧪 View experiment at: https://lab5-service1-658438304896.us-west2.run.app/#/experiments/3.\n",
      "\n"
     ]
    },
    {
     "name": "stdout",
     "output_type": "stream",
     "text": [
      " 22%|██▏       | 11/50 [00:58<03:18,  5.08s/trial, best loss: -0.845]"
     ]
    },
    {
     "name": "stderr",
     "output_type": "stream",
     "text": [
      "2025/04/15 17:02:21 WARNING mlflow.models.model: Input example should be provided to infer model signature if the model signature is not provided when logging the model.\n",
      "\n",
      "2025/04/15 17:02:21 INFO mlflow.tracking._tracking_service.client: 🏃 View run placid-stag-251 at: https://lab5-service1-658438304896.us-west2.run.app/#/experiments/3/runs/6c156e28da8f49f9acefbebc603efdbe.\n",
      "\n",
      "2025/04/15 17:02:21 INFO mlflow.tracking._tracking_service.client: 🧪 View experiment at: https://lab5-service1-658438304896.us-west2.run.app/#/experiments/3.\n",
      "\n"
     ]
    },
    {
     "name": "stdout",
     "output_type": "stream",
     "text": [
      " 24%|██▍       | 12/50 [01:03<03:11,  5.03s/trial, best loss: -0.845]"
     ]
    },
    {
     "name": "stderr",
     "output_type": "stream",
     "text": [
      "2025/04/15 17:02:24 WARNING mlflow.models.model: Input example should be provided to infer model signature if the model signature is not provided when logging the model.\n",
      "\n",
      "2025/04/15 17:02:24 INFO mlflow.tracking._tracking_service.client: 🏃 View run delightful-asp-917 at: https://lab5-service1-658438304896.us-west2.run.app/#/experiments/3/runs/6cd3984a56fd42b186c2ed537284f623.\n",
      "\n",
      "2025/04/15 17:02:24 INFO mlflow.tracking._tracking_service.client: 🧪 View experiment at: https://lab5-service1-658438304896.us-west2.run.app/#/experiments/3.\n",
      "\n"
     ]
    },
    {
     "name": "stdout",
     "output_type": "stream",
     "text": [
      " 26%|██▌       | 13/50 [01:06<02:43,  4.42s/trial, best loss: -0.845]"
     ]
    },
    {
     "name": "stderr",
     "output_type": "stream",
     "text": [
      "2025/04/15 17:02:27 WARNING mlflow.models.model: Input example should be provided to infer model signature if the model signature is not provided when logging the model.\n",
      "\n",
      "2025/04/15 17:02:27 INFO mlflow.tracking._tracking_service.client: 🏃 View run glamorous-dove-376 at: https://lab5-service1-658438304896.us-west2.run.app/#/experiments/3/runs/667020644fdb4bca84e596ec803e2fe4.\n",
      "\n",
      "2025/04/15 17:02:27 INFO mlflow.tracking._tracking_service.client: 🧪 View experiment at: https://lab5-service1-658438304896.us-west2.run.app/#/experiments/3.\n",
      "\n"
     ]
    },
    {
     "name": "stdout",
     "output_type": "stream",
     "text": [
      " 28%|██▊       | 14/50 [01:09<02:26,  4.07s/trial, best loss: -0.845]"
     ]
    },
    {
     "name": "stderr",
     "output_type": "stream",
     "text": [
      "2025/04/15 17:02:31 WARNING mlflow.models.model: Input example should be provided to infer model signature if the model signature is not provided when logging the model.\n",
      "\n",
      "2025/04/15 17:02:31 INFO mlflow.tracking._tracking_service.client: 🏃 View run rogue-mink-326 at: https://lab5-service1-658438304896.us-west2.run.app/#/experiments/3/runs/b0c66ed39ebd42ae9546925ebb7cfdfb.\n",
      "\n",
      "2025/04/15 17:02:31 INFO mlflow.tracking._tracking_service.client: 🧪 View experiment at: https://lab5-service1-658438304896.us-west2.run.app/#/experiments/3.\n",
      "\n"
     ]
    },
    {
     "name": "stdout",
     "output_type": "stream",
     "text": [
      " 30%|███       | 15/50 [01:13<02:19,  3.98s/trial, best loss: -0.845]"
     ]
    },
    {
     "name": "stderr",
     "output_type": "stream",
     "text": [
      "2025/04/15 17:02:34 WARNING mlflow.models.model: Input example should be provided to infer model signature if the model signature is not provided when logging the model.\n",
      "\n",
      "2025/04/15 17:02:34 INFO mlflow.tracking._tracking_service.client: 🏃 View run righteous-bear-615 at: https://lab5-service1-658438304896.us-west2.run.app/#/experiments/3/runs/0695539a1d614f69b9b66d00e097ec29.\n",
      "\n",
      "2025/04/15 17:02:34 INFO mlflow.tracking._tracking_service.client: 🧪 View experiment at: https://lab5-service1-658438304896.us-west2.run.app/#/experiments/3.\n",
      "\n"
     ]
    },
    {
     "name": "stdout",
     "output_type": "stream",
     "text": [
      " 32%|███▏      | 16/50 [01:16<02:06,  3.73s/trial, best loss: -0.845]"
     ]
    },
    {
     "name": "stderr",
     "output_type": "stream",
     "text": [
      "2025/04/15 17:02:39 WARNING mlflow.models.model: Input example should be provided to infer model signature if the model signature is not provided when logging the model.\n",
      "\n",
      "2025/04/15 17:02:39 INFO mlflow.tracking._tracking_service.client: 🏃 View run beautiful-moose-559 at: https://lab5-service1-658438304896.us-west2.run.app/#/experiments/3/runs/076df2e91a714506ab3611a88996c497.\n",
      "\n",
      "2025/04/15 17:02:39 INFO mlflow.tracking._tracking_service.client: 🧪 View experiment at: https://lab5-service1-658438304896.us-west2.run.app/#/experiments/3.\n",
      "\n"
     ]
    },
    {
     "name": "stdout",
     "output_type": "stream",
     "text": [
      " 34%|███▍      | 17/50 [01:20<02:10,  3.95s/trial, best loss: -0.845]"
     ]
    },
    {
     "name": "stderr",
     "output_type": "stream",
     "text": [
      "2025/04/15 17:02:43 WARNING mlflow.models.model: Input example should be provided to infer model signature if the model signature is not provided when logging the model.\n",
      "\n",
      "2025/04/15 17:02:43 INFO mlflow.tracking._tracking_service.client: 🏃 View run inquisitive-bird-766 at: https://lab5-service1-658438304896.us-west2.run.app/#/experiments/3/runs/2d0ee383de9a4108a7f5ccb3146b004e.\n",
      "\n",
      "2025/04/15 17:02:43 INFO mlflow.tracking._tracking_service.client: 🧪 View experiment at: https://lab5-service1-658438304896.us-west2.run.app/#/experiments/3.\n",
      "\n"
     ]
    },
    {
     "name": "stdout",
     "output_type": "stream",
     "text": [
      " 36%|███▌      | 18/50 [01:24<02:08,  4.02s/trial, best loss: -0.845]"
     ]
    },
    {
     "name": "stderr",
     "output_type": "stream",
     "text": [
      "2025/04/15 17:02:49 WARNING mlflow.models.model: Input example should be provided to infer model signature if the model signature is not provided when logging the model.\n",
      "\n",
      "2025/04/15 17:02:49 INFO mlflow.tracking._tracking_service.client: 🏃 View run zealous-shrimp-617 at: https://lab5-service1-658438304896.us-west2.run.app/#/experiments/3/runs/99036e6ffc864299a5535c422b548e1b.\n",
      "\n",
      "2025/04/15 17:02:49 INFO mlflow.tracking._tracking_service.client: 🧪 View experiment at: https://lab5-service1-658438304896.us-west2.run.app/#/experiments/3.\n",
      "\n"
     ]
    },
    {
     "name": "stdout",
     "output_type": "stream",
     "text": [
      " 38%|███▊      | 19/50 [01:30<02:21,  4.57s/trial, best loss: -0.845]"
     ]
    },
    {
     "name": "stderr",
     "output_type": "stream",
     "text": [
      "2025/04/15 17:02:52 WARNING mlflow.models.model: Input example should be provided to infer model signature if the model signature is not provided when logging the model.\n",
      "\n",
      "2025/04/15 17:02:52 INFO mlflow.tracking._tracking_service.client: 🏃 View run suave-robin-307 at: https://lab5-service1-658438304896.us-west2.run.app/#/experiments/3/runs/fdfeb4e2bedc4504a28f763034cac3ac.\n",
      "\n",
      "2025/04/15 17:02:52 INFO mlflow.tracking._tracking_service.client: 🧪 View experiment at: https://lab5-service1-658438304896.us-west2.run.app/#/experiments/3.\n",
      "\n"
     ]
    },
    {
     "name": "stdout",
     "output_type": "stream",
     "text": [
      " 40%|████      | 20/50 [01:33<02:01,  4.04s/trial, best loss: -0.845]"
     ]
    },
    {
     "name": "stderr",
     "output_type": "stream",
     "text": [
      "2025/04/15 17:02:57 WARNING mlflow.models.model: Input example should be provided to infer model signature if the model signature is not provided when logging the model.\n",
      "\n",
      "2025/04/15 17:02:58 INFO mlflow.tracking._tracking_service.client: 🏃 View run selective-snake-607 at: https://lab5-service1-658438304896.us-west2.run.app/#/experiments/3/runs/5533972c535744fbb84088a5913701a5.\n",
      "\n",
      "2025/04/15 17:02:58 INFO mlflow.tracking._tracking_service.client: 🧪 View experiment at: https://lab5-service1-658438304896.us-west2.run.app/#/experiments/3.\n",
      "\n"
     ]
    },
    {
     "name": "stdout",
     "output_type": "stream",
     "text": [
      " 42%|████▏     | 21/50 [01:39<02:13,  4.59s/trial, best loss: -0.845]"
     ]
    },
    {
     "name": "stderr",
     "output_type": "stream",
     "text": [
      "2025/04/15 17:03:03 WARNING mlflow.models.model: Input example should be provided to infer model signature if the model signature is not provided when logging the model.\n",
      "\n",
      "2025/04/15 17:03:03 INFO mlflow.tracking._tracking_service.client: 🏃 View run bright-bass-209 at: https://lab5-service1-658438304896.us-west2.run.app/#/experiments/3/runs/e8d0d1b476de42ec8fdec39f89dbec33.\n",
      "\n",
      "2025/04/15 17:03:03 INFO mlflow.tracking._tracking_service.client: 🧪 View experiment at: https://lab5-service1-658438304896.us-west2.run.app/#/experiments/3.\n",
      "\n"
     ]
    },
    {
     "name": "stdout",
     "output_type": "stream",
     "text": [
      " 44%|████▍     | 22/50 [01:44<02:13,  4.78s/trial, best loss: -0.845]"
     ]
    },
    {
     "name": "stderr",
     "output_type": "stream",
     "text": [
      "2025/04/15 17:03:08 WARNING mlflow.models.model: Input example should be provided to infer model signature if the model signature is not provided when logging the model.\n",
      "\n",
      "2025/04/15 17:03:08 INFO mlflow.tracking._tracking_service.client: 🏃 View run invincible-finch-559 at: https://lab5-service1-658438304896.us-west2.run.app/#/experiments/3/runs/0c02a80a6b84416fa2d96defe7e79f7e.\n",
      "\n",
      "2025/04/15 17:03:08 INFO mlflow.tracking._tracking_service.client: 🧪 View experiment at: https://lab5-service1-658438304896.us-west2.run.app/#/experiments/3.\n",
      "\n"
     ]
    },
    {
     "name": "stdout",
     "output_type": "stream",
     "text": [
      " 46%|████▌     | 23/50 [01:49<02:10,  4.82s/trial, best loss: -0.849]"
     ]
    },
    {
     "name": "stderr",
     "output_type": "stream",
     "text": [
      "2025/04/15 17:03:14 WARNING mlflow.models.model: Input example should be provided to infer model signature if the model signature is not provided when logging the model.\n",
      "\n",
      "2025/04/15 17:03:14 INFO mlflow.tracking._tracking_service.client: 🏃 View run nervous-zebra-374 at: https://lab5-service1-658438304896.us-west2.run.app/#/experiments/3/runs/44938e969a174660b12683977bffe2cf.\n",
      "\n",
      "2025/04/15 17:03:14 INFO mlflow.tracking._tracking_service.client: 🧪 View experiment at: https://lab5-service1-658438304896.us-west2.run.app/#/experiments/3.\n",
      "\n"
     ]
    },
    {
     "name": "stdout",
     "output_type": "stream",
     "text": [
      " 48%|████▊     | 24/50 [01:56<02:18,  5.31s/trial, best loss: -0.85] "
     ]
    },
    {
     "name": "stderr",
     "output_type": "stream",
     "text": [
      "2025/04/15 17:03:19 WARNING mlflow.models.model: Input example should be provided to infer model signature if the model signature is not provided when logging the model.\n",
      "\n",
      "2025/04/15 17:03:19 INFO mlflow.tracking._tracking_service.client: 🏃 View run placid-whale-982 at: https://lab5-service1-658438304896.us-west2.run.app/#/experiments/3/runs/bd57e6da78ba4feea7dc1e292366dfdb.\n",
      "\n",
      "2025/04/15 17:03:19 INFO mlflow.tracking._tracking_service.client: 🧪 View experiment at: https://lab5-service1-658438304896.us-west2.run.app/#/experiments/3.\n",
      "\n"
     ]
    },
    {
     "name": "stdout",
     "output_type": "stream",
     "text": [
      " 50%|█████     | 25/50 [02:01<02:10,  5.20s/trial, best loss: -0.852]"
     ]
    },
    {
     "name": "stderr",
     "output_type": "stream",
     "text": [
      "2025/04/15 17:03:26 WARNING mlflow.models.model: Input example should be provided to infer model signature if the model signature is not provided when logging the model.\n",
      "\n",
      "2025/04/15 17:03:26 INFO mlflow.tracking._tracking_service.client: 🏃 View run sneaky-crow-541 at: https://lab5-service1-658438304896.us-west2.run.app/#/experiments/3/runs/59f9b6d474a74b90b33a19939f30fc44.\n",
      "\n",
      "2025/04/15 17:03:26 INFO mlflow.tracking._tracking_service.client: 🧪 View experiment at: https://lab5-service1-658438304896.us-west2.run.app/#/experiments/3.\n",
      "\n"
     ]
    },
    {
     "name": "stdout",
     "output_type": "stream",
     "text": [
      " 52%|█████▏    | 26/50 [02:07<02:17,  5.71s/trial, best loss: -0.852]"
     ]
    },
    {
     "name": "stderr",
     "output_type": "stream",
     "text": [
      "2025/04/15 17:03:33 WARNING mlflow.models.model: Input example should be provided to infer model signature if the model signature is not provided when logging the model.\n",
      "\n",
      "2025/04/15 17:03:33 INFO mlflow.tracking._tracking_service.client: 🏃 View run sneaky-stork-844 at: https://lab5-service1-658438304896.us-west2.run.app/#/experiments/3/runs/9711ee504df346c4b995d6aa111af4c6.\n",
      "\n",
      "2025/04/15 17:03:33 INFO mlflow.tracking._tracking_service.client: 🧪 View experiment at: https://lab5-service1-658438304896.us-west2.run.app/#/experiments/3.\n",
      "\n"
     ]
    },
    {
     "name": "stdout",
     "output_type": "stream",
     "text": [
      " 54%|█████▍    | 27/50 [02:14<02:17,  6.00s/trial, best loss: -0.852]"
     ]
    },
    {
     "name": "stderr",
     "output_type": "stream",
     "text": [
      "2025/04/15 17:03:38 WARNING mlflow.models.model: Input example should be provided to infer model signature if the model signature is not provided when logging the model.\n",
      "\n",
      "2025/04/15 17:03:38 INFO mlflow.tracking._tracking_service.client: 🏃 View run illustrious-yak-57 at: https://lab5-service1-658438304896.us-west2.run.app/#/experiments/3/runs/93055090be7f4700828d3b6aa4251226.\n",
      "\n",
      "2025/04/15 17:03:38 INFO mlflow.tracking._tracking_service.client: 🧪 View experiment at: https://lab5-service1-658438304896.us-west2.run.app/#/experiments/3.\n",
      "\n"
     ]
    },
    {
     "name": "stdout",
     "output_type": "stream",
     "text": [
      " 56%|█████▌    | 28/50 [02:20<02:09,  5.89s/trial, best loss: -0.852]"
     ]
    },
    {
     "name": "stderr",
     "output_type": "stream",
     "text": [
      "2025/04/15 17:03:43 WARNING mlflow.models.model: Input example should be provided to infer model signature if the model signature is not provided when logging the model.\n",
      "\n",
      "2025/04/15 17:03:43 INFO mlflow.tracking._tracking_service.client: 🏃 View run luminous-doe-72 at: https://lab5-service1-658438304896.us-west2.run.app/#/experiments/3/runs/fc536457b12340bda5abaf781093c674.\n",
      "\n",
      "2025/04/15 17:03:43 INFO mlflow.tracking._tracking_service.client: 🧪 View experiment at: https://lab5-service1-658438304896.us-west2.run.app/#/experiments/3.\n",
      "\n"
     ]
    },
    {
     "name": "stdout",
     "output_type": "stream",
     "text": [
      " 58%|█████▊    | 29/50 [02:24<01:55,  5.51s/trial, best loss: -0.852]"
     ]
    },
    {
     "name": "stderr",
     "output_type": "stream",
     "text": [
      "2025/04/15 17:03:49 WARNING mlflow.models.model: Input example should be provided to infer model signature if the model signature is not provided when logging the model.\n",
      "\n",
      "2025/04/15 17:03:49 INFO mlflow.tracking._tracking_service.client: 🏃 View run blushing-flea-850 at: https://lab5-service1-658438304896.us-west2.run.app/#/experiments/3/runs/d57e3ee634f94c43ac9350465e1e6023.\n",
      "\n",
      "2025/04/15 17:03:49 INFO mlflow.tracking._tracking_service.client: 🧪 View experiment at: https://lab5-service1-658438304896.us-west2.run.app/#/experiments/3.\n",
      "\n"
     ]
    },
    {
     "name": "stdout",
     "output_type": "stream",
     "text": [
      " 60%|██████    | 30/50 [02:31<01:56,  5.82s/trial, best loss: -0.852]"
     ]
    },
    {
     "name": "stderr",
     "output_type": "stream",
     "text": [
      "2025/04/15 17:03:55 WARNING mlflow.models.model: Input example should be provided to infer model signature if the model signature is not provided when logging the model.\n",
      "\n",
      "2025/04/15 17:03:55 INFO mlflow.tracking._tracking_service.client: 🏃 View run calm-snake-996 at: https://lab5-service1-658438304896.us-west2.run.app/#/experiments/3/runs/93251a27bf5041c78478736becb92d9f.\n",
      "\n",
      "2025/04/15 17:03:55 INFO mlflow.tracking._tracking_service.client: 🧪 View experiment at: https://lab5-service1-658438304896.us-west2.run.app/#/experiments/3.\n",
      "\n"
     ]
    },
    {
     "name": "stdout",
     "output_type": "stream",
     "text": [
      " 62%|██████▏   | 31/50 [02:36<01:48,  5.70s/trial, best loss: -0.8550000000000001]"
     ]
    },
    {
     "name": "stderr",
     "output_type": "stream",
     "text": [
      "2025/04/15 17:03:59 WARNING mlflow.models.model: Input example should be provided to infer model signature if the model signature is not provided when logging the model.\n",
      "\n",
      "2025/04/15 17:03:59 INFO mlflow.tracking._tracking_service.client: 🏃 View run skillful-panda-902 at: https://lab5-service1-658438304896.us-west2.run.app/#/experiments/3/runs/d7b9e22c497d41c487d5948621deb3a6.\n",
      "\n",
      "2025/04/15 17:03:59 INFO mlflow.tracking._tracking_service.client: 🧪 View experiment at: https://lab5-service1-658438304896.us-west2.run.app/#/experiments/3.\n",
      "\n"
     ]
    },
    {
     "name": "stdout",
     "output_type": "stream",
     "text": [
      " 64%|██████▍   | 32/50 [02:41<01:35,  5.28s/trial, best loss: -0.8550000000000001]"
     ]
    },
    {
     "name": "stderr",
     "output_type": "stream",
     "text": [
      "2025/04/15 17:04:06 WARNING mlflow.models.model: Input example should be provided to infer model signature if the model signature is not provided when logging the model.\n",
      "\n",
      "2025/04/15 17:04:06 INFO mlflow.tracking._tracking_service.client: 🏃 View run adorable-goose-233 at: https://lab5-service1-658438304896.us-west2.run.app/#/experiments/3/runs/7963a24c46834dfb8c686d5abfcadff8.\n",
      "\n",
      "2025/04/15 17:04:06 INFO mlflow.tracking._tracking_service.client: 🧪 View experiment at: https://lab5-service1-658438304896.us-west2.run.app/#/experiments/3.\n",
      "\n"
     ]
    },
    {
     "name": "stdout",
     "output_type": "stream",
     "text": [
      " 66%|██████▌   | 33/50 [02:48<01:40,  5.89s/trial, best loss: -0.8550000000000001]"
     ]
    },
    {
     "name": "stderr",
     "output_type": "stream",
     "text": [
      "2025/04/15 17:04:13 WARNING mlflow.models.model: Input example should be provided to infer model signature if the model signature is not provided when logging the model.\n",
      "\n",
      "2025/04/15 17:04:13 INFO mlflow.tracking._tracking_service.client: 🏃 View run sincere-gull-259 at: https://lab5-service1-658438304896.us-west2.run.app/#/experiments/3/runs/89257db80f9b409dbb7580f2c6f9ad91.\n",
      "\n",
      "2025/04/15 17:04:13 INFO mlflow.tracking._tracking_service.client: 🧪 View experiment at: https://lab5-service1-658438304896.us-west2.run.app/#/experiments/3.\n",
      "\n"
     ]
    },
    {
     "name": "stdout",
     "output_type": "stream",
     "text": [
      " 68%|██████▊   | 34/50 [02:55<01:39,  6.23s/trial, best loss: -0.8550000000000001]"
     ]
    },
    {
     "name": "stderr",
     "output_type": "stream",
     "text": [
      "2025/04/15 17:04:19 WARNING mlflow.models.model: Input example should be provided to infer model signature if the model signature is not provided when logging the model.\n",
      "\n",
      "2025/04/15 17:04:19 INFO mlflow.tracking._tracking_service.client: 🏃 View run nebulous-finch-116 at: https://lab5-service1-658438304896.us-west2.run.app/#/experiments/3/runs/60fcb1730c7c4d0fb5417fbe6c7630a6.\n",
      "\n",
      "2025/04/15 17:04:19 INFO mlflow.tracking._tracking_service.client: 🧪 View experiment at: https://lab5-service1-658438304896.us-west2.run.app/#/experiments/3.\n",
      "\n"
     ]
    },
    {
     "name": "stdout",
     "output_type": "stream",
     "text": [
      " 70%|███████   | 35/50 [03:00<01:30,  6.00s/trial, best loss: -0.8550000000000001]"
     ]
    },
    {
     "name": "stderr",
     "output_type": "stream",
     "text": [
      "2025/04/15 17:04:24 WARNING mlflow.models.model: Input example should be provided to infer model signature if the model signature is not provided when logging the model.\n",
      "\n",
      "2025/04/15 17:04:24 INFO mlflow.tracking._tracking_service.client: 🏃 View run invincible-moose-198 at: https://lab5-service1-658438304896.us-west2.run.app/#/experiments/3/runs/1f2a2ba30acf4ae39b99c9f995fac32e.\n",
      "\n",
      "2025/04/15 17:04:24 INFO mlflow.tracking._tracking_service.client: 🧪 View experiment at: https://lab5-service1-658438304896.us-west2.run.app/#/experiments/3.\n",
      "\n"
     ]
    },
    {
     "name": "stdout",
     "output_type": "stream",
     "text": [
      " 72%|███████▏  | 36/50 [03:05<01:19,  5.66s/trial, best loss: -0.8550000000000001]"
     ]
    },
    {
     "name": "stderr",
     "output_type": "stream",
     "text": [
      "2025/04/15 17:04:28 WARNING mlflow.models.model: Input example should be provided to infer model signature if the model signature is not provided when logging the model.\n",
      "\n",
      "2025/04/15 17:04:28 INFO mlflow.tracking._tracking_service.client: 🏃 View run adventurous-dove-632 at: https://lab5-service1-658438304896.us-west2.run.app/#/experiments/3/runs/988fc0f071b34df995e70dfefe03f6cb.\n",
      "\n",
      "2025/04/15 17:04:28 INFO mlflow.tracking._tracking_service.client: 🧪 View experiment at: https://lab5-service1-658438304896.us-west2.run.app/#/experiments/3.\n",
      "\n"
     ]
    },
    {
     "name": "stdout",
     "output_type": "stream",
     "text": [
      " 74%|███████▍  | 37/50 [03:10<01:08,  5.31s/trial, best loss: -0.8550000000000001]"
     ]
    },
    {
     "name": "stderr",
     "output_type": "stream",
     "text": [
      "2025/04/15 17:04:31 WARNING mlflow.models.model: Input example should be provided to infer model signature if the model signature is not provided when logging the model.\n",
      "\n",
      "2025/04/15 17:04:31 INFO mlflow.tracking._tracking_service.client: 🏃 View run polite-flea-174 at: https://lab5-service1-658438304896.us-west2.run.app/#/experiments/3/runs/15ee9a82144c4740914c8dda91ccb051.\n",
      "\n",
      "2025/04/15 17:04:31 INFO mlflow.tracking._tracking_service.client: 🧪 View experiment at: https://lab5-service1-658438304896.us-west2.run.app/#/experiments/3.\n",
      "\n"
     ]
    },
    {
     "name": "stdout",
     "output_type": "stream",
     "text": [
      " 76%|███████▌  | 38/50 [03:13<00:55,  4.61s/trial, best loss: -0.8550000000000001]"
     ]
    },
    {
     "name": "stderr",
     "output_type": "stream",
     "text": [
      "2025/04/15 17:04:38 WARNING mlflow.models.model: Input example should be provided to infer model signature if the model signature is not provided when logging the model.\n",
      "\n",
      "2025/04/15 17:04:38 INFO mlflow.tracking._tracking_service.client: 🏃 View run victorious-ox-68 at: https://lab5-service1-658438304896.us-west2.run.app/#/experiments/3/runs/04ecc61943394b159c108d6f63f182f3.\n",
      "\n",
      "2025/04/15 17:04:38 INFO mlflow.tracking._tracking_service.client: 🧪 View experiment at: https://lab5-service1-658438304896.us-west2.run.app/#/experiments/3.\n",
      "\n"
     ]
    },
    {
     "name": "stdout",
     "output_type": "stream",
     "text": [
      " 78%|███████▊  | 39/50 [03:20<00:58,  5.30s/trial, best loss: -0.8550000000000001]"
     ]
    },
    {
     "name": "stderr",
     "output_type": "stream",
     "text": [
      "2025/04/15 17:04:44 WARNING mlflow.models.model: Input example should be provided to infer model signature if the model signature is not provided when logging the model.\n",
      "\n",
      "2025/04/15 17:04:44 INFO mlflow.tracking._tracking_service.client: 🏃 View run grandiose-owl-978 at: https://lab5-service1-658438304896.us-west2.run.app/#/experiments/3/runs/df0073b253d84606801cd59f11f9d92d.\n",
      "\n",
      "2025/04/15 17:04:44 INFO mlflow.tracking._tracking_service.client: 🧪 View experiment at: https://lab5-service1-658438304896.us-west2.run.app/#/experiments/3.\n",
      "\n"
     ]
    },
    {
     "name": "stdout",
     "output_type": "stream",
     "text": [
      " 80%|████████  | 40/50 [03:25<00:53,  5.37s/trial, best loss: -0.8550000000000001]"
     ]
    },
    {
     "name": "stderr",
     "output_type": "stream",
     "text": [
      "2025/04/15 17:04:49 WARNING mlflow.models.model: Input example should be provided to infer model signature if the model signature is not provided when logging the model.\n",
      "\n",
      "2025/04/15 17:04:49 INFO mlflow.tracking._tracking_service.client: 🏃 View run merciful-hen-211 at: https://lab5-service1-658438304896.us-west2.run.app/#/experiments/3/runs/249c323fc9ec4463833995e918eeedbf.\n",
      "\n",
      "2025/04/15 17:04:49 INFO mlflow.tracking._tracking_service.client: 🧪 View experiment at: https://lab5-service1-658438304896.us-west2.run.app/#/experiments/3.\n",
      "\n"
     ]
    },
    {
     "name": "stdout",
     "output_type": "stream",
     "text": [
      " 82%|████████▏ | 41/50 [03:30<00:47,  5.26s/trial, best loss: -0.8550000000000001]"
     ]
    },
    {
     "name": "stderr",
     "output_type": "stream",
     "text": [
      "2025/04/15 17:04:53 WARNING mlflow.models.model: Input example should be provided to infer model signature if the model signature is not provided when logging the model.\n",
      "\n",
      "2025/04/15 17:04:53 INFO mlflow.tracking._tracking_service.client: 🏃 View run resilient-duck-274 at: https://lab5-service1-658438304896.us-west2.run.app/#/experiments/3/runs/f975890785424d2789b28b2fb157948b.\n",
      "\n",
      "2025/04/15 17:04:53 INFO mlflow.tracking._tracking_service.client: 🧪 View experiment at: https://lab5-service1-658438304896.us-west2.run.app/#/experiments/3.\n",
      "\n"
     ]
    },
    {
     "name": "stdout",
     "output_type": "stream",
     "text": [
      " 84%|████████▍ | 42/50 [03:35<00:39,  4.97s/trial, best loss: -0.8550000000000001]"
     ]
    },
    {
     "name": "stderr",
     "output_type": "stream",
     "text": [
      "/opt/anaconda3/envs/mlops/lib/python3.12/site-packages/sklearn/svm/_base.py:1235: ConvergenceWarning: Liblinear failed to converge, increase the number of iterations.\n",
      "  warnings.warn(\n",
      "\n",
      "/opt/anaconda3/envs/mlops/lib/python3.12/site-packages/sklearn/svm/_base.py:1235: ConvergenceWarning: Liblinear failed to converge, increase the number of iterations.\n",
      "  warnings.warn(\n",
      "\n",
      "/opt/anaconda3/envs/mlops/lib/python3.12/site-packages/sklearn/svm/_base.py:1235: ConvergenceWarning: Liblinear failed to converge, increase the number of iterations.\n",
      "  warnings.warn(\n",
      "\n",
      "2025/04/15 17:04:57 WARNING mlflow.models.model: Input example should be provided to infer model signature if the model signature is not provided when logging the model.\n",
      "\n",
      "2025/04/15 17:04:57 INFO mlflow.tracking._tracking_service.client: 🏃 View run blushing-rook-826 at: https://lab5-service1-658438304896.us-west2.run.app/#/experiments/3/runs/7a2e7dbb8a414d43b8fe0247f19e0472.\n",
      "\n",
      "2025/04/15 17:04:57 INFO mlflow.tracking._tracking_service.client: 🧪 View experiment at: https://lab5-service1-658438304896.us-west2.run.app/#/experiments/3.\n",
      "\n"
     ]
    },
    {
     "name": "stdout",
     "output_type": "stream",
     "text": [
      " 86%|████████▌ | 43/50 [03:38<00:32,  4.63s/trial, best loss: -0.8550000000000001]"
     ]
    },
    {
     "name": "stderr",
     "output_type": "stream",
     "text": [
      "2025/04/15 17:05:01 WARNING mlflow.models.model: Input example should be provided to infer model signature if the model signature is not provided when logging the model.\n",
      "\n",
      "2025/04/15 17:05:01 INFO mlflow.tracking._tracking_service.client: 🏃 View run delightful-cod-91 at: https://lab5-service1-658438304896.us-west2.run.app/#/experiments/3/runs/7c7416c501374d919098ee1c08e24573.\n",
      "\n",
      "2025/04/15 17:05:01 INFO mlflow.tracking._tracking_service.client: 🧪 View experiment at: https://lab5-service1-658438304896.us-west2.run.app/#/experiments/3.\n",
      "\n"
     ]
    },
    {
     "name": "stdout",
     "output_type": "stream",
     "text": [
      " 88%|████████▊ | 44/50 [03:43<00:26,  4.49s/trial, best loss: -0.8550000000000001]"
     ]
    },
    {
     "name": "stderr",
     "output_type": "stream",
     "text": [
      "2025/04/15 17:05:08 WARNING mlflow.models.model: Input example should be provided to infer model signature if the model signature is not provided when logging the model.\n",
      "\n",
      "2025/04/15 17:05:08 INFO mlflow.tracking._tracking_service.client: 🏃 View run intrigued-ray-276 at: https://lab5-service1-658438304896.us-west2.run.app/#/experiments/3/runs/1082d67832f24f5d90be955e514f1922.\n",
      "\n",
      "2025/04/15 17:05:08 INFO mlflow.tracking._tracking_service.client: 🧪 View experiment at: https://lab5-service1-658438304896.us-west2.run.app/#/experiments/3.\n",
      "\n"
     ]
    },
    {
     "name": "stdout",
     "output_type": "stream",
     "text": [
      " 90%|█████████ | 45/50 [03:50<00:26,  5.29s/trial, best loss: -0.8550000000000001]"
     ]
    },
    {
     "name": "stderr",
     "output_type": "stream",
     "text": [
      "2025/04/15 17:05:11 WARNING mlflow.models.model: Input example should be provided to infer model signature if the model signature is not provided when logging the model.\n",
      "\n",
      "2025/04/15 17:05:11 INFO mlflow.tracking._tracking_service.client: 🏃 View run redolent-worm-487 at: https://lab5-service1-658438304896.us-west2.run.app/#/experiments/3/runs/67f11cf909184d49a24445762cd1f9c6.\n",
      "\n",
      "2025/04/15 17:05:11 INFO mlflow.tracking._tracking_service.client: 🧪 View experiment at: https://lab5-service1-658438304896.us-west2.run.app/#/experiments/3.\n",
      "\n"
     ]
    },
    {
     "name": "stdout",
     "output_type": "stream",
     "text": [
      " 92%|█████████▏| 46/50 [03:52<00:18,  4.53s/trial, best loss: -0.8550000000000001]"
     ]
    },
    {
     "name": "stderr",
     "output_type": "stream",
     "text": [
      "2025/04/15 17:05:15 WARNING mlflow.models.model: Input example should be provided to infer model signature if the model signature is not provided when logging the model.\n",
      "\n",
      "2025/04/15 17:05:15 INFO mlflow.tracking._tracking_service.client: 🏃 View run sincere-conch-300 at: https://lab5-service1-658438304896.us-west2.run.app/#/experiments/3/runs/27835461b348472bba0594614a18df18.\n",
      "\n",
      "2025/04/15 17:05:15 INFO mlflow.tracking._tracking_service.client: 🧪 View experiment at: https://lab5-service1-658438304896.us-west2.run.app/#/experiments/3.\n",
      "\n"
     ]
    },
    {
     "name": "stdout",
     "output_type": "stream",
     "text": [
      " 94%|█████████▍| 47/50 [03:57<00:13,  4.46s/trial, best loss: -0.8550000000000001]"
     ]
    },
    {
     "name": "stderr",
     "output_type": "stream",
     "text": [
      "2025/04/15 17:05:22 WARNING mlflow.models.model: Input example should be provided to infer model signature if the model signature is not provided when logging the model.\n",
      "\n",
      "2025/04/15 17:05:22 INFO mlflow.tracking._tracking_service.client: 🏃 View run overjoyed-foal-368 at: https://lab5-service1-658438304896.us-west2.run.app/#/experiments/3/runs/0075757b67b14afd85a3181390874351.\n",
      "\n",
      "2025/04/15 17:05:22 INFO mlflow.tracking._tracking_service.client: 🧪 View experiment at: https://lab5-service1-658438304896.us-west2.run.app/#/experiments/3.\n",
      "\n"
     ]
    },
    {
     "name": "stdout",
     "output_type": "stream",
     "text": [
      " 96%|█████████▌| 48/50 [04:03<00:10,  5.07s/trial, best loss: -0.8550000000000001]"
     ]
    },
    {
     "name": "stderr",
     "output_type": "stream",
     "text": [
      "2025/04/15 17:05:25 WARNING mlflow.models.model: Input example should be provided to infer model signature if the model signature is not provided when logging the model.\n",
      "\n",
      "2025/04/15 17:05:25 INFO mlflow.tracking._tracking_service.client: 🏃 View run gifted-ram-496 at: https://lab5-service1-658438304896.us-west2.run.app/#/experiments/3/runs/8d71f2af01394fe3807fdd4f98220188.\n",
      "\n",
      "2025/04/15 17:05:25 INFO mlflow.tracking._tracking_service.client: 🧪 View experiment at: https://lab5-service1-658438304896.us-west2.run.app/#/experiments/3.\n",
      "\n"
     ]
    },
    {
     "name": "stdout",
     "output_type": "stream",
     "text": [
      " 98%|█████████▊| 49/50 [04:06<00:04,  4.45s/trial, best loss: -0.8550000000000001]"
     ]
    },
    {
     "name": "stderr",
     "output_type": "stream",
     "text": [
      "2025/04/15 17:05:28 WARNING mlflow.models.model: Input example should be provided to infer model signature if the model signature is not provided when logging the model.\n",
      "\n",
      "2025/04/15 17:05:28 INFO mlflow.tracking._tracking_service.client: 🏃 View run capable-mouse-954 at: https://lab5-service1-658438304896.us-west2.run.app/#/experiments/3/runs/11e1008dbf5244549b135a860930873c.\n",
      "\n",
      "2025/04/15 17:05:28 INFO mlflow.tracking._tracking_service.client: 🧪 View experiment at: https://lab5-service1-658438304896.us-west2.run.app/#/experiments/3.\n",
      "\n"
     ]
    },
    {
     "name": "stdout",
     "output_type": "stream",
     "text": [
      "100%|██████████| 50/50 [04:10<00:00,  5.00s/trial, best loss: -0.8550000000000001]\n"
     ]
    }
   ],
   "source": [
    "mlflow.set_experiment('classification_models')\n",
    "\n",
    "def objective(params):\n",
    "    with mlflow.start_run():\n",
    "        classifier_type = params['type']\n",
    "        del params['type']\n",
    "        \n",
    "        if classifier_type == 'rf':\n",
    "            clf = RandomForestClassifier(**params)\n",
    "        elif classifier_type == 'lr':\n",
    "            clf = LogisticRegression(**params)\n",
    "        elif classifier_type == 'gb':\n",
    "            clf = XGBClassifier(eval_metric='mlogloss', **params)\n",
    "        else:\n",
    "            return 0\n",
    "        \n",
    "        acc = cross_val_score(clf, X, y).mean()\n",
    "\n",
    "        mlflow.set_tag(\"Model\", classifier_type)\n",
    "        mlflow.log_params(params)\n",
    "        mlflow.log_metric(\"accuracy\", acc)\n",
    "        mlflow.sklearn.log_model(clf, artifact_path='better_models')\n",
    "        mlflow.end_run()\n",
    "        return {'loss': -acc, 'status': STATUS_OK}\n",
    "\n",
    "search_space = hp.choice('classifier_type', [\n",
    "    {\n",
    "        'type': 'rf',\n",
    "        'n_estimators': hp.randint('rf_n_estimators', 20, 500),\n",
    "        'max_depth': hp.choice('rf_max_depth', [None, hp.randint('rf_max_depth_int', 1, 30)]),\n",
    "        'min_samples_split': hp.randint('rf_min_samples_split', 2, 10)\n",
    "    },\n",
    "    {\n",
    "        'type': 'lr',\n",
    "        'C': hp.loguniform('lr_C', -4, 2),\n",
    "        'penalty': hp.choice('lr_penalty', ['l1', 'l2']),\n",
    "        'solver': 'liblinear'\n",
    "    },\n",
    "    {\n",
    "        'type': 'gb',\n",
    "        'n_estimators': hp.randint('gb_n_estimators', 50, 200),\n",
    "        'max_depth': hp.choice('gb_max_depth', [3, 6, 9]),\n",
    "        'learning_rate': hp.uniform('gb_learning_rate', 0.01, 0.2)\n",
    "    }\n",
    "])\n",
    "\n",
    "algo = tpe.suggest\n",
    "trials = Trials()\n",
    "best_result = fmin(\n",
    "    fn=objective,\n",
    "    space=search_space,\n",
    "    algo=algo,\n",
    "    max_evals=50,\n",
    "    trials=trials)\n"
   ]
  },
  {
   "cell_type": "markdown",
   "metadata": {},
   "source": [
    "Top 3 Models \n",
    "\n",
    "1. xgboost: \n",
    "    - learning rate: 0.19993134415325714\n",
    "    - max_depth: 6\n",
    "    - n_estimators: 70\n",
    "2. xgboost:\n",
    "    - learning rate: 0.12810539688371275\n",
    "    - max_depth: 6\n",
    "    - n_estimators: 76\n",
    "3. xgboost:\n",
    "    - learning rate: 0.1428572364211819\n",
    "    - max_depth: 6\n",
    "    - n_estimators: 79\n",
    "\n"
   ]
  },
  {
   "cell_type": "code",
   "execution_count": 41,
   "metadata": {},
   "outputs": [
    {
     "name": "stderr",
     "output_type": "stream",
     "text": [
      "2025/03/20 18:18:04 WARNING mlflow.models.model: Input example should be provided to infer model signature if the model signature is not provided when logging the model.\n",
      "2025/03/20 18:18:06 WARNING mlflow.models.model: Input example should be provided to infer model signature if the model signature is not provided when logging the model.\n",
      "2025/03/20 18:18:08 WARNING mlflow.models.model: Input example should be provided to infer model signature if the model signature is not provided when logging the model.\n"
     ]
    }
   ],
   "source": [
    "import mlflow\n",
    "import mlflow.sklearn\n",
    "from sklearn.model_selection import train_test_split\n",
    "from xgboost import XGBClassifier\n",
    "from sklearn.metrics import accuracy_score, precision_score, recall_score\n",
    "import pandas as pd\n",
    "import os\n",
    "\n",
    "# Assuming X and y are defined earlier in the notebook\n",
    "X_train, X_temp, y_train, y_temp = train_test_split(X, y, test_size=0.4, random_state=42)\n",
    "X_val, X_test, y_val, y_test = train_test_split(X_temp, y_temp, test_size=0.5, random_state=42)\n",
    "\n",
    "# Define the best models with their hyperparameters\n",
    "best_models = [\n",
    "    {\n",
    "        \"model\": \"xgboost\",\n",
    "        \"learning_rate\": 0.19993134415325714,\n",
    "        \"max_depth\": 6,\n",
    "        \"n_estimators\": 70\n",
    "    },\n",
    "    {\n",
    "        \"model\": \"xgboost\",\n",
    "        \"learning_rate\": 0.12810539688371275,\n",
    "        \"max_depth\": 6,\n",
    "        \"n_estimators\": 76\n",
    "    },\n",
    "    {\n",
    "        \"model\": \"xgboost\",\n",
    "        \"learning_rate\": 0.1428572364211819,\n",
    "        \"max_depth\": 6,\n",
    "        \"n_estimators\": 79\n",
    "    }\n",
    "]\n",
    "\n",
    "# Create a new experiment\n",
    "experiment_name = \"retrained_xgboost_models\"\n",
    "mlflow.set_experiment(experiment_name)\n",
    "\n",
    "# Ensure any active run is ended before starting a new one\n",
    "if mlflow.active_run():\n",
    "    mlflow.end_run()\n",
    "\n",
    "# Convert datasets to DataFrame for logging\n",
    "X_train_df = pd.DataFrame(X_train)\n",
    "X_val_df = pd.DataFrame(X_val)\n",
    "X_test_df = pd.DataFrame(X_test)\n",
    "y_train_df = pd.DataFrame(y_train)\n",
    "y_val_df = pd.DataFrame(y_val)\n",
    "y_test_df = pd.DataFrame(y_test)\n",
    "\n",
    "# Retrain and log the models\n",
    "for model_params in best_models:\n",
    "    with mlflow.start_run():\n",
    "        # Retrain the model\n",
    "        model = XGBClassifier(\n",
    "            learning_rate=model_params[\"learning_rate\"],\n",
    "            max_depth=model_params[\"max_depth\"],\n",
    "            n_estimators=model_params[\"n_estimators\"]\n",
    "        )\n",
    "        model.fit(X_train, y_train)\n",
    "        \n",
    "        # Evaluate the model\n",
    "        y_pred = model.predict(X_val)\n",
    "        accuracy = accuracy_score(y_val, y_pred)\n",
    "        precision = precision_score(y_val, y_pred, average='weighted')\n",
    "        recall = recall_score(y_val, y_pred, average='weighted')\n",
    "    \n",
    "        # Log datasets as artifacts\n",
    "        # Create temporary CSV files and log them\n",
    "        temp_dir = \"temp_artifacts\"\n",
    "        os.makedirs(temp_dir, exist_ok=True)\n",
    "        \n",
    "        X_train_path = os.path.join(temp_dir, \"X_train.csv\")\n",
    "        X_val_path = os.path.join(temp_dir, \"X_val.csv\")\n",
    "        X_test_path = os.path.join(temp_dir, \"X_test.csv\")\n",
    "        y_train_path = os.path.join(temp_dir, \"y_train.csv\")\n",
    "        y_val_path = os.path.join(temp_dir, \"y_val.csv\")\n",
    "        y_test_path = os.path.join(temp_dir, \"y_test.csv\")\n",
    "        \n",
    "        X_train_df.to_csv(X_train_path, index=False)\n",
    "        X_val_df.to_csv(X_val_path, index=False)\n",
    "        X_test_df.to_csv(X_test_path, index=False)\n",
    "        y_train_df.to_csv(y_train_path, index=False)\n",
    "        y_val_df.to_csv(y_val_path, index=False)\n",
    "        y_test_df.to_csv(y_test_path, index=False)\n",
    "        \n",
    "        mlflow.log_artifact(X_train_path)\n",
    "        mlflow.log_artifact(X_val_path)\n",
    "        mlflow.log_artifact(X_test_path)\n",
    "        mlflow.log_artifact(y_train_path)\n",
    "        mlflow.log_artifact(y_val_path)\n",
    "        mlflow.log_artifact(y_test_path)\n",
    "        \n",
    "        # Log parameters and metrics\n",
    "        mlflow.log_param(\"model\", model_params[\"model\"])\n",
    "        mlflow.log_param(\"learning_rate\", model_params[\"learning_rate\"])\n",
    "        mlflow.log_param(\"max_depth\", model_params[\"max_depth\"])\n",
    "        mlflow.log_param(\"n_estimators\", model_params[\"n_estimators\"])\n",
    "        mlflow.log_metric(\"accuracy\", accuracy)\n",
    "        mlflow.log_metric(\"precision\", precision)\n",
    "        mlflow.log_metric(\"recall\", recall)\n",
    "        \n",
    "        # Log the model\n",
    "        mlflow.sklearn.log_model(model, \"model\")\n"
   ]
  },
  {
   "cell_type": "markdown",
   "metadata": {},
   "source": [
    "d7e1ec2bcb954c75980e1c90cfdd65a5\n",
    "caec26aa5bf140c480de05d5811c6e05\n",
    "c11f74b4c80243759a7e0e36568b9434"
   ]
  },
  {
   "cell_type": "code",
   "execution_count": 43,
   "metadata": {},
   "outputs": [
    {
     "name": "stdout",
     "output_type": "stream",
     "text": [
      "Registered model: simulated_data_classification_model_1, version: 1\n",
      "Model source: /Users/matthewohanian/Desktop/ML Ops/mlruns/5/d7e1ec2bcb954c75980e1c90cfdd65a5/artifacts/model\n",
      "Run ID: d7e1ec2bcb954c75980e1c90cfdd65a5\n",
      "\n",
      "Registered model: simulated_data_classification_model_2, version: 1\n",
      "Model source: /Users/matthewohanian/Desktop/ML Ops/mlruns/5/caec26aa5bf140c480de05d5811c6e05/artifacts/model\n",
      "Run ID: caec26aa5bf140c480de05d5811c6e05\n",
      "\n",
      "Registered model: simulated_data_classification_model_3, version: 1\n",
      "Model source: /Users/matthewohanian/Desktop/ML Ops/mlruns/5/c11f74b4c80243759a7e0e36568b9434/artifacts/model\n",
      "Run ID: c11f74b4c80243759a7e0e36568b9434\n",
      "\n"
     ]
    },
    {
     "name": "stderr",
     "output_type": "stream",
     "text": [
      "Successfully registered model 'simulated_data_classification_model_1'.\n",
      "Created version '1' of model 'simulated_data_classification_model_1'.\n",
      "Successfully registered model 'simulated_data_classification_model_2'.\n",
      "Created version '1' of model 'simulated_data_classification_model_2'.\n",
      "Successfully registered model 'simulated_data_classification_model_3'.\n",
      "Created version '1' of model 'simulated_data_classification_model_3'.\n"
     ]
    }
   ],
   "source": [
    "# Register the models from the specified run IDs\n",
    "import mlflow\n",
    "from mlflow.tracking import MlflowClient\n",
    "\n",
    "# The run IDs from the previous cell\n",
    "run_ids = [\n",
    "    \"d7e1ec2bcb954c75980e1c90cfdd65a5\",\n",
    "    \"caec26aa5bf140c480de05d5811c6e05\",\n",
    "    \"c11f74b4c80243759a7e0e36568b9434\"\n",
    "]\n",
    "\n",
    "client = MlflowClient()\n",
    "\n",
    "# Register each model\n",
    "for i, run_id in enumerate(run_ids):\n",
    "    model_uri = f\"runs:/{run_id}/model\"\n",
    "    model_name = f\"simulated_data_classification_model_{i+1}\"\n",
    "    \n",
    "    try:\n",
    "        model_details = mlflow.register_model(model_uri=model_uri, name=model_name)\n",
    "        print(f\"Registered model: {model_name}, version: {model_details.version}\")\n",
    "        print(f\"Model source: {model_details.source}\")\n",
    "        print(f\"Run ID: {run_id}\\n\")\n",
    "    except Exception as e:\n",
    "        print(f\"Error registering model from run {run_id}: {e}\")\n",
    "\n"
   ]
  },
  {
   "cell_type": "code",
   "execution_count": null,
   "metadata": {},
   "outputs": [],
   "source": []
  }
 ],
 "metadata": {
  "kernelspec": {
   "display_name": "mlops",
   "language": "python",
   "name": "python3"
  },
  "language_info": {
   "codemirror_mode": {
    "name": "ipython",
    "version": 3
   },
   "file_extension": ".py",
   "mimetype": "text/x-python",
   "name": "python",
   "nbconvert_exporter": "python",
   "pygments_lexer": "ipython3",
   "version": "3.12.9"
  }
 },
 "nbformat": 4,
 "nbformat_minor": 2
}
